{
 "cells": [
  {
   "cell_type": "code",
   "execution_count": 21,
   "id": "622b3c0a-651b-46b9-a5e7-d4618572e572",
   "metadata": {},
   "outputs": [],
   "source": [
    "import os\n",
    "DATA_DIR = os.path.join(os.path.abspath(os.path.join(os.path.curdir, \"..\")), \"data\")\n",
    "\n",
    "model_checkpoint = os.path.join(DATA_DIR, \"models\",\"checkpoints\",\"checkpoint-2500/\")\n"
   ]
  },
  {
   "cell_type": "code",
   "execution_count": 22,
   "id": "557af0f4-72b9-4ca1-b66d-608d84b09e95",
   "metadata": {},
   "outputs": [],
   "source": [
    "from transformers import AutoTokenizer\n",
    "    \n",
    "tokenizer = AutoTokenizer.from_pretrained(model_checkpoint)"
   ]
  },
  {
   "cell_type": "code",
   "execution_count": 23,
   "id": "539d0190-6217-45c2-a03b-f4cf25903cbb",
   "metadata": {},
   "outputs": [
    {
     "data": {
      "text/plain": [
       "PreTrainedTokenizerFast(name_or_path='/Users/max/Documents/projects/ai/sequence-labeling/data/models/checkpoints/checkpoint-2500/', vocab_size=30522, model_max_len=512, is_fast=True, padding_side='right', special_tokens={'unk_token': '[UNK]', 'sep_token': '[SEP]', 'pad_token': '[PAD]', 'cls_token': '[CLS]', 'mask_token': '[MASK]'})"
      ]
     },
     "execution_count": 23,
     "metadata": {},
     "output_type": "execute_result"
    }
   ],
   "source": [
    "tokenizer"
   ]
  },
  {
   "cell_type": "code",
   "execution_count": 20,
   "id": "2585ca49-7bff-41d1-af94-6a72ec07bdaa",
   "metadata": {},
   "outputs": [],
   "source": [
    "import transformers\n",
    "assert isinstance(tokenizer, transformers.PreTrainedTokenizerFast)"
   ]
  },
  {
   "cell_type": "code",
   "execution_count": 5,
   "id": "0a2f3b2a-36eb-4d15-8911-fbf6bce5549c",
   "metadata": {},
   "outputs": [
    {
     "data": {
      "text/plain": [
       "{'input_ids': [101, 7592, 1010, 2023, 2003, 2028, 6251, 999, 2204, 2305, 999, 102], 'attention_mask': [1, 1, 1, 1, 1, 1, 1, 1, 1, 1, 1, 1]}"
      ]
     },
     "execution_count": 5,
     "metadata": {},
     "output_type": "execute_result"
    }
   ],
   "source": [
    "tokenized_input = tokenizer(\"Hello, this is one sentence! Good night!\")\n",
    "tokenized_input"
   ]
  },
  {
   "cell_type": "code",
   "execution_count": 6,
   "id": "c1312d55-c483-4181-bda7-6cde52f91a33",
   "metadata": {},
   "outputs": [
    {
     "name": "stdout",
     "output_type": "stream",
     "text": [
      "['[CLS]', 'hello', ',', 'this', 'is', 'one', 'sentence', '!', 'good', 'night', '!', '[SEP]']\n"
     ]
    }
   ],
   "source": [
    "\n",
    "tokens = tokenizer.convert_ids_to_tokens(tokenized_input[\"input_ids\"])\n",
    "print(tokens)"
   ]
  },
  {
   "cell_type": "code",
   "execution_count": 7,
   "id": "37dc0355-4d0e-43a6-a55e-e77dc9332958",
   "metadata": {},
   "outputs": [],
   "source": [
    "from transformers import AutoModelForTokenClassification\n",
    "\n",
    "model = AutoModelForTokenClassification.from_pretrained(model_checkpoint)"
   ]
  },
  {
   "cell_type": "code",
   "execution_count": 8,
   "id": "186d8818-12b1-48ef-a924-2bf11e66970d",
   "metadata": {},
   "outputs": [
    {
     "data": {
      "text/plain": [
       "DistilBertForTokenClassification(\n",
       "  (distilbert): DistilBertModel(\n",
       "    (embeddings): Embeddings(\n",
       "      (word_embeddings): Embedding(30522, 768, padding_idx=0)\n",
       "      (position_embeddings): Embedding(512, 768)\n",
       "      (LayerNorm): LayerNorm((768,), eps=1e-12, elementwise_affine=True)\n",
       "      (dropout): Dropout(p=0.1, inplace=False)\n",
       "    )\n",
       "    (transformer): Transformer(\n",
       "      (layer): ModuleList(\n",
       "        (0): TransformerBlock(\n",
       "          (attention): MultiHeadSelfAttention(\n",
       "            (dropout): Dropout(p=0.1, inplace=False)\n",
       "            (q_lin): Linear(in_features=768, out_features=768, bias=True)\n",
       "            (k_lin): Linear(in_features=768, out_features=768, bias=True)\n",
       "            (v_lin): Linear(in_features=768, out_features=768, bias=True)\n",
       "            (out_lin): Linear(in_features=768, out_features=768, bias=True)\n",
       "          )\n",
       "          (sa_layer_norm): LayerNorm((768,), eps=1e-12, elementwise_affine=True)\n",
       "          (ffn): FFN(\n",
       "            (dropout): Dropout(p=0.1, inplace=False)\n",
       "            (lin1): Linear(in_features=768, out_features=3072, bias=True)\n",
       "            (lin2): Linear(in_features=3072, out_features=768, bias=True)\n",
       "          )\n",
       "          (output_layer_norm): LayerNorm((768,), eps=1e-12, elementwise_affine=True)\n",
       "        )\n",
       "        (1): TransformerBlock(\n",
       "          (attention): MultiHeadSelfAttention(\n",
       "            (dropout): Dropout(p=0.1, inplace=False)\n",
       "            (q_lin): Linear(in_features=768, out_features=768, bias=True)\n",
       "            (k_lin): Linear(in_features=768, out_features=768, bias=True)\n",
       "            (v_lin): Linear(in_features=768, out_features=768, bias=True)\n",
       "            (out_lin): Linear(in_features=768, out_features=768, bias=True)\n",
       "          )\n",
       "          (sa_layer_norm): LayerNorm((768,), eps=1e-12, elementwise_affine=True)\n",
       "          (ffn): FFN(\n",
       "            (dropout): Dropout(p=0.1, inplace=False)\n",
       "            (lin1): Linear(in_features=768, out_features=3072, bias=True)\n",
       "            (lin2): Linear(in_features=3072, out_features=768, bias=True)\n",
       "          )\n",
       "          (output_layer_norm): LayerNorm((768,), eps=1e-12, elementwise_affine=True)\n",
       "        )\n",
       "        (2): TransformerBlock(\n",
       "          (attention): MultiHeadSelfAttention(\n",
       "            (dropout): Dropout(p=0.1, inplace=False)\n",
       "            (q_lin): Linear(in_features=768, out_features=768, bias=True)\n",
       "            (k_lin): Linear(in_features=768, out_features=768, bias=True)\n",
       "            (v_lin): Linear(in_features=768, out_features=768, bias=True)\n",
       "            (out_lin): Linear(in_features=768, out_features=768, bias=True)\n",
       "          )\n",
       "          (sa_layer_norm): LayerNorm((768,), eps=1e-12, elementwise_affine=True)\n",
       "          (ffn): FFN(\n",
       "            (dropout): Dropout(p=0.1, inplace=False)\n",
       "            (lin1): Linear(in_features=768, out_features=3072, bias=True)\n",
       "            (lin2): Linear(in_features=3072, out_features=768, bias=True)\n",
       "          )\n",
       "          (output_layer_norm): LayerNorm((768,), eps=1e-12, elementwise_affine=True)\n",
       "        )\n",
       "        (3): TransformerBlock(\n",
       "          (attention): MultiHeadSelfAttention(\n",
       "            (dropout): Dropout(p=0.1, inplace=False)\n",
       "            (q_lin): Linear(in_features=768, out_features=768, bias=True)\n",
       "            (k_lin): Linear(in_features=768, out_features=768, bias=True)\n",
       "            (v_lin): Linear(in_features=768, out_features=768, bias=True)\n",
       "            (out_lin): Linear(in_features=768, out_features=768, bias=True)\n",
       "          )\n",
       "          (sa_layer_norm): LayerNorm((768,), eps=1e-12, elementwise_affine=True)\n",
       "          (ffn): FFN(\n",
       "            (dropout): Dropout(p=0.1, inplace=False)\n",
       "            (lin1): Linear(in_features=768, out_features=3072, bias=True)\n",
       "            (lin2): Linear(in_features=3072, out_features=768, bias=True)\n",
       "          )\n",
       "          (output_layer_norm): LayerNorm((768,), eps=1e-12, elementwise_affine=True)\n",
       "        )\n",
       "        (4): TransformerBlock(\n",
       "          (attention): MultiHeadSelfAttention(\n",
       "            (dropout): Dropout(p=0.1, inplace=False)\n",
       "            (q_lin): Linear(in_features=768, out_features=768, bias=True)\n",
       "            (k_lin): Linear(in_features=768, out_features=768, bias=True)\n",
       "            (v_lin): Linear(in_features=768, out_features=768, bias=True)\n",
       "            (out_lin): Linear(in_features=768, out_features=768, bias=True)\n",
       "          )\n",
       "          (sa_layer_norm): LayerNorm((768,), eps=1e-12, elementwise_affine=True)\n",
       "          (ffn): FFN(\n",
       "            (dropout): Dropout(p=0.1, inplace=False)\n",
       "            (lin1): Linear(in_features=768, out_features=3072, bias=True)\n",
       "            (lin2): Linear(in_features=3072, out_features=768, bias=True)\n",
       "          )\n",
       "          (output_layer_norm): LayerNorm((768,), eps=1e-12, elementwise_affine=True)\n",
       "        )\n",
       "        (5): TransformerBlock(\n",
       "          (attention): MultiHeadSelfAttention(\n",
       "            (dropout): Dropout(p=0.1, inplace=False)\n",
       "            (q_lin): Linear(in_features=768, out_features=768, bias=True)\n",
       "            (k_lin): Linear(in_features=768, out_features=768, bias=True)\n",
       "            (v_lin): Linear(in_features=768, out_features=768, bias=True)\n",
       "            (out_lin): Linear(in_features=768, out_features=768, bias=True)\n",
       "          )\n",
       "          (sa_layer_norm): LayerNorm((768,), eps=1e-12, elementwise_affine=True)\n",
       "          (ffn): FFN(\n",
       "            (dropout): Dropout(p=0.1, inplace=False)\n",
       "            (lin1): Linear(in_features=768, out_features=3072, bias=True)\n",
       "            (lin2): Linear(in_features=3072, out_features=768, bias=True)\n",
       "          )\n",
       "          (output_layer_norm): LayerNorm((768,), eps=1e-12, elementwise_affine=True)\n",
       "        )\n",
       "      )\n",
       "    )\n",
       "  )\n",
       "  (dropout): Dropout(p=0.1, inplace=False)\n",
       "  (classifier): Linear(in_features=768, out_features=9, bias=True)\n",
       ")"
      ]
     },
     "execution_count": 8,
     "metadata": {},
     "output_type": "execute_result"
    }
   ],
   "source": [
    "model"
   ]
  },
  {
   "cell_type": "code",
   "execution_count": 9,
   "id": "b6e85513-912a-4955-ad22-3947c03f4f85",
   "metadata": {},
   "outputs": [],
   "source": [
    "label_list = ['O', 'B-PER', 'I-PER', 'B-ORG', 'I-ORG', 'B-LOC', 'I-LOC', 'B-MISC', 'I-MISC']"
   ]
  },
  {
   "cell_type": "code",
   "execution_count": 10,
   "id": "a988e2f3-d3ee-4f9b-a2a6-bb0d492bed2e",
   "metadata": {},
   "outputs": [
    {
     "data": {
      "text/plain": [
       "\"Germany 's representative to the European Union 's veterinary committee Werner Zwingmann said on Wednesday consumers should buy sheepmeat from countries other than Britain until the scientific advice was clearer .\""
      ]
     },
     "execution_count": 10,
     "metadata": {},
     "output_type": "execute_result"
    }
   ],
   "source": [
    "' '.join(['Germany', \"'s\", 'representative', 'to', 'the', 'European', 'Union', \"'s\", 'veterinary', 'committee', 'Werner', 'Zwingmann', 'said', 'on', 'Wednesday', 'consumers', 'should', 'buy', 'sheepmeat', 'from', 'countries', 'other', 'than', 'Britain', 'until', 'the', 'scientific', 'advice', 'was', 'clearer', '.'])"
   ]
  },
  {
   "cell_type": "code",
   "execution_count": 11,
   "id": "0b99a5f1-2ef8-4077-80ff-1ae6db3933df",
   "metadata": {},
   "outputs": [
    {
     "name": "stdout",
     "output_type": "stream",
     "text": [
      "{'input_ids': [101, 2762, 1005, 1055, 4387, 2000, 1996, 2647, 2586, 1005, 1055, 15651, 2837, 14121, 1062, 9328, 5804, 2056, 2006, 9317, 10390, 2323, 4965, 8351, 4168, 4017, 2013, 3032, 2060, 2084, 3725, 2127, 1996, 4045, 6040, 2001, 24509, 1012, 102], 'attention_mask': [1, 1, 1, 1, 1, 1, 1, 1, 1, 1, 1, 1, 1, 1, 1, 1, 1, 1, 1, 1, 1, 1, 1, 1, 1, 1, 1, 1, 1, 1, 1, 1, 1, 1, 1, 1, 1, 1, 1]}\n",
      "[101, 2762, 1005, 1055, 4387, 2000, 1996, 2647, 2586, 1005, 1055, 15651, 2837, 14121, 1062, 9328, 5804, 2056, 2006, 9317, 10390, 2323, 4965, 8351, 4168, 4017, 2013, 3032, 2060, 2084, 3725, 2127, 1996, 4045, 6040, 2001, 24509, 1012, 102]\n"
     ]
    },
    {
     "data": {
      "text/plain": [
       "TokenClassifierOutput(loss=None, logits=tensor([[[ 8.9136, -0.9371, -1.5237, -1.0358, -1.6040, -1.4502, -1.6999,\n",
       "          -0.7906, -1.5180],\n",
       "         [-1.4842, -0.5072, -1.3988, -0.0443, -1.8029,  7.9319, -0.2244,\n",
       "           0.3503, -2.2295],\n",
       "         [ 8.8620, -1.2049, -1.7902, -0.8684, -1.3035, -1.5098, -2.0356,\n",
       "          -0.6383, -1.3549],\n",
       "         [ 8.8042, -1.1878, -1.8321, -0.7357, -1.4156, -1.3873, -2.1791,\n",
       "          -0.4464, -1.4726],\n",
       "         [ 8.6329, -1.0893, -1.9809, -0.3864, -1.3250, -1.6509, -2.4413,\n",
       "          -0.2689, -1.5393],\n",
       "         [ 8.8453, -1.1129, -1.5121, -0.8787, -1.3618, -1.5475, -1.9312,\n",
       "          -0.8868, -1.6168],\n",
       "         [ 8.7882, -1.1661, -1.7364, -0.3707, -1.4714, -0.9157, -2.1007,\n",
       "          -0.6204, -1.8341],\n",
       "         [-0.3362, -1.2733, -2.2390,  6.4149,  1.3414,  0.2284, -2.5698,\n",
       "           0.5114, -1.4814],\n",
       "         [ 1.1663, -1.6495, -1.1086,  0.6043,  6.1599, -2.7057,  0.0407,\n",
       "          -2.1928,  0.7981],\n",
       "         [ 8.7525, -1.4281, -1.5460, -1.0261, -0.8448, -1.6736, -1.7505,\n",
       "          -1.0510, -1.0041],\n",
       "         [ 8.7774, -1.3079, -1.5836, -0.6999, -1.1609, -1.4054, -2.0869,\n",
       "          -0.8141, -1.4482],\n",
       "         [ 7.7383, -0.6496, -2.1338,  0.7721, -1.0431, -1.5271, -3.0526,\n",
       "          -0.0709, -1.9228],\n",
       "         [ 7.2584, -1.0828, -1.4067,  0.0592,  0.4498, -2.3669, -2.1792,\n",
       "          -1.4796, -1.1484],\n",
       "         [-0.5094,  7.0271, -1.3116, -0.7065, -2.2869, -0.7145, -1.9273,\n",
       "          -0.8030, -2.4368],\n",
       "         [-0.3475, -0.1763,  7.4994, -2.2780, -0.3521, -1.3853, -0.2293,\n",
       "          -1.3058, -1.1828],\n",
       "         [-0.0995, -0.3234,  7.4759, -2.2262, -0.4133, -1.4519, -0.0987,\n",
       "          -1.2696, -1.0423],\n",
       "         [-0.1640, -0.3070,  7.5114, -2.3783, -0.5863, -1.4360, -0.1054,\n",
       "          -1.1782, -1.0863],\n",
       "         [ 9.0432, -1.0730, -1.4694, -1.0020, -1.4201, -1.4320, -1.8523,\n",
       "          -0.9632, -1.6007],\n",
       "         [ 8.9564, -1.0137, -1.5324, -0.9630, -1.5863, -1.3087, -2.0801,\n",
       "          -0.6712, -1.6785],\n",
       "         [ 8.9408, -1.0983, -1.5336, -0.8734, -1.5610, -1.3399, -2.1088,\n",
       "          -0.6670, -1.7732],\n",
       "         [ 8.8510, -0.7875, -1.7134, -0.8133, -1.5298, -1.4623, -1.9908,\n",
       "          -0.7117, -1.8977],\n",
       "         [ 9.0026, -0.9502, -1.4732, -1.0142, -1.4487, -1.4682, -1.8755,\n",
       "          -0.8778, -1.7259],\n",
       "         [ 8.9955, -0.9893, -1.4739, -0.9425, -1.5296, -1.3685, -1.9058,\n",
       "          -0.7276, -1.7409],\n",
       "         [ 8.5387, -0.9679, -1.8846, -0.2889, -1.5617, -1.3643, -2.1216,\n",
       "          -0.1323, -1.6984],\n",
       "         [ 8.2911, -0.8361, -1.8624, -0.4105, -1.5530, -1.6180, -1.9088,\n",
       "          -0.0699, -1.4100],\n",
       "         [ 8.4376, -1.0211, -1.9172, -0.2090, -1.3566, -1.4705, -2.1163,\n",
       "          -0.3004, -1.4884],\n",
       "         [ 8.9249, -1.2709, -1.5571, -1.2559, -1.4914, -1.2050, -1.5675,\n",
       "          -0.5253, -1.5874],\n",
       "         [ 8.5711, -1.4479, -1.7581, -1.0702, -1.9695, -0.1552, -1.4943,\n",
       "           0.1155, -1.7968],\n",
       "         [ 8.5646, -1.4785, -1.3894, -1.3400, -1.7153, -0.5020, -1.4242,\n",
       "          -0.4054, -1.7279],\n",
       "         [ 8.5743, -1.2676, -1.5201, -1.1581, -1.8404, -0.5098, -1.4417,\n",
       "          -0.4781, -1.6331],\n",
       "         [-1.0663, -0.6931, -1.1113, -0.1508, -0.8875,  7.5032,  0.5357,\n",
       "          -0.7669, -2.6351],\n",
       "         [ 9.0102, -1.0818, -1.4950, -1.1433, -1.4459, -1.3409, -1.7204,\n",
       "          -0.9286, -1.6771],\n",
       "         [ 8.9582, -0.9565, -1.6301, -0.8886, -1.6655, -1.2546, -2.0063,\n",
       "          -0.6695, -1.7501],\n",
       "         [ 8.4450, -1.1967, -1.8934, -0.4213, -1.5907, -1.5657, -2.5086,\n",
       "           0.4021, -1.8670],\n",
       "         [ 8.8364, -1.0820, -1.5446, -0.9906, -1.3090, -1.6297, -2.0448,\n",
       "          -0.7207, -1.7196],\n",
       "         [ 9.0213, -1.1287, -1.5459, -1.0665, -1.4603, -1.3106, -1.7362,\n",
       "          -0.9420, -1.6562],\n",
       "         [ 8.8745, -1.0750, -1.4934, -1.0869, -1.6268, -0.9556, -1.8926,\n",
       "          -0.6629, -1.9666],\n",
       "         [ 8.9686, -1.0022, -1.5541, -1.0232, -1.4294, -1.5131, -1.7762,\n",
       "          -0.9257, -1.5930],\n",
       "         [ 1.4127, -0.0378, -1.7671, -0.7028, -2.4507,  2.3107, -1.3213,\n",
       "           3.1862, -0.5505]]], grad_fn=<AddBackward0>), hidden_states=None, attentions=None)"
      ]
     },
     "execution_count": 11,
     "metadata": {},
     "output_type": "execute_result"
    }
   ],
   "source": [
    "import torch\n",
    "\n",
    "s = \"Germany's representative to the European Union's veterinary committee Werner Zwingmann said on Wednesday consumers should buy sheepmeat from countries other than Britain until the scientific advice was clearer.\"\n",
    "ti = tokenizer(s)\n",
    "print(ti)\n",
    "ti = tokenizer.encode(s)\n",
    "print(ti)\n",
    "input_ids = torch.tensor([ti])\n",
    "model(input_ids)"
   ]
  },
  {
   "cell_type": "code",
   "execution_count": 12,
   "id": "1b8bdac7-1e7c-45b5-b27c-05f404eebe6d",
   "metadata": {},
   "outputs": [
    {
     "name": "stdout",
     "output_type": "stream",
     "text": [
      "39\n",
      "[0 5 0 0 0 0 0 3 4 0 0 0 0 1 2 2 2 0 0 0 0 0 0 0 0 0 0 0 0 0 5 0 0 0 0 0 0\n",
      " 0 7]\n"
     ]
    }
   ],
   "source": [
    "import numpy as np\n",
    "preds = model(input_ids)\n",
    "labels = np.argmax(preds.logits[0].detach().numpy(), axis=1)\n",
    "print(f'{len(labels)}\\n{labels}')"
   ]
  },
  {
   "cell_type": "code",
   "execution_count": 17,
   "id": "e32affd9-889e-4f05-ab48-1cb6d94ccc82",
   "metadata": {},
   "outputs": [
    {
     "name": "stdout",
     "output_type": "stream",
     "text": [
      "39\n",
      "['[CLS]', 'germany', \"'\", 's', 'representative', 'to', 'the', 'european', 'union', \"'\", 's', 'veterinary', 'committee', 'werner', 'z', '##wing', '##mann', 'said', 'on', 'wednesday', 'consumers', 'should', 'buy', 'sheep', '##me', '##at', 'from', 'countries', 'other', 'than', 'britain', 'until', 'the', 'scientific', 'advice', 'was', 'clearer', '.', '[SEP]']\n"
     ]
    }
   ],
   "source": [
    "tokens = tokenizer.convert_ids_to_tokens(ti)\n",
    "print(len(tokens))\n",
    "print(tokens)"
   ]
  },
  {
   "cell_type": "code",
   "execution_count": 18,
   "id": "b904ac7e-cdf6-4aad-b7cb-3ea1bdbae37d",
   "metadata": {},
   "outputs": [
    {
     "name": "stdout",
     "output_type": "stream",
     "text": [
      "[CLS]\t\tO\n",
      "germany\t\tB-LOC\n",
      "'\t\tO\n",
      "s\t\tO\n",
      "representative\t\tO\n",
      "to\t\tO\n",
      "the\t\tO\n",
      "european\t\tB-ORG\n",
      "union\t\tI-ORG\n",
      "'\t\tO\n",
      "s\t\tO\n",
      "veterinary\t\tO\n",
      "committee\t\tO\n",
      "werner\t\tB-PER\n",
      "z\t\tI-PER\n",
      "##wing\t\tI-PER\n",
      "##mann\t\tI-PER\n",
      "said\t\tO\n",
      "on\t\tO\n",
      "wednesday\t\tO\n",
      "consumers\t\tO\n",
      "should\t\tO\n",
      "buy\t\tO\n",
      "sheep\t\tO\n",
      "##me\t\tO\n",
      "##at\t\tO\n",
      "from\t\tO\n",
      "countries\t\tO\n",
      "other\t\tO\n",
      "than\t\tO\n",
      "britain\t\tB-LOC\n",
      "until\t\tO\n",
      "the\t\tO\n",
      "scientific\t\tO\n",
      "advice\t\tO\n",
      "was\t\tO\n",
      "clearer\t\tO\n",
      ".\t\tO\n",
      "[SEP]\t\tB-MISC\n"
     ]
    }
   ],
   "source": [
    "for t, l in zip(tokens, labels):\n",
    "    print(f'{t}\\t\\t{label_list[l]}')"
   ]
  },
  {
   "cell_type": "code",
   "execution_count": null,
   "id": "3681aa17-5b4c-4a24-a9aa-af507063326f",
   "metadata": {},
   "outputs": [],
   "source": []
  }
 ],
 "metadata": {
  "kernelspec": {
   "display_name": "Python 3",
   "language": "python",
   "name": "python3"
  },
  "language_info": {
   "codemirror_mode": {
    "name": "ipython",
    "version": 3
   },
   "file_extension": ".py",
   "mimetype": "text/x-python",
   "name": "python",
   "nbconvert_exporter": "python",
   "pygments_lexer": "ipython3",
   "version": "3.8.9"
  },
  "metadata": {
   "interpreter": {
    "hash": "da8cc9ba97ec10d2b0114a407eb02372abc7dea2db4ab59006e082898a04a52e"
   }
  }
 },
 "nbformat": 4,
 "nbformat_minor": 5
}