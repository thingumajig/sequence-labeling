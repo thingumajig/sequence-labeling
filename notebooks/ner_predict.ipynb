{
 "cells": [
  {
   "cell_type": "code",
   "execution_count": null,
   "id": "622b3c0a-651b-46b9-a5e7-d4618572e572",
   "metadata": {},
   "outputs": [],
   "source": [
    "import os\n",
    "DATA_DIR = os.path.join(os.path.abspath(os.path.join(os.path.curdir, \"..\")), \"data\")\n",
    "\n",
    "model_checkpoint = os.path.join(DATA_DIR, \"models\",\"checkpoints\",\"checkpoint-2500/\")\n"
   ]
  },
  {
   "cell_type": "code",
   "execution_count": null,
   "id": "557af0f4-72b9-4ca1-b66d-608d84b09e95",
   "metadata": {},
   "outputs": [],
   "source": [
    "from transformers import AutoTokenizer\n",
    "    \n",
    "tokenizer = AutoTokenizer.from_pretrained(model_checkpoint)"
   ]
  },
  {
   "cell_type": "code",
   "execution_count": null,
   "id": "539d0190-6217-45c2-a03b-f4cf25903cbb",
   "metadata": {},
   "outputs": [],
   "source": [
    "tokenizer"
   ]
  },
  {
   "cell_type": "code",
   "execution_count": null,
   "id": "2585ca49-7bff-41d1-af94-6a72ec07bdaa",
   "metadata": {},
   "outputs": [],
   "source": [
    "import transformers\n",
    "assert isinstance(tokenizer, transformers.PreTrainedTokenizerFast)"
   ]
  },
  {
   "cell_type": "code",
   "execution_count": null,
   "id": "0a2f3b2a-36eb-4d15-8911-fbf6bce5549c",
   "metadata": {},
   "outputs": [],
   "source": [
    "tokenized_input = tokenizer(\"Hello, this is one sentence! Good night!\")\n",
    "tokenized_input"
   ]
  },
  {
   "cell_type": "code",
   "execution_count": null,
   "id": "c1312d55-c483-4181-bda7-6cde52f91a33",
   "metadata": {},
   "outputs": [],
   "source": [
    "\n",
    "tokens = tokenizer.convert_ids_to_tokens(tokenized_input[\"input_ids\"])\n",
    "print(tokens)"
   ]
  },
  {
   "cell_type": "code",
   "execution_count": null,
   "id": "37dc0355-4d0e-43a6-a55e-e77dc9332958",
   "metadata": {},
   "outputs": [],
   "source": [
    "from transformers import AutoModelForTokenClassification\n",
    "\n",
    "model = AutoModelForTokenClassification.from_pretrained(model_checkpoint)"
   ]
  },
  {
   "cell_type": "code",
   "execution_count": null,
   "id": "186d8818-12b1-48ef-a924-2bf11e66970d",
   "metadata": {},
   "outputs": [],
   "source": [
    "model"
   ]
  },
  {
   "cell_type": "code",
   "execution_count": null,
   "id": "b6e85513-912a-4955-ad22-3947c03f4f85",
   "metadata": {},
   "outputs": [],
   "source": [
    "label_list = ['O', 'B-PER', 'I-PER', 'B-ORG', 'I-ORG', 'B-LOC', 'I-LOC', 'B-MISC', 'I-MISC']"
   ]
  },
  {
   "cell_type": "code",
   "execution_count": null,
   "id": "a988e2f3-d3ee-4f9b-a2a6-bb0d492bed2e",
   "metadata": {},
   "outputs": [],
   "source": [
    "' '.join(['Germany', \"'s\", 'representative', 'to', 'the', 'European', 'Union', \"'s\", 'veterinary', 'committee', 'Werner', 'Zwingmann', 'said', 'on', 'Wednesday', 'consumers', 'should', 'buy', 'sheepmeat', 'from', 'countries', 'other', 'than', 'Britain', 'until', 'the', 'scientific', 'advice', 'was', 'clearer', '.'])"
   ]
  },
  {
   "cell_type": "code",
   "execution_count": null,
   "id": "0b99a5f1-2ef8-4077-80ff-1ae6db3933df",
   "metadata": {},
   "outputs": [],
   "source": [
    "import torch\n",
    "\n",
    "s = \"Germany's representative to the European Union's veterinary committee Werner Zwingmann said on Wednesday consumers should buy sheepmeat from countries other than Britain until the scientific advice was clearer.\"\n",
    "ti = tokenizer(s)\n",
    "print(ti)\n",
    "ti = tokenizer.encode(s)\n",
    "print(ti)\n",
    "input_ids = torch.tensor([ti])\n",
    "model(input_ids)"
   ]
  },
  {
   "cell_type": "code",
   "execution_count": null,
   "id": "1b8bdac7-1e7c-45b5-b27c-05f404eebe6d",
   "metadata": {},
   "outputs": [],
   "source": [
    "import numpy as np\n",
    "preds = model(input_ids)\n",
    "labels = np.argmax(preds.logits[0].detach().numpy(), axis=1)\n",
    "print(f'{len(labels)}\\n{labels}')"
   ]
  },
  {
   "cell_type": "code",
   "execution_count": null,
   "id": "e32affd9-889e-4f05-ab48-1cb6d94ccc82",
   "metadata": {},
   "outputs": [],
   "source": [
    "tokens = tokenizer.convert_ids_to_tokens(ti)\n",
    "print(len(tokens))\n",
    "print(tokens)"
   ]
  },
  {
   "cell_type": "code",
   "execution_count": null,
   "id": "b904ac7e-cdf6-4aad-b7cb-3ea1bdbae37d",
   "metadata": {},
   "outputs": [],
   "source": [
    "for t, l in zip(tokens, labels):\n",
    "    print(f'{t}\\t\\t{label_list[l]}')"
   ]
  },
  {
   "cell_type": "code",
   "execution_count": null,
   "id": "3681aa17-5b4c-4a24-a9aa-af507063326f",
   "metadata": {},
   "outputs": [],
   "source": []
  }
 ],
 "metadata": {
  "kernelspec": {
   "name": "python389jvsc74a57bd0da8cc9ba97ec10d2b0114a407eb02372abc7dea2db4ab59006e082898a04a52e",
   "display_name": "Python 3.8.9 64-bit ('VE')"
  },
  "language_info": {
   "codemirror_mode": {
    "name": "ipython",
    "version": 3
   },
   "file_extension": ".py",
   "mimetype": "text/x-python",
   "name": "python",
   "nbconvert_exporter": "python",
   "pygments_lexer": "ipython3",
   "version": "3.8.9"
  },
  "metadata": {
   "interpreter": {
    "hash": "da8cc9ba97ec10d2b0114a407eb02372abc7dea2db4ab59006e082898a04a52e"
   }
  }
 },
 "nbformat": 4,
 "nbformat_minor": 5
}