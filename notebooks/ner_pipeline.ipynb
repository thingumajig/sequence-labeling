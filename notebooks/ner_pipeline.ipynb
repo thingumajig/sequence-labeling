{
 "cells": [
  {
   "cell_type": "code",
   "execution_count": 2,
   "id": "67b36322-c318-49db-9fc3-8cb113c8bf33",
   "metadata": {},
   "outputs": [],
   "source": [
    "from pathlib import Path\n",
    "\n",
    "current_dir = Path.cwd()\n",
    "model_checkpoint_path = current_dir.parent / 'data' / \"models\" / \"checkpoints\" / \"checkpoint-2500/\""
   ]
  },
  {
   "cell_type": "code",
   "execution_count": 3,
   "id": "96a5f470-bf00-4528-a534-ac770664aee5",
   "metadata": {},
   "outputs": [
    {
     "data": {
      "text/plain": [
       "(WindowsPath('C:/projects/sequence-labeling'),\n",
       " WindowsPath('C:/projects/sequence-labeling/data/models/checkpoints/checkpoint-2500'))"
      ]
     },
     "execution_count": 3,
     "metadata": {},
     "output_type": "execute_result"
    }
   ],
   "source": [
    "current_dir.parent, model_checkpoint_path"
   ]
  },
  {
   "cell_type": "code",
   "execution_count": 4,
   "id": "539b0ade-9a9f-4926-a5bf-680b83cda59e",
   "metadata": {},
   "outputs": [],
   "source": [
    "from transformers import pipeline\n",
    "from transformers import AutoTokenizer\n",
    "from transformers import AutoModelForTokenClassification\n",
    "\n",
    "model_checkpoint = str(model_checkpoint_path)\n",
    "# model_checkpoint = '../data/models/checkpoints/checkpoint-2500/'\n",
    "tokenizer = AutoTokenizer.from_pretrained(model_checkpoint)\n",
    "model = AutoModelForTokenClassification.from_pretrained(model_checkpoint)\n",
    "\n",
    "ner_pipeline = pipeline('token-classification', model=model, tokenizer=tokenizer,  aggregation_strategy=\"simple\")"
   ]
  },
  {
   "cell_type": "code",
   "execution_count": 6,
   "id": "38f85655-c2d4-4566-9c3f-9fe0e3729872",
   "metadata": {},
   "outputs": [
    {
     "data": {
      "text/plain": [
       "<transformers.pipelines.token_classification.TokenClassificationPipeline at 0x278c1fa21a0>"
      ]
     },
     "execution_count": 6,
     "metadata": {},
     "output_type": "execute_result"
    }
   ],
   "source": [
    "ner_pipeline"
   ]
  },
  {
   "cell_type": "code",
   "execution_count": 7,
   "id": "6d5f5552-b4cd-45dc-b7d7-d25a32a4e2a8",
   "metadata": {
    "collapsed": true,
    "jupyter": {
     "outputs_hidden": true
    },
    "tags": []
   },
   "outputs": [
    {
     "name": "stdout",
     "output_type": "stream",
     "text": [
      "CPU times: total: 93.8 ms\n",
      "Wall time: 357 ms\n"
     ]
    },
    {
     "data": {
      "text/plain": [
       "[[{'entity_group': 'LOC',\n",
       "   'score': 0.99837816,\n",
       "   'word': 'germany',\n",
       "   'start': 0,\n",
       "   'end': 7},\n",
       "  {'entity_group': 'ORG',\n",
       "   'score': 0.98408186,\n",
       "   'word': 'european union',\n",
       "   'start': 32,\n",
       "   'end': 46},\n",
       "  {'entity_group': 'PER',\n",
       "   'score': 0.9977307,\n",
       "   'word': 'werner zwingmann',\n",
       "   'start': 70,\n",
       "   'end': 86},\n",
       "  {'entity_group': 'LOC',\n",
       "   'score': 0.997421,\n",
       "   'word': 'britain',\n",
       "   'start': 162,\n",
       "   'end': 169}],\n",
       " [{'entity_group': 'PER',\n",
       "   'score': 0.9801107,\n",
       "   'word': 'el',\n",
       "   'start': 0,\n",
       "   'end': 2},\n",
       "  {'entity_group': 'PER',\n",
       "   'score': 0.9715147,\n",
       "   'word': '##on musk',\n",
       "   'start': 2,\n",
       "   'end': 9},\n",
       "  {'entity_group': 'ORG',\n",
       "   'score': 0.9206422,\n",
       "   'word': 'twitter',\n",
       "   'start': 37,\n",
       "   'end': 44}],\n",
       " [{'entity_group': 'PER',\n",
       "   'score': 0.99599755,\n",
       "   'word': 'mu',\n",
       "   'start': 15,\n",
       "   'end': 17},\n",
       "  {'entity_group': 'PER',\n",
       "   'score': 0.9959708,\n",
       "   'word': '##sk',\n",
       "   'start': 17,\n",
       "   'end': 19},\n",
       "  {'entity_group': 'ORG',\n",
       "   'score': 0.96769327,\n",
       "   'word': 'delaware chancery court',\n",
       "   'start': 159,\n",
       "   'end': 182},\n",
       "  {'entity_group': 'PER',\n",
       "   'score': 0.9898163,\n",
       "   'word': 'mu',\n",
       "   'start': 220,\n",
       "   'end': 222},\n",
       "  {'entity_group': 'PER',\n",
       "   'score': 0.98830986,\n",
       "   'word': '##sk',\n",
       "   'start': 222,\n",
       "   'end': 224}],\n",
       " [{'entity_group': 'ORG',\n",
       "   'score': 0.9728334,\n",
       "   'word': 'twitter',\n",
       "   'start': 2,\n",
       "   'end': 9},\n",
       "  {'entity_group': 'ORG',\n",
       "   'score': 0.98253167,\n",
       "   'word': 'cnn',\n",
       "   'start': 46,\n",
       "   'end': 49},\n",
       "  {'entity_group': 'PER',\n",
       "   'score': 0.92916095,\n",
       "   'word': 'mu',\n",
       "   'start': 76,\n",
       "   'end': 78},\n",
       "  {'entity_group': 'PER',\n",
       "   'score': 0.9177422,\n",
       "   'word': '##sk',\n",
       "   'start': 78,\n",
       "   'end': 80}],\n",
       " [{'entity_group': 'PER',\n",
       "   'score': 0.9894126,\n",
       "   'word': 'mu',\n",
       "   'start': 0,\n",
       "   'end': 2},\n",
       "  {'entity_group': 'PER',\n",
       "   'score': 0.9921186,\n",
       "   'word': '##sk',\n",
       "   'start': 2,\n",
       "   'end': 4},\n",
       "  {'entity_group': 'MISC',\n",
       "   'score': 0.7360708,\n",
       "   'word': 'x',\n",
       "   'start': 76,\n",
       "   'end': 77}],\n",
       " [{'entity_group': 'ORG',\n",
       "   'score': 0.989792,\n",
       "   'word': 'bloomberg',\n",
       "   'start': 41,\n",
       "   'end': 50}],\n",
       " [{'entity_group': 'ORG',\n",
       "   'score': 0.9827229,\n",
       "   'word': 'twitter',\n",
       "   'start': 0,\n",
       "   'end': 7},\n",
       "  {'entity_group': 'ORG',\n",
       "   'score': 0.8147059,\n",
       "   'word': 't',\n",
       "   'start': 9,\n",
       "   'end': 10},\n",
       "  {'entity_group': 'ORG',\n",
       "   'score': 0.9632999,\n",
       "   'word': '##wt',\n",
       "   'start': 10,\n",
       "   'end': 12},\n",
       "  {'entity_group': 'ORG',\n",
       "   'score': 0.96376914,\n",
       "   'word': '##r',\n",
       "   'start': 12,\n",
       "   'end': 13}],\n",
       " [{'entity_group': 'PER',\n",
       "   'score': 0.99596715,\n",
       "   'word': 'mu',\n",
       "   'start': 91,\n",
       "   'end': 93},\n",
       "  {'entity_group': 'PER',\n",
       "   'score': 0.99623966,\n",
       "   'word': '##sk',\n",
       "   'start': 93,\n",
       "   'end': 95},\n",
       "  {'entity_group': 'ORG',\n",
       "   'score': 0.95559627,\n",
       "   'word': 'twitter',\n",
       "   'start': 167,\n",
       "   'end': 174}],\n",
       " [{'entity_group': 'ORG',\n",
       "   'score': 0.992046,\n",
       "   'word': 'twitter',\n",
       "   'start': 1,\n",
       "   'end': 8},\n",
       "  {'entity_group': 'PER',\n",
       "   'score': 0.99812955,\n",
       "   'word': 'para',\n",
       "   'start': 13,\n",
       "   'end': 17},\n",
       "  {'entity_group': 'PER',\n",
       "   'score': 0.9979701,\n",
       "   'word': '##g agrawal',\n",
       "   'start': 17,\n",
       "   'end': 26},\n",
       "  {'entity_group': 'PER',\n",
       "   'score': 0.9885423,\n",
       "   'word': 'mu',\n",
       "   'start': 57,\n",
       "   'end': 59},\n",
       "  {'entity_group': 'PER',\n",
       "   'score': 0.9874681,\n",
       "   'word': '##sk',\n",
       "   'start': 59,\n",
       "   'end': 61},\n",
       "  {'entity_group': 'ORG',\n",
       "   'score': 0.9858942,\n",
       "   'word': 'twitter',\n",
       "   'start': 87,\n",
       "   'end': 94},\n",
       "  {'entity_group': 'PER',\n",
       "   'score': 0.9958216,\n",
       "   'word': 'mu',\n",
       "   'start': 127,\n",
       "   'end': 129},\n",
       "  {'entity_group': 'PER',\n",
       "   'score': 0.99536276,\n",
       "   'word': '##sk',\n",
       "   'start': 129,\n",
       "   'end': 131}]]"
      ]
     },
     "execution_count": 7,
     "metadata": {},
     "output_type": "execute_result"
    }
   ],
   "source": [
    "%%time\n",
    "ner_pipeline([\n",
    "    \"Germany's representative to the European Union's veterinary committee Werner Zwingmann said on Wednesday consumers should buy sheepmeat from countries other than Britain until the scientific advice was clearer .\",\n",
    "\"Elon Musk on Monday sent a letter to Twitter proposing to follow through with his deal to buy the company at the originally agreed upon price of $54.20 per share, according to a securities filing on Tuesday.\",\n",
    "\"In the letter, Musk said he would proceed with the acquisition on the original terms, pending receipt of the debt financing for the deal and provided that the Delaware Chancery Court stay the litigation proceedings over Musk’s initial attempt to pull out of the deal and adjourn the upcoming trial over the dispute.\",\n",
    "\"A Twitter spokesperson said in a statement to CNN that the company received Musk’s letter and reiterated its previous statement that the “intention of the Company is to close the transaction at $54.20 per share.”\",\n",
    "\"Musk on Tuesday night tweeted: “Buying Twitter is an accelerant to creating X, the everything app.”\",\n",
    "\"News of the letter was first reported by Bloomberg earlier on Tuesday.\",\n",
    "\"Twitter (TWTR) stock was halted twice, the second time for news pending. After the stock resumed trading, it was up more than 20%, topping $51 a share and approaching the agreed upon deal price for the first time in months.\",\n",
    "\"The news comes as the the two sides have been preparing to head to trial in two weeks over Musk’s attempt to terminate of the $44 billion acquisition agreement, which Twitter had sued him to complete.\",\n",
    "\" Twitter CEO Parag Agrawal had been set to be deposed by Musk’s lawyers on Monday, and Twitter’s lawyers had planned to depose Musk starting on Thursday.\"\n",
    "])"
   ]
  },
  {
   "cell_type": "markdown",
   "id": "c0379e77-4667-4567-86eb-3a2c69060ffd",
   "metadata": {},
   "source": [
    "# Save bento model"
   ]
  },
  {
   "cell_type": "code",
   "execution_count": 8,
   "id": "30a3c32f-677e-478c-8c55-159ff45e092a",
   "metadata": {
    "tags": []
   },
   "outputs": [
    {
     "name": "stderr",
     "output_type": "stream",
     "text": [
      "No versions of Flax or Jax are found under the current machine. In order to use Flax with transformers 4.x and above, refers to https://github.com/google/flax#quick-install\n"
     ]
    },
    {
     "data": {
      "text/plain": [
       "Model(tag=\"ner-conll-base:vcktii2eu6etyaav\", path=\"C:\\Users\\artif\\bentoml\\models\\ner-conll-base\\vcktii2eu6etyaav\\\")"
      ]
     },
     "execution_count": 8,
     "metadata": {},
     "output_type": "execute_result"
    }
   ],
   "source": [
    "import bentoml\n",
    "\n",
    "bentoml.transformers.save_model(name=\"ner-conll-base\", pipeline=ner_pipeline)"
   ]
  },
  {
   "cell_type": "code",
   "execution_count": 22,
   "id": "c9a4b696-7318-4e5b-aa2e-d456173c4d63",
   "metadata": {},
   "outputs": [
    {
     "name": "stdout",
     "output_type": "stream",
     "text": [
      " Tag                     Module                Size        Creation Time       \n",
      " ner-conll-base:vcktiiвЂ¦  bentoml.transformers  254.11 MiB  2022-10-05 15:17:19 \n",
      " ner:hid2jpsejoublpax    bentoml.transformers  254.11 MiB  2022-10-05 04:15:40 \n"
     ]
    }
   ],
   "source": [
    "!bentoml models list"
   ]
  },
  {
   "cell_type": "code",
   "execution_count": 10,
   "id": "618809b1-18d9-4bd8-841e-6d5891ab4102",
   "metadata": {},
   "outputs": [
    {
     "name": "stdout",
     "output_type": "stream",
     "text": [
      "name: ner-conll-base                                                           \n",
      "version: vcktii2eu6etyaav                                                      \n",
      "module: bentoml.transformers                                                   \n",
      "labels: {}                                                                     \n",
      "options:                                                                       \n",
      "  task: token-classification                                                   \n",
      "  tf: []                                                                       \n",
      "  pt: []                                                                       \n",
      "  default: {}                                                                  \n",
      "  type: null                                                                   \n",
      "  kwargs: {}                                                                   \n",
      "metadata: {}                                                                   \n",
      "context:                                                                       \n",
      "  framework_name: transformers                                                 \n",
      "  framework_versions:                                                          \n",
      "    transformers: 4.22.2                                                       \n",
      "  bentoml_version: 1.0.7                                                       \n",
      "  python_version: 3.10.7                                                       \n",
      "signatures:                                                                    \n",
      "  __call__:                                                                    \n",
      "    batchable: false                                                           \n",
      "api_version: v1                                                                \n",
      "creation_time: '2022-10-05T12:17:19.695112+00:00'                              \n",
      "                                                                               \n"
     ]
    }
   ],
   "source": [
    "!bentoml models get ner-conll-base:latest"
   ]
  },
  {
   "cell_type": "markdown",
   "id": "9ca44d89-9733-4945-a679-183620af1d89",
   "metadata": {},
   "source": [
    "# Verify model"
   ]
  },
  {
   "cell_type": "code",
   "execution_count": 21,
   "id": "cf0a0c95-45ce-4d3c-9559-bfe07cbea4b5",
   "metadata": {
    "collapsed": true,
    "jupyter": {
     "outputs_hidden": true
    },
    "tags": []
   },
   "outputs": [
    {
     "name": "stderr",
     "output_type": "stream",
     "text": [
      "No versions of Flax or Jax are found under the current machine. In order to use Flax with transformers 4.x and above, refers to https://github.com/google/flax#quick-install\n",
      "loading configuration file C:\\Users\\artif\\bentoml\\models\\ner-conll-base\\vcktii2eu6etyaav\\config.json\n",
      "Model config DistilBertConfig {\n",
      "  \"_name_or_path\": \"C:\\\\Users\\\\artif\\\\bentoml\\\\models\\\\ner-conll-base\\\\vcktii2eu6etyaav\",\n",
      "  \"activation\": \"gelu\",\n",
      "  \"architectures\": [\n",
      "    \"DistilBertForTokenClassification\"\n",
      "  ],\n",
      "  \"attention_dropout\": 0.1,\n",
      "  \"dim\": 768,\n",
      "  \"dropout\": 0.1,\n",
      "  \"hidden_dim\": 3072,\n",
      "  \"id2label\": {\n",
      "    \"0\": \"O\",\n",
      "    \"1\": \"B-PER\",\n",
      "    \"2\": \"I-PER\",\n",
      "    \"3\": \"B-ORG\",\n",
      "    \"4\": \"I-ORG\",\n",
      "    \"5\": \"B-LOC\",\n",
      "    \"6\": \"I-LOC\",\n",
      "    \"7\": \"B-MISC\",\n",
      "    \"8\": \"I-MISC\"\n",
      "  },\n",
      "  \"initializer_range\": 0.02,\n",
      "  \"label2id\": {\n",
      "    \"B-LOC\": 5,\n",
      "    \"B-MISC\": 7,\n",
      "    \"B-ORG\": 3,\n",
      "    \"B-PER\": 1,\n",
      "    \"I-LOC\": 6,\n",
      "    \"I-MISC\": 8,\n",
      "    \"I-ORG\": 4,\n",
      "    \"I-PER\": 2,\n",
      "    \"O\": 0\n",
      "  },\n",
      "  \"max_position_embeddings\": 512,\n",
      "  \"model_type\": \"distilbert\",\n",
      "  \"n_heads\": 12,\n",
      "  \"n_layers\": 6,\n",
      "  \"pad_token_id\": 0,\n",
      "  \"qa_dropout\": 0.1,\n",
      "  \"seq_classif_dropout\": 0.2,\n",
      "  \"sinusoidal_pos_embds\": false,\n",
      "  \"tie_weights_\": true,\n",
      "  \"torch_dtype\": \"float32\",\n",
      "  \"transformers_version\": \"4.22.2\",\n",
      "  \"vocab_size\": 30522\n",
      "}\n",
      "\n",
      "loading configuration file C:\\Users\\artif\\bentoml\\models\\ner-conll-base\\vcktii2eu6etyaav\\config.json\n",
      "Model config DistilBertConfig {\n",
      "  \"_name_or_path\": \"C:\\\\Users\\\\artif\\\\bentoml\\\\models\\\\ner-conll-base\\\\vcktii2eu6etyaav\",\n",
      "  \"activation\": \"gelu\",\n",
      "  \"architectures\": [\n",
      "    \"DistilBertForTokenClassification\"\n",
      "  ],\n",
      "  \"attention_dropout\": 0.1,\n",
      "  \"dim\": 768,\n",
      "  \"dropout\": 0.1,\n",
      "  \"hidden_dim\": 3072,\n",
      "  \"id2label\": {\n",
      "    \"0\": \"O\",\n",
      "    \"1\": \"B-PER\",\n",
      "    \"2\": \"I-PER\",\n",
      "    \"3\": \"B-ORG\",\n",
      "    \"4\": \"I-ORG\",\n",
      "    \"5\": \"B-LOC\",\n",
      "    \"6\": \"I-LOC\",\n",
      "    \"7\": \"B-MISC\",\n",
      "    \"8\": \"I-MISC\"\n",
      "  },\n",
      "  \"initializer_range\": 0.02,\n",
      "  \"label2id\": {\n",
      "    \"B-LOC\": 5,\n",
      "    \"B-MISC\": 7,\n",
      "    \"B-ORG\": 3,\n",
      "    \"B-PER\": 1,\n",
      "    \"I-LOC\": 6,\n",
      "    \"I-MISC\": 8,\n",
      "    \"I-ORG\": 4,\n",
      "    \"I-PER\": 2,\n",
      "    \"O\": 0\n",
      "  },\n",
      "  \"max_position_embeddings\": 512,\n",
      "  \"model_type\": \"distilbert\",\n",
      "  \"n_heads\": 12,\n",
      "  \"n_layers\": 6,\n",
      "  \"pad_token_id\": 0,\n",
      "  \"qa_dropout\": 0.1,\n",
      "  \"seq_classif_dropout\": 0.2,\n",
      "  \"sinusoidal_pos_embds\": false,\n",
      "  \"tie_weights_\": true,\n",
      "  \"torch_dtype\": \"float32\",\n",
      "  \"transformers_version\": \"4.22.2\",\n",
      "  \"vocab_size\": 30522\n",
      "}\n",
      "\n",
      "loading weights file C:\\Users\\artif\\bentoml\\models\\ner-conll-base\\vcktii2eu6etyaav\\pytorch_model.bin\n",
      "All model checkpoint weights were used when initializing DistilBertForTokenClassification.\n",
      "\n",
      "All the weights of DistilBertForTokenClassification were initialized from the model checkpoint at C:\\Users\\artif\\bentoml\\models\\ner-conll-base\\vcktii2eu6etyaav.\n",
      "If your task is similar to the task the model of the checkpoint was trained on, you can already use DistilBertForTokenClassification for predictions without further training.\n",
      "loading file vocab.txt\n",
      "loading file tokenizer.json\n",
      "loading file added_tokens.json\n",
      "loading file special_tokens_map.json\n",
      "loading file tokenizer_config.json\n"
     ]
    },
    {
     "data": {
      "text/plain": [
       "[[{'entity_group': 'ORG',\n",
       "   'score': 0.989792,\n",
       "   'word': 'bloomberg',\n",
       "   'start': 41,\n",
       "   'end': 50}],\n",
       " [{'entity_group': 'LOC',\n",
       "   'score': 0.99837816,\n",
       "   'word': 'germany',\n",
       "   'start': 0,\n",
       "   'end': 7},\n",
       "  {'entity_group': 'ORG',\n",
       "   'score': 0.98408186,\n",
       "   'word': 'european union',\n",
       "   'start': 32,\n",
       "   'end': 46},\n",
       "  {'entity_group': 'PER',\n",
       "   'score': 0.9977307,\n",
       "   'word': 'werner zwingmann',\n",
       "   'start': 70,\n",
       "   'end': 86},\n",
       "  {'entity_group': 'LOC',\n",
       "   'score': 0.997421,\n",
       "   'word': 'britain',\n",
       "   'start': 162,\n",
       "   'end': 169}]]"
      ]
     },
     "execution_count": 21,
     "metadata": {},
     "output_type": "execute_result"
    }
   ],
   "source": [
    "from transformers.pipelines.token_classification import AggregationStrategy\n",
    "loaded_model = bentoml.transformers.load_model(\"ner-conll-base:latest\")\n",
    "\n",
    "loaded_model([\n",
    "    \"News of the letter was first reported by Bloomberg earlier on Tuesday.\",\n",
    "     \"Germany's representative to the European Union's veterinary committee Werner Zwingmann said on Wednesday consumers should buy sheepmeat from countries other than Britain until the scientific advice was clearer.\",\n",
    "], aggregation_strategy=AggregationStrategy.SIMPLE)"
   ]
  },
  {
   "cell_type": "markdown",
   "id": "535a3e1b-731f-479f-b907-b7b0146d2879",
   "metadata": {},
   "source": [
    "# Serving the model"
   ]
  },
  {
   "cell_type": "code",
   "execution_count": 23,
   "id": "fea683d8-6003-484c-b020-c833094c25b9",
   "metadata": {},
   "outputs": [
    {
     "name": "stdout",
     "output_type": "stream",
     "text": [
      "Writing ner_service.py\n"
     ]
    }
   ],
   "source": [
    "%%writefile ner_service.py\n",
    "import bentoml\n",
    "from transformers.pipelines.token_classification import AggregationStrategy\n",
    "\n",
    "from bentoml.io import Text, JSON\n",
    "\n",
    "runner = bentoml.transformers.get(\"ner-conll-base:latest\").to_runner()\n",
    "\n",
    "svc = bentoml.Service(\"ner_service\", runners=[runner])\n",
    "\n",
    "@svc.api(input=Text(), output=JSON())\n",
    "async def extract_ne(input_series: str) -> list:\n",
    "    return await runner.async_run(input_series, aggregation_strategy=AggregationStrategy.SIMPLE)"
   ]
  },
  {
   "cell_type": "code",
   "execution_count": 24,
   "id": "b6520c7f-e574-4e3f-ab52-6c9310ae7218",
   "metadata": {},
   "outputs": [
    {
     "name": "stdout",
     "output_type": "stream",
     "text": [
      "^C\n"
     ]
    }
   ],
   "source": [
    "!bentoml serve ner_service.py:svc --reload"
   ]
  },
  {
   "cell_type": "markdown",
   "id": "a125d4b4-976a-4383-b740-e4d7b47b44ee",
   "metadata": {},
   "source": [
    "## Build Bento for deployment"
   ]
  },
  {
   "cell_type": "code",
   "execution_count": 25,
   "id": "9f34f6f8-ab68-40e5-abbc-c0b97981c0e9",
   "metadata": {},
   "outputs": [
    {
     "name": "stdout",
     "output_type": "stream",
     "text": [
      "Writing bentofile.yaml\n"
     ]
    }
   ],
   "source": [
    "%%writefile bentofile.yaml\n",
    "service: \"ner_service.py:svc\"\n",
    "labels:\n",
    "  owner: haystac\n",
    "  project: haystac-ner\n",
    "include:\n",
    "- \"*.py\"\n",
    "python:\n",
    "  packages:\n",
    "  - transformers\n",
    "  - torch\n"
   ]
  },
  {
   "cell_type": "code",
   "execution_count": null,
   "id": "fd567d35-130d-4b37-9274-f6086f1f47c8",
   "metadata": {},
   "outputs": [],
   "source": []
  }
 ],
 "metadata": {
  "kernelspec": {
   "display_name": "Python 3 (ipykernel)",
   "language": "python",
   "name": "python3"
  },
  "language_info": {
   "codemirror_mode": {
    "name": "ipython",
    "version": 3
   },
   "file_extension": ".py",
   "mimetype": "text/x-python",
   "name": "python",
   "nbconvert_exporter": "python",
   "pygments_lexer": "ipython3",
   "version": "3.10.7"
  }
 },
 "nbformat": 4,
 "nbformat_minor": 5
}
