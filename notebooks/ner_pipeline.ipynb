{
 "cells": [
  {
   "cell_type": "code",
   "execution_count": 1,
   "id": "67b36322-c318-49db-9fc3-8cb113c8bf33",
   "metadata": {},
   "outputs": [],
   "source": [
    "from pathlib import Path\n",
    "\n",
    "current_dir = Path.cwd()\n",
    "# model_checkpoint_path = current_dir.parent / 'data' / \"models\" / \"checkpoints\" / \"checkpoint-2500/\"\n",
    "\n",
    "model_checkpoint_path = current_dir.parent / 'data' / \"models\" / \"microsoft/deberta-v3-large/conll2003/final\""
   ]
  },
  {
   "cell_type": "code",
   "execution_count": 2,
   "id": "96a5f470-bf00-4528-a534-ac770664aee5",
   "metadata": {},
   "outputs": [
    {
     "data": {
      "text/plain": [
       "(WindowsPath('C:/projects/sequence-labeling'),\n",
       " WindowsPath('C:/projects/sequence-labeling/data/models/microsoft/deberta-v3-large/conll2003/final'))"
      ]
     },
     "execution_count": 2,
     "metadata": {},
     "output_type": "execute_result"
    }
   ],
   "source": [
    "current_dir.parent, model_checkpoint_path"
   ]
  },
  {
   "cell_type": "code",
   "execution_count": 3,
   "id": "539b0ade-9a9f-4926-a5bf-680b83cda59e",
   "metadata": {},
   "outputs": [],
   "source": [
    "from transformers import pipeline\n",
    "from transformers import AutoTokenizer\n",
    "from transformers import AutoModelForTokenClassification\n",
    "\n",
    "model_checkpoint = str(model_checkpoint_path)\n",
    "# model_checkpoint = '../data/models/checkpoints/checkpoint-2500/'\n",
    "tokenizer = AutoTokenizer.from_pretrained(model_checkpoint)\n",
    "model = AutoModelForTokenClassification.from_pretrained(model_checkpoint)\n",
    "\n",
    "ner_pipeline = pipeline('token-classification', model=model, tokenizer=tokenizer,  aggregation_strategy=\"simple\")"
   ]
  },
  {
   "cell_type": "code",
   "execution_count": 4,
   "id": "38f85655-c2d4-4566-9c3f-9fe0e3729872",
   "metadata": {},
   "outputs": [
    {
     "data": {
      "text/plain": [
       "<transformers.pipelines.token_classification.TokenClassificationPipeline at 0x25af3446470>"
      ]
     },
     "execution_count": 4,
     "metadata": {},
     "output_type": "execute_result"
    }
   ],
   "source": [
    "ner_pipeline"
   ]
  },
  {
   "cell_type": "code",
   "execution_count": 5,
   "id": "6d5f5552-b4cd-45dc-b7d7-d25a32a4e2a8",
   "metadata": {
    "tags": []
   },
   "outputs": [
    {
     "name": "stderr",
     "output_type": "stream",
     "text": [
      "Asking to truncate to max_length but no maximum length is provided and the model has no predefined maximum length. Default to no truncation.\n",
      "C:\\Users\\artif\\AppData\\Local\\pypoetry\\Cache\\virtualenvs\\sequence-labeling-poy5HrIU-py3.10\\lib\\site-packages\\transformers\\models\\deberta_v2\\modeling_deberta_v2.py:745: UserWarning: To copy construct from a tensor, it is recommended to use sourceTensor.clone().detach() or sourceTensor.clone().detach().requires_grad_(True), rather than torch.tensor(sourceTensor).\n",
      "  attention_scores = torch.bmm(query_layer, key_layer.transpose(-1, -2)) / torch.tensor(\n",
      "C:\\Users\\artif\\AppData\\Local\\pypoetry\\Cache\\virtualenvs\\sequence-labeling-poy5HrIU-py3.10\\lib\\site-packages\\transformers\\models\\deberta_v2\\modeling_deberta_v2.py:829: UserWarning: To copy construct from a tensor, it is recommended to use sourceTensor.clone().detach() or sourceTensor.clone().detach().requires_grad_(True), rather than torch.tensor(sourceTensor).\n",
      "  score += c2p_att / torch.tensor(scale, dtype=c2p_att.dtype)\n",
      "C:\\Users\\artif\\AppData\\Local\\pypoetry\\Cache\\virtualenvs\\sequence-labeling-poy5HrIU-py3.10\\lib\\site-packages\\transformers\\models\\deberta_v2\\modeling_deberta_v2.py:852: UserWarning: To copy construct from a tensor, it is recommended to use sourceTensor.clone().detach() or sourceTensor.clone().detach().requires_grad_(True), rather than torch.tensor(sourceTensor).\n",
      "  score += p2c_att / torch.tensor(scale, dtype=p2c_att.dtype)\n"
     ]
    },
    {
     "name": "stdout",
     "output_type": "stream",
     "text": [
      "CPU times: total: 7.14 s\n",
      "Wall time: 5.53 s\n"
     ]
    },
    {
     "data": {
      "text/plain": [
       "[[{'entity_group': 'LOC',\n",
       "   'score': 0.99994946,\n",
       "   'word': 'Germany',\n",
       "   'start': 0,\n",
       "   'end': 7},\n",
       "  {'entity_group': 'ORG',\n",
       "   'score': 0.99979997,\n",
       "   'word': 'European Union',\n",
       "   'start': 31,\n",
       "   'end': 46},\n",
       "  {'entity_group': 'PER',\n",
       "   'score': 0.99989843,\n",
       "   'word': 'Werner Zwingmann',\n",
       "   'start': 69,\n",
       "   'end': 86},\n",
       "  {'entity_group': 'LOC',\n",
       "   'score': 0.9999504,\n",
       "   'word': 'Britain',\n",
       "   'start': 161,\n",
       "   'end': 169}],\n",
       " [{'entity_group': 'PER',\n",
       "   'score': 0.99978626,\n",
       "   'word': 'Elon Musk',\n",
       "   'start': 0,\n",
       "   'end': 9},\n",
       "  {'entity_group': 'ORG',\n",
       "   'score': 0.9998337,\n",
       "   'word': 'Twitter',\n",
       "   'start': 36,\n",
       "   'end': 44}],\n",
       " [{'entity_group': 'PER',\n",
       "   'score': 0.99949026,\n",
       "   'word': 'Musk',\n",
       "   'start': 14,\n",
       "   'end': 19},\n",
       "  {'entity_group': 'ORG',\n",
       "   'score': 0.9992749,\n",
       "   'word': 'Delaware Chancery Court',\n",
       "   'start': 158,\n",
       "   'end': 182},\n",
       "  {'entity_group': 'PER',\n",
       "   'score': 0.99801135,\n",
       "   'word': 'Musk',\n",
       "   'start': 219,\n",
       "   'end': 224}],\n",
       " [{'entity_group': 'ORG',\n",
       "   'score': 0.99979526,\n",
       "   'word': 'Twitter',\n",
       "   'start': 1,\n",
       "   'end': 9},\n",
       "  {'entity_group': 'ORG',\n",
       "   'score': 0.99978715,\n",
       "   'word': 'CNN',\n",
       "   'start': 45,\n",
       "   'end': 49},\n",
       "  {'entity_group': 'PER',\n",
       "   'score': 0.9997507,\n",
       "   'word': 'Musk',\n",
       "   'start': 75,\n",
       "   'end': 80}],\n",
       " [{'entity_group': 'PER',\n",
       "   'score': 0.999851,\n",
       "   'word': 'Musk',\n",
       "   'start': 0,\n",
       "   'end': 4},\n",
       "  {'entity_group': 'ORG',\n",
       "   'score': 0.9998841,\n",
       "   'word': 'Twitter',\n",
       "   'start': 38,\n",
       "   'end': 46},\n",
       "  {'entity_group': 'MISC',\n",
       "   'score': 0.99503326,\n",
       "   'word': 'X',\n",
       "   'start': 75,\n",
       "   'end': 77}],\n",
       " [{'entity_group': 'ORG',\n",
       "   'score': 0.9997739,\n",
       "   'word': 'Bloomberg',\n",
       "   'start': 40,\n",
       "   'end': 50}],\n",
       " [{'entity_group': 'ORG',\n",
       "   'score': 0.99989545,\n",
       "   'word': 'Twitter',\n",
       "   'start': 0,\n",
       "   'end': 7},\n",
       "  {'entity_group': 'ORG',\n",
       "   'score': 0.9989446,\n",
       "   'word': 'TW',\n",
       "   'start': 9,\n",
       "   'end': 11},\n",
       "  {'entity_group': 'ORG',\n",
       "   'score': 0.9993926,\n",
       "   'word': 'TR',\n",
       "   'start': 11,\n",
       "   'end': 13}],\n",
       " [{'entity_group': 'PER',\n",
       "   'score': 0.9998165,\n",
       "   'word': 'Musk',\n",
       "   'start': 90,\n",
       "   'end': 95},\n",
       "  {'entity_group': 'ORG',\n",
       "   'score': 0.9998714,\n",
       "   'word': 'Twitter',\n",
       "   'start': 166,\n",
       "   'end': 174}],\n",
       " [{'entity_group': 'ORG',\n",
       "   'score': 0.9998654,\n",
       "   'word': 'Twitter',\n",
       "   'start': 1,\n",
       "   'end': 8},\n",
       "  {'entity_group': 'PER',\n",
       "   'score': 0.9998946,\n",
       "   'word': 'Para',\n",
       "   'start': 12,\n",
       "   'end': 17},\n",
       "  {'entity_group': 'PER',\n",
       "   'score': 0.9998534,\n",
       "   'word': 'g Agrawal',\n",
       "   'start': 17,\n",
       "   'end': 26},\n",
       "  {'entity_group': 'PER',\n",
       "   'score': 0.99927086,\n",
       "   'word': 'Musk',\n",
       "   'start': 56,\n",
       "   'end': 61},\n",
       "  {'entity_group': 'ORG',\n",
       "   'score': 0.9996853,\n",
       "   'word': 'Twitter',\n",
       "   'start': 86,\n",
       "   'end': 94},\n",
       "  {'entity_group': 'PER',\n",
       "   'score': 0.9997694,\n",
       "   'word': 'Musk',\n",
       "   'start': 126,\n",
       "   'end': 131}]]"
      ]
     },
     "execution_count": 5,
     "metadata": {},
     "output_type": "execute_result"
    }
   ],
   "source": [
    "%%time\n",
    "ner_pipeline([\n",
    "    \"Germany's representative to the European Union's veterinary committee Werner Zwingmann said on Wednesday consumers should buy sheepmeat from countries other than Britain until the scientific advice was clearer .\",\n",
    "\"Elon Musk on Monday sent a letter to Twitter proposing to follow through with his deal to buy the company at the originally agreed upon price of $54.20 per share, according to a securities filing on Tuesday.\",\n",
    "\"In the letter, Musk said he would proceed with the acquisition on the original terms, pending receipt of the debt financing for the deal and provided that the Delaware Chancery Court stay the litigation proceedings over Musk’s initial attempt to pull out of the deal and adjourn the upcoming trial over the dispute.\",\n",
    "\"A Twitter spokesperson said in a statement to CNN that the company received Musk’s letter and reiterated its previous statement that the “intention of the Company is to close the transaction at $54.20 per share.”\",\n",
    "\"Musk on Tuesday night tweeted: “Buying Twitter is an accelerant to creating X, the everything app.”\",\n",
    "\"News of the letter was first reported by Bloomberg earlier on Tuesday.\",\n",
    "\"Twitter (TWTR) stock was halted twice, the second time for news pending. After the stock resumed trading, it was up more than 20%, topping $51 a share and approaching the agreed upon deal price for the first time in months.\",\n",
    "\"The news comes as the the two sides have been preparing to head to trial in two weeks over Musk’s attempt to terminate of the $44 billion acquisition agreement, which Twitter had sued him to complete.\",\n",
    "\" Twitter CEO Parag Agrawal had been set to be deposed by Musk’s lawyers on Monday, and Twitter’s lawyers had planned to depose Musk starting on Thursday.\"\n",
    "])"
   ]
  },
  {
   "cell_type": "markdown",
   "id": "c0379e77-4667-4567-86eb-3a2c69060ffd",
   "metadata": {},
   "source": [
    "# Save bento model"
   ]
  },
  {
   "cell_type": "code",
   "execution_count": 6,
   "id": "30a3c32f-677e-478c-8c55-159ff45e092a",
   "metadata": {
    "tags": []
   },
   "outputs": [
    {
     "name": "stderr",
     "output_type": "stream",
     "text": [
      "No versions of Flax or Jax are found under the current machine. In order to use Flax with transformers 4.x and above, refers to https://github.com/google/flax#quick-install\n"
     ]
    },
    {
     "data": {
      "text/plain": [
       "Model(tag=\"ner-conll-base:ufruozcilgnbhpax\", path=\"C:\\Users\\artif\\bentoml\\models\\ner-conll-base\\ufruozcilgnbhpax\\\")"
      ]
     },
     "execution_count": 6,
     "metadata": {},
     "output_type": "execute_result"
    }
   ],
   "source": [
    "import bentoml\n",
    "\n",
    "bentoml.transformers.save_model(name=\"ner-conll-base\", pipeline=ner_pipeline)"
   ]
  },
  {
   "cell_type": "code",
   "execution_count": 7,
   "id": "c9a4b696-7318-4e5b-aa2e-d456173c4d63",
   "metadata": {},
   "outputs": [
    {
     "name": "stdout",
     "output_type": "stream",
     "text": [
      " Tag                     Module                Size        Creation Time       \n",
      " ner-conll-base:ufruozвЂ¦  bentoml.transformers  1.63 GiB    2022-10-10 08:08:51 \n",
      " ner-conll-base:qrrzpeвЂ¦  bentoml.transformers  1.63 GiB    2022-10-10 07:17:56 \n",
      " ner-conll-base:vcktiiвЂ¦  bentoml.transformers  254.11 MiB  2022-10-05 15:17:19 \n",
      " ner:hid2jpsejoublpax    bentoml.transformers  254.11 MiB  2022-10-05 04:15:40 \n"
     ]
    }
   ],
   "source": [
    "!bentoml models list"
   ]
  },
  {
   "cell_type": "code",
   "execution_count": 8,
   "id": "618809b1-18d9-4bd8-841e-6d5891ab4102",
   "metadata": {},
   "outputs": [
    {
     "name": "stdout",
     "output_type": "stream",
     "text": [
      "name: ner-conll-base                                                           \n",
      "version: ufruozcilgnbhpax                                                      \n",
      "module: bentoml.transformers                                                   \n",
      "labels: {}                                                                     \n",
      "options:                                                                       \n",
      "  task: token-classification                                                   \n",
      "  tf: []                                                                       \n",
      "  pt: []                                                                       \n",
      "  default: {}                                                                  \n",
      "  type: null                                                                   \n",
      "  kwargs: {}                                                                   \n",
      "metadata: {}                                                                   \n",
      "context:                                                                       \n",
      "  framework_name: transformers                                                 \n",
      "  framework_versions:                                                          \n",
      "    transformers: 4.22.2                                                       \n",
      "  bentoml_version: 1.0.7                                                       \n",
      "  python_version: 3.10.7                                                       \n",
      "signatures:                                                                    \n",
      "  __call__:                                                                    \n",
      "    batchable: false                                                           \n",
      "api_version: v1                                                                \n",
      "creation_time: '2022-10-10T05:08:51.529072+00:00'                              \n",
      "                                                                               \n"
     ]
    }
   ],
   "source": [
    "!bentoml models get ner-conll-base:latest"
   ]
  },
  {
   "cell_type": "markdown",
   "id": "9ca44d89-9733-4945-a679-183620af1d89",
   "metadata": {},
   "source": [
    "# Verify model"
   ]
  },
  {
   "cell_type": "code",
   "execution_count": 9,
   "id": "cf0a0c95-45ce-4d3c-9559-bfe07cbea4b5",
   "metadata": {
    "tags": []
   },
   "outputs": [
    {
     "name": "stderr",
     "output_type": "stream",
     "text": [
      "No versions of Flax or Jax are found under the current machine. In order to use Flax with transformers 4.x and above, refers to https://github.com/google/flax#quick-install\n",
      "Asking to truncate to max_length but no maximum length is provided and the model has no predefined maximum length. Default to no truncation.\n"
     ]
    },
    {
     "data": {
      "text/plain": [
       "[[{'entity_group': 'ORG',\n",
       "   'score': 0.9997739,\n",
       "   'word': 'Bloomberg',\n",
       "   'start': 40,\n",
       "   'end': 50}],\n",
       " [{'entity_group': 'LOC',\n",
       "   'score': 0.99994946,\n",
       "   'word': 'Germany',\n",
       "   'start': 0,\n",
       "   'end': 7},\n",
       "  {'entity_group': 'ORG',\n",
       "   'score': 0.9998001,\n",
       "   'word': 'European Union',\n",
       "   'start': 31,\n",
       "   'end': 46},\n",
       "  {'entity_group': 'PER',\n",
       "   'score': 0.99989784,\n",
       "   'word': 'Werner Zwingmann',\n",
       "   'start': 69,\n",
       "   'end': 86},\n",
       "  {'entity_group': 'LOC',\n",
       "   'score': 0.9999503,\n",
       "   'word': 'Britain',\n",
       "   'start': 161,\n",
       "   'end': 169}]]"
      ]
     },
     "execution_count": 9,
     "metadata": {},
     "output_type": "execute_result"
    }
   ],
   "source": [
    "from transformers.pipelines.token_classification import AggregationStrategy\n",
    "loaded_model = bentoml.transformers.load_model(\"ner-conll-base:latest\")\n",
    "\n",
    "loaded_model([\n",
    "    \"News of the letter was first reported by Bloomberg earlier on Tuesday.\",\n",
    "     \"Germany's representative to the European Union's veterinary committee Werner Zwingmann said on Wednesday consumers should buy sheepmeat from countries other than Britain until the scientific advice was clearer.\",\n",
    "], aggregation_strategy=AggregationStrategy.SIMPLE)"
   ]
  },
  {
   "cell_type": "markdown",
   "id": "535a3e1b-731f-479f-b907-b7b0146d2879",
   "metadata": {},
   "source": [
    "# Serving the model"
   ]
  },
  {
   "cell_type": "code",
   "execution_count": 2,
   "id": "fea683d8-6003-484c-b020-c833094c25b9",
   "metadata": {},
   "outputs": [
    {
     "name": "stdout",
     "output_type": "stream",
     "text": [
      "Overwriting ner_service.py\n"
     ]
    }
   ],
   "source": [
    "%%writefile ner_service.py\n",
    "import bentoml\n",
    "from transformers.pipelines.token_classification import AggregationStrategy\n",
    "\n",
    "from bentoml.io import Text, JSON\n",
    "\n",
    "runner = bentoml.transformers.get(\"ner-conll-base:latest\").to_runner()\n",
    "\n",
    "svc = bentoml.Service(\"ner_service\", runners=[runner])\n",
    "\n",
    "import re\n",
    "fixre = re.compile(r'[\\\\\\\"\\!#$%\\&\\'\\*\\+\\-\\.\\^_`\\|\\~\\:]+')\n",
    "\n",
    "\n",
    "from dataclasses import dataclass\n",
    "\n",
    "@dataclass\n",
    "class EntityGroup:\n",
    "    entity_group: str\n",
    "    score: float\n",
    "    word: str\n",
    "    start: int\n",
    "    end: int \n",
    "    \n",
    "def fix_aggregation(egl):\n",
    "    \n",
    "    current_eg = EntityGroup(**egl[0])\n",
    "    cc = 1\n",
    "    r = []\n",
    "    for eg in egl[1:]:\n",
    "        next_eg = EntityGroup(**eg)\n",
    "        # print(f'--{next_eg}')\n",
    "        if current_eg.entity_group == next_eg.entity_group and current_eg.end == next_eg.start:\n",
    "            current_eg.word = current_eg.word + next_eg.word\n",
    "            current_eg.end = next_eg.end\n",
    "            current_eg.score = current_eg.score + next_eg.score\n",
    "            cc=cc+1\n",
    "        else:\n",
    "            if fixre.fullmatch(next_eg.word):\n",
    "                continue\n",
    "            \n",
    "            current_eg.score = current_eg.score/float(cc)\n",
    "            r.append(current_eg.__dict__)\n",
    "            cc = 1\n",
    "            current_eg = next_eg\n",
    "            \n",
    "    current_eg.score = current_eg.score/float(cc)        \n",
    "    r.append(current_eg.__dict__)\n",
    "    return r\n",
    "\n",
    "# @svc.api(input=Text(), output=JSON())\n",
    "# async def extract_ne(input_series: str) -> list:\n",
    "#     return await runner.async_run(input_series, aggregation_strategy=AggregationStrategy.SIMPLE)\n",
    "\n",
    "@svc.api(input=JSON(), output=JSON(), doc='Extract named entities from list of sentences. Input: [\"sentence1\", \"sentence2\", ..., \"sentenceN\"] Output: [[sentence1 tags], [sentence2 tags], ..., [sentenceN tags]]')\n",
    "async def extract_ne(input_json: list) -> list:\n",
    "    x = await runner.async_run(input_json, aggregation_strategy=AggregationStrategy.SIMPLE)\n",
    "    return [fix_aggregation(e) for e in x]"
   ]
  },
  {
   "cell_type": "code",
   "execution_count": 25,
   "id": "b6520c7f-e574-4e3f-ab52-6c9310ae7218",
   "metadata": {},
   "outputs": [
    {
     "name": "stdout",
     "output_type": "stream",
     "text": [
      "^C\n"
     ]
    }
   ],
   "source": [
    "!bentoml serve ner_service.py:svc --reload"
   ]
  },
  {
   "cell_type": "markdown",
   "id": "a125d4b4-976a-4383-b740-e4d7b47b44ee",
   "metadata": {},
   "source": [
    "## Build Bento for deployment"
   ]
  },
  {
   "cell_type": "code",
   "execution_count": 8,
   "id": "9f34f6f8-ab68-40e5-abbc-c0b97981c0e9",
   "metadata": {},
   "outputs": [
    {
     "name": "stdout",
     "output_type": "stream",
     "text": [
      "Overwriting bentofile.yaml\n"
     ]
    }
   ],
   "source": [
    "%%writefile bentofile.yaml\n",
    "service: \"ner_service.py:svc\"\n",
    "description: |\n",
    "    ##  Haystac NER service. 🍱\n",
    "\n",
    "labels:\n",
    "  owner: haystac\n",
    "  project: haystac-ner \n",
    "include:\n",
    "- \"*.py\"\n",
    "python:\n",
    "  packages:\n",
    "  - transformers\n",
    "  - torch\n",
    "\n"
   ]
  },
  {
   "cell_type": "code",
   "execution_count": 9,
   "id": "fd567d35-130d-4b37-9274-f6086f1f47c8",
   "metadata": {},
   "outputs": [
    {
     "name": "stdout",
     "output_type": "stream",
     "text": [
      "Overwriting bentoml_configuration.yaml\n"
     ]
    }
   ],
   "source": [
    "%%writefile bentoml_configuration.yaml\n",
    " api_server:\n",
    "   workers: 8\n",
    "   timeout: 60\n",
    "   http:\n",
    "     port: 6000"
   ]
  },
  {
   "cell_type": "code",
   "execution_count": 16,
   "id": "dcfe3668-1155-4017-8a74-51425d2202a8",
   "metadata": {},
   "outputs": [
    {
     "name": "stdout",
     "output_type": "stream",
     "text": [
      "Building BentoML service \"ner_service:izpp37cilo76zpax\" from build context \"C:\\projects\\sequence-labeling\\notebooks\"\n",
      "Packing model \"ner-conll-base:ufruozcilgnbhpax\"\n",
      "Locking PyPI package versions..\n",
      "\n",
      "в–€в–€в–€в–€в–€в–€в•—в–‘в–€в–€в–€в–€в–€в–€в–€в•—в–€в–€в–€в•—в–‘в–‘в–€в–€в•—в–€в–€в–€в–€в–€в–€в–€в–€в•—в–‘в–€в–€в–€в–€в–€в•—в–‘в–€в–€в–€в•—в–‘в–‘в–‘в–€в–€в–€в•—в–€в–€в•—в–‘в–‘в–‘в–‘в–‘\n",
      "в–€в–€в•”в•ђв•ђв–€в–€в•—в–€в–€в•”в•ђв•ђв•ђв•ђв•ќв–€в–€в–€в–€в•—в–‘в–€в–€в•‘в•љв•ђв•ђв–€в–€в•”в•ђв•ђв•ќв–€в–€в•”в•ђв•ђв–€в–€в•—в–€в–€в–€в–€в•—в–‘в–€в–€в–€в–€в•‘в–€в–€в•‘в–‘в–‘в–‘в–‘в–‘\n",
      "в–€в–€в–€в–€в–€в–€в•¦в•ќв–€в–€в–€в–€в–€в•—в–‘в–‘в–€в–€в•”в–€в–€в•—в–€в–€в•‘в–‘в–‘в–‘в–€в–€в•‘в–‘в–‘в–‘в–€в–€в•‘в–‘в–‘в–€в–€в•‘в–€в–€в•”в–€в–€в–€в–€в•”в–€в–€в•‘в–€в–€в•‘в–‘в–‘в–‘в–‘в–‘\n",
      "в–€в–€в•”в•ђв•ђв–€в–€в•—в–€в–€в•”в•ђв•ђв•ќв–‘в–‘в–€в–€в•‘в•љв–€в–€в–€в–€в•‘в–‘в–‘в–‘в–€в–€в•‘в–‘в–‘в–‘в–€в–€в•‘в–‘в–‘в–€в–€в•‘в–€в–€в•‘в•љв–€в–€в•”в•ќв–€в–€в•‘в–€в–€в•‘в–‘в–‘в–‘в–‘в–‘\n",
      "в–€в–€в–€в–€в–€в–€в•¦в•ќв–€в–€в–€в–€в–€в–€в–€в•—в–€в–€в•‘в–‘в•љв–€в–€в–€в•‘в–‘в–‘в–‘в–€в–€в•‘в–‘в–‘в–‘в•љв–€в–€в–€в–€в–€в•”в•ќв–€в–€в•‘в–‘в•љв•ђв•ќв–‘в–€в–€в•‘в–€в–€в–€в–€в–€в–€в–€в•—\n",
      "в•љв•ђв•ђв•ђв•ђв•ђв•ќв–‘в•љв•ђв•ђв•ђв•ђв•ђв•ђв•ќв•љв•ђв•ќв–‘в–‘в•љв•ђв•ђв•ќв–‘в–‘в–‘в•љв•ђв•ќв–‘в–‘в–‘в–‘в•љв•ђв•ђв•ђв•ђв•ќв–‘в•љв•ђв•ќв–‘в–‘в–‘в–‘в–‘в•љв•ђв•ќв•љв•ђв•ђв•ђв•ђв•ђв•ђв•ќ\n",
      "\n",
      "Successfully built Bento(tag=\"ner_service:izpp37cilo76zpax\")\n"
     ]
    }
   ],
   "source": [
    "!bentoml build --version 0.1.1"
   ]
  },
  {
   "cell_type": "code",
   "execution_count": 14,
   "id": "2afceb4f-5ead-47dd-aacb-fdf348ed0cfa",
   "metadata": {},
   "outputs": [
    {
     "name": "stderr",
     "output_type": "stream",
     "text": [
      "Error: [bentoml-cli] `containerize` failed: no Bentos with name 'ner_service.py' exist in BentoML store <osfs 'C:\\Users\\artif\\bentoml\\bentos'>\n"
     ]
    }
   ],
   "source": [
    "!bentoml containerize ner_service:latest"
   ]
  },
  {
   "cell_type": "code",
   "execution_count": null,
   "id": "8a6e65e3-faa2-4258-a83c-c260a7060881",
   "metadata": {},
   "outputs": [],
   "source": []
  }
 ],
 "metadata": {
  "kernelspec": {
   "display_name": "Python 3 (ipykernel)",
   "language": "python",
   "name": "python3"
  },
  "language_info": {
   "codemirror_mode": {
    "name": "ipython",
    "version": 3
   },
   "file_extension": ".py",
   "mimetype": "text/x-python",
   "name": "python",
   "nbconvert_exporter": "python",
   "pygments_lexer": "ipython3",
   "version": "3.10.8"
  }
 },
 "nbformat": 4,
 "nbformat_minor": 5
}
