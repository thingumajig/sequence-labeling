{
 "cells": [
  {
   "cell_type": "code",
   "execution_count": 1,
   "id": "cc6ba3c3-ee77-4435-b0bf-06153ad40a20",
   "metadata": {},
   "outputs": [],
   "source": [
    "task = \"ner\" # Should be one of \"ner\", \"pos\" or \"chunk\"\n",
    "# pretrained_model = \"distilbert-base-uncased\"\n",
    "# pretrained_model = \"xlm-roberta-large\"\n",
    "pretrained_model = \"microsoft/deberta-v3-small\" # not work\n",
    "# pretrained_model = \"kamalkraj/deberta-v2-xlarge\"\n",
    "# model_checkpoint = \"/root/ner-model/test-ner/checkpoint-2500/\"\n",
    "\n",
    "source_dataset_name = \"conll2003\"\n",
    "checkpoint_name = 'checkpoint-3512'\n",
    "model_checkpoint = f\"../data/models/{pretrained_model}/{source_dataset_name}/{checkpoint_name}\"\n",
    "\n",
    "# use_pretrained_model = False\n",
    "# if use_pretrained_model:\n",
    "#     model_checkpoint = pretrained_model\n",
    "\n",
    "batch_size = 16\n",
    "\n",
    "# dataset_name = \"wnut_17\"\n",
    "dataset_name = \"SpeedOfMagic/ontonotes_english\""
   ]
  },
  {
   "cell_type": "markdown",
   "id": "c9564e81-1b58-4634-afe7-b9fc15290b61",
   "metadata": {
    "tags": []
   },
   "source": [
    "# Loading dataset"
   ]
  },
  {
   "cell_type": "code",
   "execution_count": 2,
   "id": "799f6ae9-35f2-4ded-a3ac-ed48689934f9",
   "metadata": {},
   "outputs": [],
   "source": [
    "from datasets import load_dataset, load_metric"
   ]
  },
  {
   "cell_type": "code",
   "execution_count": 3,
   "id": "236338c8-c76c-4b68-8c1a-bbf8778ba463",
   "metadata": {},
   "outputs": [
    {
     "name": "stderr",
     "output_type": "stream",
     "text": [
      "Using custom data configuration SpeedOfMagic--ontonotes_english-955f75f6fda13fd9\n",
      "Found cached dataset parquet (/root/.cache/huggingface/datasets/SpeedOfMagic___parquet/SpeedOfMagic--ontonotes_english-955f75f6fda13fd9/0.0.0/2a3b91fbd88a2c90d1dbbb32b460cf621d31bd5b05b934492fdef7d8d6f236ec)\n"
     ]
    },
    {
     "data": {
      "application/vnd.jupyter.widget-view+json": {
       "model_id": "fe2ad987027a499eb29c121bd8cdcfa3",
       "version_major": 2,
       "version_minor": 0
      },
      "text/plain": [
       "  0%|          | 0/3 [00:00<?, ?it/s]"
      ]
     },
     "metadata": {},
     "output_type": "display_data"
    }
   ],
   "source": [
    "datasets = load_dataset(dataset_name)"
   ]
  },
  {
   "cell_type": "code",
   "execution_count": 4,
   "id": "8266f9fe-8cfc-47c3-a52e-d909ba469efb",
   "metadata": {},
   "outputs": [
    {
     "data": {
      "text/plain": [
       "DatasetDict({\n",
       "    validation: Dataset({\n",
       "        features: ['tokens', 'ner_tags'],\n",
       "        num_rows: 13900\n",
       "    })\n",
       "    test: Dataset({\n",
       "        features: ['tokens', 'ner_tags'],\n",
       "        num_rows: 8262\n",
       "    })\n",
       "    train: Dataset({\n",
       "        features: ['tokens', 'ner_tags'],\n",
       "        num_rows: 59924\n",
       "    })\n",
       "})"
      ]
     },
     "execution_count": 4,
     "metadata": {},
     "output_type": "execute_result"
    }
   ],
   "source": [
    "datasets"
   ]
  },
  {
   "cell_type": "code",
   "execution_count": 5,
   "id": "1fc3d62b-edde-44d8-b794-e767105d2ba2",
   "metadata": {},
   "outputs": [
    {
     "data": {
      "text/plain": [
       "{'tokens': ['Sunday', 'the', 'interview', 'with', 'Bob', 'Shapiro', '.'],\n",
       " 'ner_tags': [15, 0, 0, 0, 1, 2, 0]}"
      ]
     },
     "execution_count": 5,
     "metadata": {},
     "output_type": "execute_result"
    }
   ],
   "source": [
    "datasets[\"train\"][0]"
   ]
  },
  {
   "cell_type": "code",
   "execution_count": 6,
   "id": "19f33e16-6cfd-47fd-ad14-1df465133655",
   "metadata": {},
   "outputs": [
    {
     "data": {
      "text/plain": [
       "Sequence(feature=ClassLabel(num_classes=37, names=['O', 'B-PERSON', 'I-PERSON', 'B-NORP', 'I-NORP', 'B-FAC', 'I-FAC', 'B-ORG', 'I-ORG', 'B-GPE', 'I-GPE', 'B-LOC', 'I-LOC', 'B-PRODUCT', 'I-PRODUCT', 'B-DATE', 'I-DATE', 'B-TIME', 'I-TIME', 'B-PERCENT', 'I-PERCENT', 'B-MONEY', 'I-MONEY', 'B-QUANTITY', 'I-QUANTITY', 'B-ORDINAL', 'I-ORDINAL', 'B-CARDINAL', 'I-CARDINAL', 'B-EVENT', 'I-EVENT', 'B-WORK_OF_ART', 'I-WORK_OF_ART', 'B-LAW', 'I-LAW', 'B-LANGUAGE', 'I-LANGUAGE'], id=None), length=-1, id=None)"
      ]
     },
     "execution_count": 6,
     "metadata": {},
     "output_type": "execute_result"
    }
   ],
   "source": [
    "datasets[\"train\"].features[f\"ner_tags\"]"
   ]
  },
  {
   "cell_type": "code",
   "execution_count": 7,
   "id": "474f45ac-26cc-48ed-bc2a-de015ba980e3",
   "metadata": {},
   "outputs": [
    {
     "data": {
      "text/plain": [
       "['O',\n",
       " 'B-PERSON',\n",
       " 'I-PERSON',\n",
       " 'B-NORP',\n",
       " 'I-NORP',\n",
       " 'B-FAC',\n",
       " 'I-FAC',\n",
       " 'B-ORG',\n",
       " 'I-ORG',\n",
       " 'B-GPE',\n",
       " 'I-GPE',\n",
       " 'B-LOC',\n",
       " 'I-LOC',\n",
       " 'B-PRODUCT',\n",
       " 'I-PRODUCT',\n",
       " 'B-DATE',\n",
       " 'I-DATE',\n",
       " 'B-TIME',\n",
       " 'I-TIME',\n",
       " 'B-PERCENT',\n",
       " 'I-PERCENT',\n",
       " 'B-MONEY',\n",
       " 'I-MONEY',\n",
       " 'B-QUANTITY',\n",
       " 'I-QUANTITY',\n",
       " 'B-ORDINAL',\n",
       " 'I-ORDINAL',\n",
       " 'B-CARDINAL',\n",
       " 'I-CARDINAL',\n",
       " 'B-EVENT',\n",
       " 'I-EVENT',\n",
       " 'B-WORK_OF_ART',\n",
       " 'I-WORK_OF_ART',\n",
       " 'B-LAW',\n",
       " 'I-LAW',\n",
       " 'B-LANGUAGE',\n",
       " 'I-LANGUAGE']"
      ]
     },
     "execution_count": 7,
     "metadata": {},
     "output_type": "execute_result"
    }
   ],
   "source": [
    "label_list = datasets[\"train\"].features[f\"{task}_tags\"].feature.names\n",
    "label_list"
   ]
  },
  {
   "cell_type": "code",
   "execution_count": 8,
   "id": "22840012-bd71-4d45-9ba0-f842c14d0ff8",
   "metadata": {},
   "outputs": [],
   "source": [
    "from datasets import ClassLabel, Sequence\n",
    "import random\n",
    "import pandas as pd\n",
    "from IPython.display import display, HTML\n",
    "\n",
    "def show_random_elements(dataset, num_examples=10):\n",
    "    assert num_examples <= len(dataset), \"Can't pick more elements than there are in the dataset.\"\n",
    "    picks = []\n",
    "    for _ in range(num_examples):\n",
    "        pick = random.randint(0, len(dataset)-1)\n",
    "        while pick in picks:\n",
    "            pick = random.randint(0, len(dataset)-1)\n",
    "        picks.append(pick)\n",
    "    \n",
    "    df = pd.DataFrame(dataset[picks])\n",
    "    for column, typ in dataset.features.items():\n",
    "        if isinstance(typ, ClassLabel):\n",
    "            df[column] = df[column].transform(lambda i: typ.names[i])\n",
    "        elif isinstance(typ, Sequence) and isinstance(typ.feature, ClassLabel):\n",
    "            df[column] = df[column].transform(lambda x: [typ.feature.names[i] for i in x])\n",
    "    display(HTML(df.to_html()))"
   ]
  },
  {
   "cell_type": "code",
   "execution_count": 9,
   "id": "03316153-f558-46f7-a354-ac19338fbe17",
   "metadata": {},
   "outputs": [
    {
     "data": {
      "text/html": [
       "<table border=\"1\" class=\"dataframe\">\n",
       "  <thead>\n",
       "    <tr style=\"text-align: right;\">\n",
       "      <th></th>\n",
       "      <th>tokens</th>\n",
       "      <th>ner_tags</th>\n",
       "    </tr>\n",
       "  </thead>\n",
       "  <tbody>\n",
       "    <tr>\n",
       "      <th>0</th>\n",
       "      <td>[and, that, 's, nice]</td>\n",
       "      <td>[O, O, O, O]</td>\n",
       "    </tr>\n",
       "    <tr>\n",
       "      <th>1</th>\n",
       "      <td>[Well, you, know, what, Alison]</td>\n",
       "      <td>[O, O, O, O, B-PERSON]</td>\n",
       "    </tr>\n",
       "    <tr>\n",
       "      <th>2</th>\n",
       "      <td>[Peter, Karches, ,, managing, director, at, underwriter, Morgan, Stanley, &amp;, Co., ,, said, the, issue, was, oversubscribed, .]</td>\n",
       "      <td>[B-PERSON, I-PERSON, O, O, O, O, O, B-ORG, I-ORG, I-ORG, I-ORG, O, O, O, O, O, O, O]</td>\n",
       "    </tr>\n",
       "    <tr>\n",
       "      <th>3</th>\n",
       "      <td>[Both, of, Dr., Baltimore, 's, public, faces, have, been, on, view, the, past, few, weeks, while, he, was, under, consideration, to, succeed, Joshua, Lederberg, as, head, of, the, prestigious, Rockefeller, research, institution, .]</td>\n",
       "      <td>[O, O, O, B-PERSON, O, O, O, O, O, O, O, B-DATE, I-DATE, I-DATE, I-DATE, O, O, O, O, O, O, O, B-PERSON, I-PERSON, O, O, O, O, O, B-ORG, O, O, O]</td>\n",
       "    </tr>\n",
       "    <tr>\n",
       "      <th>4</th>\n",
       "      <td>[Looking, for, a, shelter, is, not, easy, .]</td>\n",
       "      <td>[O, O, O, O, O, O, O, O]</td>\n",
       "    </tr>\n",
       "    <tr>\n",
       "      <th>5</th>\n",
       "      <td>[and, we, have, our, %um]</td>\n",
       "      <td>[O, O, O, O, O]</td>\n",
       "    </tr>\n",
       "    <tr>\n",
       "      <th>6</th>\n",
       "      <td>[For, the, private, domestic, business, economy, ,, the, bias, was, a, bit, over, 0.5, percentage, point, .]</td>\n",
       "      <td>[O, O, O, O, O, O, O, O, O, O, O, O, O, B-CARDINAL, O, O, O]</td>\n",
       "    </tr>\n",
       "    <tr>\n",
       "      <th>7</th>\n",
       "      <td>[In, his, Rolling, Stone, interview, in, 1980, ,, Mr., Bush, volunteered, his, abortion, -, rights, remarks, to, contrast, himself, with, his, rival, ,, Ronald, Reagan, .]</td>\n",
       "      <td>[O, O, B-ORG, I-ORG, O, O, B-DATE, O, O, B-PERSON, O, O, O, O, O, O, O, O, O, O, O, O, O, B-PERSON, I-PERSON, O]</td>\n",
       "    </tr>\n",
       "    <tr>\n",
       "      <th>8</th>\n",
       "      <td>[They, did, have, their, CCTV, operational, .]</td>\n",
       "      <td>[O, O, O, O, O, O, O]</td>\n",
       "    </tr>\n",
       "    <tr>\n",
       "      <th>9</th>\n",
       "      <td>[The, late, start, may, be, a, handicap, for, the, bank, as, Spain, continues, to, open, up, its, market, to, foreign, competition, .]</td>\n",
       "      <td>[O, O, O, O, O, O, O, O, O, O, O, B-GPE, O, O, O, O, O, O, O, O, O, O]</td>\n",
       "    </tr>\n",
       "  </tbody>\n",
       "</table>"
      ],
      "text/plain": [
       "<IPython.core.display.HTML object>"
      ]
     },
     "metadata": {},
     "output_type": "display_data"
    }
   ],
   "source": [
    "show_random_elements(datasets[\"train\"])"
   ]
  },
  {
   "cell_type": "markdown",
   "id": "8c9b68c2-9334-4985-b605-1ad9356008f3",
   "metadata": {
    "tags": []
   },
   "source": [
    "# Preprocessing dataset"
   ]
  },
  {
   "cell_type": "code",
   "execution_count": 10,
   "id": "862ec972-5613-4491-a970-d64ccf4eaee7",
   "metadata": {},
   "outputs": [],
   "source": [
    "from transformers import AutoTokenizer\n",
    "    \n",
    "tokenizer = AutoTokenizer.from_pretrained(model_checkpoint)"
   ]
  },
  {
   "cell_type": "code",
   "execution_count": 11,
   "id": "31a5c158-0fd9-41f7-8db6-759bd439ac42",
   "metadata": {},
   "outputs": [],
   "source": [
    "import transformers\n",
    "assert isinstance(tokenizer, transformers.PreTrainedTokenizerFast)"
   ]
  },
  {
   "cell_type": "code",
   "execution_count": 12,
   "id": "e2041685-3912-41f7-a31a-218860e18640",
   "metadata": {},
   "outputs": [
    {
     "data": {
      "text/plain": [
       "{'input_ids': [1, 5365, 261, 291, 269, 311, 4378, 300, 2], 'token_type_ids': [0, 0, 0, 0, 0, 0, 0, 0, 0], 'attention_mask': [1, 1, 1, 1, 1, 1, 1, 1, 1]}"
      ]
     },
     "execution_count": 12,
     "metadata": {},
     "output_type": "execute_result"
    }
   ],
   "source": [
    "tokenizer(\"Hello, this is one sentence!\")"
   ]
  },
  {
   "cell_type": "code",
   "execution_count": 13,
   "id": "4588dbcf-f260-4e91-b551-f2d0adde4777",
   "metadata": {},
   "outputs": [
    {
     "name": "stdout",
     "output_type": "stream",
     "text": [
      "['and', 'they', 'are', 'in', 'Atlanta', '.']\n"
     ]
    }
   ],
   "source": [
    "example = datasets[\"train\"][4]\n",
    "print(example[\"tokens\"])"
   ]
  },
  {
   "cell_type": "code",
   "execution_count": 14,
   "id": "1f98c301-64a2-430a-8338-d90ab3aec544",
   "metadata": {},
   "outputs": [
    {
     "name": "stdout",
     "output_type": "stream",
     "text": [
      "['[CLS]', '▁and', '▁they', '▁are', '▁in', '▁Atlanta', '▁.', '[SEP]']\n"
     ]
    }
   ],
   "source": [
    "tokenized_input = tokenizer(example[\"tokens\"], is_split_into_words=True)\n",
    "tokens = tokenizer.convert_ids_to_tokens(tokenized_input[\"input_ids\"])\n",
    "print(tokens)"
   ]
  },
  {
   "cell_type": "code",
   "execution_count": 15,
   "id": "940e2c7e-3d28-4163-b904-b833b3450894",
   "metadata": {},
   "outputs": [
    {
     "data": {
      "text/plain": [
       "(6, 8)"
      ]
     },
     "execution_count": 15,
     "metadata": {},
     "output_type": "execute_result"
    }
   ],
   "source": [
    "len(example[f\"{task}_tags\"]), len(tokenized_input[\"input_ids\"])"
   ]
  },
  {
   "cell_type": "code",
   "execution_count": 16,
   "id": "357885f5-d859-4faa-b2f8-8f0069aeae33",
   "metadata": {},
   "outputs": [
    {
     "name": "stdout",
     "output_type": "stream",
     "text": [
      "[None, 0, 1, 2, 3, 4, 5, None]\n"
     ]
    }
   ],
   "source": [
    "print(tokenized_input.word_ids())"
   ]
  },
  {
   "cell_type": "code",
   "execution_count": 17,
   "id": "bdc9d7ae-b277-46ae-b125-7ac13c46a957",
   "metadata": {},
   "outputs": [
    {
     "name": "stdout",
     "output_type": "stream",
     "text": [
      "8 8\n"
     ]
    }
   ],
   "source": [
    "word_ids = tokenized_input.word_ids()\n",
    "aligned_labels = [-100 if i is None else example[f\"{task}_tags\"][i] for i in word_ids]\n",
    "print(len(aligned_labels), len(tokenized_input[\"input_ids\"]))"
   ]
  },
  {
   "cell_type": "code",
   "execution_count": 18,
   "id": "a49d17ab-27c9-4c9a-880c-857a4f3fb8ce",
   "metadata": {},
   "outputs": [],
   "source": [
    "label_all_tokens = True"
   ]
  },
  {
   "cell_type": "code",
   "execution_count": 19,
   "id": "ebbbcb79-29aa-406d-87ce-e538fac96c73",
   "metadata": {},
   "outputs": [],
   "source": [
    "def tokenize_and_align_labels(examples):\n",
    "    tokenized_inputs = tokenizer(examples[\"tokens\"], truncation=True, is_split_into_words=True)\n",
    "\n",
    "    labels = []\n",
    "    for i, label in enumerate(examples[f\"{task}_tags\"]):\n",
    "        word_ids = tokenized_inputs.word_ids(batch_index=i)\n",
    "        previous_word_idx = None\n",
    "        label_ids = []\n",
    "        for word_idx in word_ids:\n",
    "            # Special tokens have a word id that is None. We set the label to -100 so they are automatically\n",
    "            # ignored in the loss function.\n",
    "            if word_idx is None:\n",
    "                label_ids.append(-100)\n",
    "            # We set the label for the first token of each word.\n",
    "            elif word_idx != previous_word_idx:\n",
    "                label_ids.append(label[word_idx])\n",
    "            # For the other tokens in a word, we set the label to either the current label or -100, depending on\n",
    "            # the label_all_tokens flag.\n",
    "            else:\n",
    "                label_ids.append(label[word_idx] if label_all_tokens else -100)\n",
    "            previous_word_idx = word_idx\n",
    "\n",
    "        labels.append(label_ids)\n",
    "\n",
    "    tokenized_inputs[\"labels\"] = labels\n",
    "    return tokenized_inputs"
   ]
  },
  {
   "cell_type": "code",
   "execution_count": 20,
   "id": "dbad0d5d-ca61-47b4-9b36-9cde17981798",
   "metadata": {},
   "outputs": [
    {
     "name": "stderr",
     "output_type": "stream",
     "text": [
      "Asking to truncate to max_length but no maximum length is provided and the model has no predefined maximum length. Default to no truncation.\n"
     ]
    },
    {
     "data": {
      "text/plain": [
       "{'input_ids': [[1, 1333, 262, 2109, 275, 3877, 31922, 323, 2], [1, 1864, 9977, 3330, 264, 8458, 1016, 4023, 323, 2], [1, 279, 1376, 271, 47701, 281, 40618, 10637, 263, 6654, 15773, 323, 2], [1, 272, 382, 268, 6654, 277, 262, 595, 40618, 277, 262, 423, 323, 2], [1, 263, 306, 281, 267, 5100, 323, 2]], 'token_type_ids': [[0, 0, 0, 0, 0, 0, 0, 0, 0], [0, 0, 0, 0, 0, 0, 0, 0, 0, 0], [0, 0, 0, 0, 0, 0, 0, 0, 0, 0, 0, 0, 0], [0, 0, 0, 0, 0, 0, 0, 0, 0, 0, 0, 0, 0, 0], [0, 0, 0, 0, 0, 0, 0, 0]], 'attention_mask': [[1, 1, 1, 1, 1, 1, 1, 1, 1], [1, 1, 1, 1, 1, 1, 1, 1, 1, 1], [1, 1, 1, 1, 1, 1, 1, 1, 1, 1, 1, 1, 1], [1, 1, 1, 1, 1, 1, 1, 1, 1, 1, 1, 1, 1, 1], [1, 1, 1, 1, 1, 1, 1, 1]], 'labels': [[-100, 15, 0, 0, 0, 1, 2, 0, -100], [-100, 31, 31, 0, 0, 0, 0, 17, 0, -100], [-100, 0, 0, 0, 0, 0, 1, 2, 0, 1, 2, 0, -100], [-100, 0, 0, 0, 1, 0, 0, 0, 1, 0, 0, 0, 0, -100], [-100, 0, 0, 0, 0, 9, 0, -100]]}"
      ]
     },
     "execution_count": 20,
     "metadata": {},
     "output_type": "execute_result"
    }
   ],
   "source": [
    "tokenize_and_align_labels(datasets['train'][:5])"
   ]
  },
  {
   "cell_type": "code",
   "execution_count": 21,
   "id": "606f6cd0-bba1-4948-951e-ba0cc0c7965a",
   "metadata": {},
   "outputs": [
    {
     "name": "stderr",
     "output_type": "stream",
     "text": [
      "Loading cached processed dataset at /root/.cache/huggingface/datasets/SpeedOfMagic___parquet/SpeedOfMagic--ontonotes_english-955f75f6fda13fd9/0.0.0/2a3b91fbd88a2c90d1dbbb32b460cf621d31bd5b05b934492fdef7d8d6f236ec/cache-c868c86fb26726cc.arrow\n",
      "Loading cached processed dataset at /root/.cache/huggingface/datasets/SpeedOfMagic___parquet/SpeedOfMagic--ontonotes_english-955f75f6fda13fd9/0.0.0/2a3b91fbd88a2c90d1dbbb32b460cf621d31bd5b05b934492fdef7d8d6f236ec/cache-af2f81d9c3eda3f1.arrow\n",
      "Loading cached processed dataset at /root/.cache/huggingface/datasets/SpeedOfMagic___parquet/SpeedOfMagic--ontonotes_english-955f75f6fda13fd9/0.0.0/2a3b91fbd88a2c90d1dbbb32b460cf621d31bd5b05b934492fdef7d8d6f236ec/cache-fe1f3bf513e17917.arrow\n"
     ]
    }
   ],
   "source": [
    "tokenized_datasets = datasets.map(tokenize_and_align_labels, batched=True)"
   ]
  },
  {
   "cell_type": "markdown",
   "id": "f9a8b965-ef3d-4b43-b209-6988b13547f4",
   "metadata": {},
   "source": [
    "# Fine-tuning the model"
   ]
  },
  {
   "cell_type": "code",
   "execution_count": 22,
   "id": "6f046dbc-540f-4c07-9a48-095cd22ddc4f",
   "metadata": {},
   "outputs": [
    {
     "name": "stderr",
     "output_type": "stream",
     "text": [
      "2022-10-07 18:56:16.998942: I tensorflow/core/platform/cpu_feature_guard.cc:193] This TensorFlow binary is optimized with oneAPI Deep Neural Network Library (oneDNN) to use the following CPU instructions in performance-critical operations:  AVX2 FMA\n",
      "To enable them in other operations, rebuild TensorFlow with the appropriate compiler flags.\n",
      "2022-10-07 18:56:17.102674: E tensorflow/stream_executor/cuda/cuda_blas.cc:2981] Unable to register cuBLAS factory: Attempting to register factory for plugin cuBLAS when one has already been registered\n",
      "2022-10-07 18:56:17.452294: W tensorflow/stream_executor/platform/default/dso_loader.cc:64] Could not load dynamic library 'libnvinfer.so.7'; dlerror: libnvinfer.so.7: cannot open shared object file: No such file or directory\n",
      "2022-10-07 18:56:17.452337: W tensorflow/stream_executor/platform/default/dso_loader.cc:64] Could not load dynamic library 'libnvinfer_plugin.so.7'; dlerror: libnvinfer_plugin.so.7: cannot open shared object file: No such file or directory\n",
      "2022-10-07 18:56:17.452343: W tensorflow/compiler/tf2tensorrt/utils/py_utils.cc:38] TF-TRT Warning: Cannot dlopen some TensorRT libraries. If you would like to use Nvidia GPU with TensorRT, please make sure the missing libraries mentioned above are installed properly.\n",
      "Some weights of DebertaV2ForTokenClassification were not initialized from the model checkpoint at ../data/models/microsoft/deberta-v3-small/conll2003/checkpoint-3512 and are newly initialized because the shapes did not match:\n",
      "- classifier.weight: found shape torch.Size([9, 768]) in the checkpoint and torch.Size([37, 768]) in the model instantiated\n",
      "- classifier.bias: found shape torch.Size([9]) in the checkpoint and torch.Size([37]) in the model instantiated\n",
      "You should probably TRAIN this model on a down-stream task to be able to use it for predictions and inference.\n"
     ]
    }
   ],
   "source": [
    "from transformers import AutoConfig, AutoModelForTokenClassification, TrainingArguments, Trainer\n",
    "# config = AutoConfig.from_pretrained(model_checkpoint)\n",
    "model = AutoModelForTokenClassification.from_pretrained(model_checkpoint, num_labels=len(label_list), ignore_mismatched_sizes=True) #, from_tf=True"
   ]
  },
  {
   "cell_type": "code",
   "execution_count": 23,
   "id": "48273902-cd86-4433-bf1b-7571318833c3",
   "metadata": {},
   "outputs": [],
   "source": [
    "args = TrainingArguments(\n",
    "    # f\"test-{task}\",\n",
    "    f\"../data/models/{pretrained_model}/{dataset_name}\",\n",
    "    evaluation_strategy = \"epoch\",\n",
    "    learning_rate=2e-5,\n",
    "    per_device_train_batch_size=batch_size,\n",
    "    per_device_eval_batch_size=batch_size,\n",
    "    num_train_epochs=12,\n",
    "    weight_decay=0.01,\n",
    "    \n",
    "    save_strategy='epoch',\n",
    "    save_total_limit = 3,\n",
    "    \n",
    "    metric_for_best_model = 'f1',\n",
    "    load_best_model_at_end=True\n",
    "    \n",
    ")"
   ]
  },
  {
   "cell_type": "code",
   "execution_count": 24,
   "id": "54a4cbeb-b0a4-450e-94a6-90da7f081ae3",
   "metadata": {},
   "outputs": [],
   "source": [
    "from transformers import DataCollatorForTokenClassification\n",
    "\n",
    "data_collator = DataCollatorForTokenClassification(tokenizer)"
   ]
  },
  {
   "cell_type": "code",
   "execution_count": 25,
   "id": "46783552-ece0-4aaa-8534-17fdbd65312c",
   "metadata": {},
   "outputs": [
    {
     "name": "stderr",
     "output_type": "stream",
     "text": [
      "/tmp/ipykernel_1790984/1092872775.py:1: FutureWarning: load_metric is deprecated and will be removed in the next major version of datasets. Use 'evaluate.load' instead, from the new library 🤗 Evaluate: https://huggingface.co/docs/evaluate\n",
      "  metric = load_metric(\"seqeval\")\n"
     ]
    }
   ],
   "source": [
    "metric = load_metric(\"seqeval\")\n",
    "# from evaluate import evaluator\n",
    "\n",
    "# task_evaluator = evaluator(\"token-classification\")"
   ]
  },
  {
   "cell_type": "code",
   "execution_count": 26,
   "id": "904488d4-97e5-4e0d-afe8-ab1b9d2c5810",
   "metadata": {},
   "outputs": [
    {
     "data": {
      "text/plain": [
       "{'GPE': {'precision': 1.0, 'recall': 1.0, 'f1': 1.0, 'number': 1},\n",
       " 'overall_precision': 1.0,\n",
       " 'overall_recall': 1.0,\n",
       " 'overall_f1': 1.0,\n",
       " 'overall_accuracy': 1.0}"
      ]
     },
     "execution_count": 26,
     "metadata": {},
     "output_type": "execute_result"
    }
   ],
   "source": [
    "labels = [label_list[i] for i in example[f\"{task}_tags\"]]\n",
    "metric.compute(predictions=[labels], references=[labels])"
   ]
  },
  {
   "cell_type": "code",
   "execution_count": 27,
   "id": "1057259c-91f9-4a11-8541-a78ca759f663",
   "metadata": {},
   "outputs": [],
   "source": [
    "import numpy as np\n",
    "\n",
    "def compute_metrics(p):\n",
    "    predictions, labels = p\n",
    "    predictions = np.argmax(predictions, axis=2)\n",
    "\n",
    "    # Remove ignored index (special tokens)\n",
    "    true_predictions = [\n",
    "        [label_list[p] for (p, l) in zip(prediction, label) if l != -100]\n",
    "        for prediction, label in zip(predictions, labels)\n",
    "    ]\n",
    "    true_labels = [\n",
    "        [label_list[l] for (p, l) in zip(prediction, label) if l != -100]\n",
    "        for prediction, label in zip(predictions, labels)\n",
    "    ]\n",
    "\n",
    "    results = metric.compute(predictions=true_predictions, references=true_labels)\n",
    "    return {\n",
    "        \"precision\": results[\"overall_precision\"],\n",
    "        \"recall\": results[\"overall_recall\"],\n",
    "        \"f1\": results[\"overall_f1\"],\n",
    "        \"accuracy\": results[\"overall_accuracy\"],\n",
    "    }"
   ]
  },
  {
   "cell_type": "code",
   "execution_count": 28,
   "id": "10ce1635-52fe-454b-b283-d0b02e0cf408",
   "metadata": {},
   "outputs": [],
   "source": [
    "import torch\n",
    "torch.cuda.empty_cache()"
   ]
  },
  {
   "cell_type": "code",
   "execution_count": 29,
   "id": "6cbc9363-c61b-410e-8a96-fb8a493f8e1b",
   "metadata": {},
   "outputs": [],
   "source": [
    "trainer = Trainer(\n",
    "    model,\n",
    "    args,\n",
    "    train_dataset=tokenized_datasets[\"train\"],\n",
    "    eval_dataset=tokenized_datasets[\"validation\"],\n",
    "    data_collator=data_collator,\n",
    "    tokenizer=tokenizer,\n",
    "    compute_metrics=compute_metrics\n",
    ")"
   ]
  },
  {
   "cell_type": "code",
   "execution_count": 30,
   "id": "98faa348-5836-450e-a2ec-c1336a37e8d6",
   "metadata": {},
   "outputs": [
    {
     "name": "stderr",
     "output_type": "stream",
     "text": [
      "The following columns in the training set don't have a corresponding argument in `DebertaV2ForTokenClassification.forward` and have been ignored: ner_tags, tokens. If ner_tags, tokens are not expected by `DebertaV2ForTokenClassification.forward`,  you can safely ignore this message.\n",
      "/root/.cache/pypoetry/virtualenvs/sequence-labeling-1mH2o5_I-py3.8/lib/python3.8/site-packages/transformers/optimization.py:306: FutureWarning: This implementation of AdamW is deprecated and will be removed in a future version. Use the PyTorch implementation torch.optim.AdamW instead, or set `no_deprecation_warning=True` to disable this warning\n",
      "  warnings.warn(\n",
      "***** Running training *****\n",
      "  Num examples = 59924\n",
      "  Num Epochs = 12\n",
      "  Instantaneous batch size per device = 16\n",
      "  Total train batch size (w. parallel, distributed & accumulation) = 16\n",
      "  Gradient Accumulation steps = 1\n",
      "  Total optimization steps = 44952\n",
      "You're using a DebertaV2TokenizerFast tokenizer. Please note that with a fast tokenizer, using the `__call__` method is faster than using a method to encode the text followed by a call to the `pad` method to get a padded encoding.\n",
      "/root/.cache/pypoetry/virtualenvs/sequence-labeling-1mH2o5_I-py3.8/lib/python3.8/site-packages/transformers/models/deberta_v2/modeling_deberta_v2.py:745: UserWarning: To copy construct from a tensor, it is recommended to use sourceTensor.clone().detach() or sourceTensor.clone().detach().requires_grad_(True), rather than torch.tensor(sourceTensor).\n",
      "  attention_scores = torch.bmm(query_layer, key_layer.transpose(-1, -2)) / torch.tensor(\n",
      "/root/.cache/pypoetry/virtualenvs/sequence-labeling-1mH2o5_I-py3.8/lib/python3.8/site-packages/transformers/models/deberta_v2/modeling_deberta_v2.py:829: UserWarning: To copy construct from a tensor, it is recommended to use sourceTensor.clone().detach() or sourceTensor.clone().detach().requires_grad_(True), rather than torch.tensor(sourceTensor).\n",
      "  score += c2p_att / torch.tensor(scale, dtype=c2p_att.dtype)\n",
      "/root/.cache/pypoetry/virtualenvs/sequence-labeling-1mH2o5_I-py3.8/lib/python3.8/site-packages/transformers/models/deberta_v2/modeling_deberta_v2.py:852: UserWarning: To copy construct from a tensor, it is recommended to use sourceTensor.clone().detach() or sourceTensor.clone().detach().requires_grad_(True), rather than torch.tensor(sourceTensor).\n",
      "  score += p2c_att / torch.tensor(scale, dtype=p2c_att.dtype)\n"
     ]
    },
    {
     "data": {
      "text/html": [
       "\n",
       "    <div>\n",
       "      \n",
       "      <progress value='44952' max='44952' style='width:300px; height:20px; vertical-align: middle;'></progress>\n",
       "      [44952/44952 37:22, Epoch 12/12]\n",
       "    </div>\n",
       "    <table border=\"1\" class=\"dataframe\">\n",
       "  <thead>\n",
       " <tr style=\"text-align: left;\">\n",
       "      <th>Epoch</th>\n",
       "      <th>Training Loss</th>\n",
       "      <th>Validation Loss</th>\n",
       "      <th>Precision</th>\n",
       "      <th>Recall</th>\n",
       "      <th>F1</th>\n",
       "      <th>Accuracy</th>\n",
       "    </tr>\n",
       "  </thead>\n",
       "  <tbody>\n",
       "    <tr>\n",
       "      <td>1</td>\n",
       "      <td>0.079600</td>\n",
       "      <td>0.116391</td>\n",
       "      <td>0.811493</td>\n",
       "      <td>0.895295</td>\n",
       "      <td>0.851336</td>\n",
       "      <td>0.968571</td>\n",
       "    </tr>\n",
       "    <tr>\n",
       "      <td>2</td>\n",
       "      <td>0.057200</td>\n",
       "      <td>0.118285</td>\n",
       "      <td>0.813785</td>\n",
       "      <td>0.900225</td>\n",
       "      <td>0.854826</td>\n",
       "      <td>0.968986</td>\n",
       "    </tr>\n",
       "    <tr>\n",
       "      <td>3</td>\n",
       "      <td>0.043100</td>\n",
       "      <td>0.135575</td>\n",
       "      <td>0.814421</td>\n",
       "      <td>0.901118</td>\n",
       "      <td>0.855579</td>\n",
       "      <td>0.969127</td>\n",
       "    </tr>\n",
       "    <tr>\n",
       "      <td>4</td>\n",
       "      <td>0.032500</td>\n",
       "      <td>0.135194</td>\n",
       "      <td>0.822001</td>\n",
       "      <td>0.901623</td>\n",
       "      <td>0.859973</td>\n",
       "      <td>0.969762</td>\n",
       "    </tr>\n",
       "    <tr>\n",
       "      <td>5</td>\n",
       "      <td>0.024300</td>\n",
       "      <td>0.147568</td>\n",
       "      <td>0.828122</td>\n",
       "      <td>0.900652</td>\n",
       "      <td>0.862865</td>\n",
       "      <td>0.970190</td>\n",
       "    </tr>\n",
       "    <tr>\n",
       "      <td>6</td>\n",
       "      <td>0.020800</td>\n",
       "      <td>0.157087</td>\n",
       "      <td>0.821873</td>\n",
       "      <td>0.905311</td>\n",
       "      <td>0.861577</td>\n",
       "      <td>0.969802</td>\n",
       "    </tr>\n",
       "    <tr>\n",
       "      <td>7</td>\n",
       "      <td>0.014200</td>\n",
       "      <td>0.171691</td>\n",
       "      <td>0.821894</td>\n",
       "      <td>0.901856</td>\n",
       "      <td>0.860020</td>\n",
       "      <td>0.969512</td>\n",
       "    </tr>\n",
       "    <tr>\n",
       "      <td>8</td>\n",
       "      <td>0.011700</td>\n",
       "      <td>0.194310</td>\n",
       "      <td>0.822149</td>\n",
       "      <td>0.908456</td>\n",
       "      <td>0.863150</td>\n",
       "      <td>0.969792</td>\n",
       "    </tr>\n",
       "    <tr>\n",
       "      <td>9</td>\n",
       "      <td>0.008200</td>\n",
       "      <td>0.198684</td>\n",
       "      <td>0.822212</td>\n",
       "      <td>0.905078</td>\n",
       "      <td>0.861657</td>\n",
       "      <td>0.969881</td>\n",
       "    </tr>\n",
       "    <tr>\n",
       "      <td>10</td>\n",
       "      <td>0.006500</td>\n",
       "      <td>0.213288</td>\n",
       "      <td>0.824956</td>\n",
       "      <td>0.906049</td>\n",
       "      <td>0.863603</td>\n",
       "      <td>0.970016</td>\n",
       "    </tr>\n",
       "    <tr>\n",
       "      <td>11</td>\n",
       "      <td>0.005100</td>\n",
       "      <td>0.220091</td>\n",
       "      <td>0.824989</td>\n",
       "      <td>0.904612</td>\n",
       "      <td>0.862968</td>\n",
       "      <td>0.969940</td>\n",
       "    </tr>\n",
       "    <tr>\n",
       "      <td>12</td>\n",
       "      <td>0.003400</td>\n",
       "      <td>0.224657</td>\n",
       "      <td>0.825312</td>\n",
       "      <td>0.906087</td>\n",
       "      <td>0.863816</td>\n",
       "      <td>0.969966</td>\n",
       "    </tr>\n",
       "  </tbody>\n",
       "</table><p>"
      ],
      "text/plain": [
       "<IPython.core.display.HTML object>"
      ]
     },
     "metadata": {},
     "output_type": "display_data"
    },
    {
     "name": "stderr",
     "output_type": "stream",
     "text": [
      "The following columns in the evaluation set don't have a corresponding argument in `DebertaV2ForTokenClassification.forward` and have been ignored: ner_tags, tokens. If ner_tags, tokens are not expected by `DebertaV2ForTokenClassification.forward`,  you can safely ignore this message.\n",
      "***** Running Evaluation *****\n",
      "  Num examples = 13900\n",
      "  Batch size = 16\n",
      "Saving model checkpoint to ../data/models/microsoft/deberta-v3-small/SpeedOfMagic/ontonotes_english/checkpoint-3746\n",
      "Configuration saved in ../data/models/microsoft/deberta-v3-small/SpeedOfMagic/ontonotes_english/checkpoint-3746/config.json\n",
      "Model weights saved in ../data/models/microsoft/deberta-v3-small/SpeedOfMagic/ontonotes_english/checkpoint-3746/pytorch_model.bin\n",
      "tokenizer config file saved in ../data/models/microsoft/deberta-v3-small/SpeedOfMagic/ontonotes_english/checkpoint-3746/tokenizer_config.json\n",
      "Special tokens file saved in ../data/models/microsoft/deberta-v3-small/SpeedOfMagic/ontonotes_english/checkpoint-3746/special_tokens_map.json\n",
      "Deleting older checkpoint [../data/models/microsoft/deberta-v3-small/SpeedOfMagic/ontonotes_english/checkpoint-7492] due to args.save_total_limit\n",
      "/root/.cache/pypoetry/virtualenvs/sequence-labeling-1mH2o5_I-py3.8/lib/python3.8/site-packages/transformers/models/deberta_v2/modeling_deberta_v2.py:745: UserWarning: To copy construct from a tensor, it is recommended to use sourceTensor.clone().detach() or sourceTensor.clone().detach().requires_grad_(True), rather than torch.tensor(sourceTensor).\n",
      "  attention_scores = torch.bmm(query_layer, key_layer.transpose(-1, -2)) / torch.tensor(\n",
      "/root/.cache/pypoetry/virtualenvs/sequence-labeling-1mH2o5_I-py3.8/lib/python3.8/site-packages/transformers/models/deberta_v2/modeling_deberta_v2.py:829: UserWarning: To copy construct from a tensor, it is recommended to use sourceTensor.clone().detach() or sourceTensor.clone().detach().requires_grad_(True), rather than torch.tensor(sourceTensor).\n",
      "  score += c2p_att / torch.tensor(scale, dtype=c2p_att.dtype)\n",
      "/root/.cache/pypoetry/virtualenvs/sequence-labeling-1mH2o5_I-py3.8/lib/python3.8/site-packages/transformers/models/deberta_v2/modeling_deberta_v2.py:852: UserWarning: To copy construct from a tensor, it is recommended to use sourceTensor.clone().detach() or sourceTensor.clone().detach().requires_grad_(True), rather than torch.tensor(sourceTensor).\n",
      "  score += p2c_att / torch.tensor(scale, dtype=p2c_att.dtype)\n",
      "The following columns in the evaluation set don't have a corresponding argument in `DebertaV2ForTokenClassification.forward` and have been ignored: ner_tags, tokens. If ner_tags, tokens are not expected by `DebertaV2ForTokenClassification.forward`,  you can safely ignore this message.\n",
      "***** Running Evaluation *****\n",
      "  Num examples = 13900\n",
      "  Batch size = 16\n",
      "Saving model checkpoint to ../data/models/microsoft/deberta-v3-small/SpeedOfMagic/ontonotes_english/checkpoint-7492\n",
      "Configuration saved in ../data/models/microsoft/deberta-v3-small/SpeedOfMagic/ontonotes_english/checkpoint-7492/config.json\n",
      "Model weights saved in ../data/models/microsoft/deberta-v3-small/SpeedOfMagic/ontonotes_english/checkpoint-7492/pytorch_model.bin\n",
      "tokenizer config file saved in ../data/models/microsoft/deberta-v3-small/SpeedOfMagic/ontonotes_english/checkpoint-7492/tokenizer_config.json\n",
      "Special tokens file saved in ../data/models/microsoft/deberta-v3-small/SpeedOfMagic/ontonotes_english/checkpoint-7492/special_tokens_map.json\n",
      "Deleting older checkpoint [../data/models/microsoft/deberta-v3-small/SpeedOfMagic/ontonotes_english/checkpoint-11238] due to args.save_total_limit\n",
      "/root/.cache/pypoetry/virtualenvs/sequence-labeling-1mH2o5_I-py3.8/lib/python3.8/site-packages/transformers/models/deberta_v2/modeling_deberta_v2.py:745: UserWarning: To copy construct from a tensor, it is recommended to use sourceTensor.clone().detach() or sourceTensor.clone().detach().requires_grad_(True), rather than torch.tensor(sourceTensor).\n",
      "  attention_scores = torch.bmm(query_layer, key_layer.transpose(-1, -2)) / torch.tensor(\n",
      "/root/.cache/pypoetry/virtualenvs/sequence-labeling-1mH2o5_I-py3.8/lib/python3.8/site-packages/transformers/models/deberta_v2/modeling_deberta_v2.py:829: UserWarning: To copy construct from a tensor, it is recommended to use sourceTensor.clone().detach() or sourceTensor.clone().detach().requires_grad_(True), rather than torch.tensor(sourceTensor).\n",
      "  score += c2p_att / torch.tensor(scale, dtype=c2p_att.dtype)\n",
      "/root/.cache/pypoetry/virtualenvs/sequence-labeling-1mH2o5_I-py3.8/lib/python3.8/site-packages/transformers/models/deberta_v2/modeling_deberta_v2.py:852: UserWarning: To copy construct from a tensor, it is recommended to use sourceTensor.clone().detach() or sourceTensor.clone().detach().requires_grad_(True), rather than torch.tensor(sourceTensor).\n",
      "  score += p2c_att / torch.tensor(scale, dtype=p2c_att.dtype)\n",
      "The following columns in the evaluation set don't have a corresponding argument in `DebertaV2ForTokenClassification.forward` and have been ignored: ner_tags, tokens. If ner_tags, tokens are not expected by `DebertaV2ForTokenClassification.forward`,  you can safely ignore this message.\n",
      "***** Running Evaluation *****\n",
      "  Num examples = 13900\n",
      "  Batch size = 16\n",
      "Saving model checkpoint to ../data/models/microsoft/deberta-v3-small/SpeedOfMagic/ontonotes_english/checkpoint-11238\n",
      "Configuration saved in ../data/models/microsoft/deberta-v3-small/SpeedOfMagic/ontonotes_english/checkpoint-11238/config.json\n",
      "Model weights saved in ../data/models/microsoft/deberta-v3-small/SpeedOfMagic/ontonotes_english/checkpoint-11238/pytorch_model.bin\n",
      "tokenizer config file saved in ../data/models/microsoft/deberta-v3-small/SpeedOfMagic/ontonotes_english/checkpoint-11238/tokenizer_config.json\n",
      "Special tokens file saved in ../data/models/microsoft/deberta-v3-small/SpeedOfMagic/ontonotes_english/checkpoint-11238/special_tokens_map.json\n",
      "Deleting older checkpoint [../data/models/microsoft/deberta-v3-small/SpeedOfMagic/ontonotes_english/checkpoint-14984] due to args.save_total_limit\n",
      "/root/.cache/pypoetry/virtualenvs/sequence-labeling-1mH2o5_I-py3.8/lib/python3.8/site-packages/transformers/models/deberta_v2/modeling_deberta_v2.py:745: UserWarning: To copy construct from a tensor, it is recommended to use sourceTensor.clone().detach() or sourceTensor.clone().detach().requires_grad_(True), rather than torch.tensor(sourceTensor).\n",
      "  attention_scores = torch.bmm(query_layer, key_layer.transpose(-1, -2)) / torch.tensor(\n",
      "/root/.cache/pypoetry/virtualenvs/sequence-labeling-1mH2o5_I-py3.8/lib/python3.8/site-packages/transformers/models/deberta_v2/modeling_deberta_v2.py:829: UserWarning: To copy construct from a tensor, it is recommended to use sourceTensor.clone().detach() or sourceTensor.clone().detach().requires_grad_(True), rather than torch.tensor(sourceTensor).\n",
      "  score += c2p_att / torch.tensor(scale, dtype=c2p_att.dtype)\n",
      "/root/.cache/pypoetry/virtualenvs/sequence-labeling-1mH2o5_I-py3.8/lib/python3.8/site-packages/transformers/models/deberta_v2/modeling_deberta_v2.py:852: UserWarning: To copy construct from a tensor, it is recommended to use sourceTensor.clone().detach() or sourceTensor.clone().detach().requires_grad_(True), rather than torch.tensor(sourceTensor).\n",
      "  score += p2c_att / torch.tensor(scale, dtype=p2c_att.dtype)\n",
      "The following columns in the evaluation set don't have a corresponding argument in `DebertaV2ForTokenClassification.forward` and have been ignored: ner_tags, tokens. If ner_tags, tokens are not expected by `DebertaV2ForTokenClassification.forward`,  you can safely ignore this message.\n",
      "***** Running Evaluation *****\n",
      "  Num examples = 13900\n",
      "  Batch size = 16\n",
      "Saving model checkpoint to ../data/models/microsoft/deberta-v3-small/SpeedOfMagic/ontonotes_english/checkpoint-14984\n",
      "Configuration saved in ../data/models/microsoft/deberta-v3-small/SpeedOfMagic/ontonotes_english/checkpoint-14984/config.json\n",
      "Model weights saved in ../data/models/microsoft/deberta-v3-small/SpeedOfMagic/ontonotes_english/checkpoint-14984/pytorch_model.bin\n",
      "tokenizer config file saved in ../data/models/microsoft/deberta-v3-small/SpeedOfMagic/ontonotes_english/checkpoint-14984/tokenizer_config.json\n",
      "Special tokens file saved in ../data/models/microsoft/deberta-v3-small/SpeedOfMagic/ontonotes_english/checkpoint-14984/special_tokens_map.json\n",
      "Deleting older checkpoint [../data/models/microsoft/deberta-v3-small/SpeedOfMagic/ontonotes_english/checkpoint-3746] due to args.save_total_limit\n",
      "/root/.cache/pypoetry/virtualenvs/sequence-labeling-1mH2o5_I-py3.8/lib/python3.8/site-packages/transformers/models/deberta_v2/modeling_deberta_v2.py:745: UserWarning: To copy construct from a tensor, it is recommended to use sourceTensor.clone().detach() or sourceTensor.clone().detach().requires_grad_(True), rather than torch.tensor(sourceTensor).\n",
      "  attention_scores = torch.bmm(query_layer, key_layer.transpose(-1, -2)) / torch.tensor(\n",
      "/root/.cache/pypoetry/virtualenvs/sequence-labeling-1mH2o5_I-py3.8/lib/python3.8/site-packages/transformers/models/deberta_v2/modeling_deberta_v2.py:829: UserWarning: To copy construct from a tensor, it is recommended to use sourceTensor.clone().detach() or sourceTensor.clone().detach().requires_grad_(True), rather than torch.tensor(sourceTensor).\n",
      "  score += c2p_att / torch.tensor(scale, dtype=c2p_att.dtype)\n",
      "/root/.cache/pypoetry/virtualenvs/sequence-labeling-1mH2o5_I-py3.8/lib/python3.8/site-packages/transformers/models/deberta_v2/modeling_deberta_v2.py:852: UserWarning: To copy construct from a tensor, it is recommended to use sourceTensor.clone().detach() or sourceTensor.clone().detach().requires_grad_(True), rather than torch.tensor(sourceTensor).\n",
      "  score += p2c_att / torch.tensor(scale, dtype=p2c_att.dtype)\n",
      "The following columns in the evaluation set don't have a corresponding argument in `DebertaV2ForTokenClassification.forward` and have been ignored: ner_tags, tokens. If ner_tags, tokens are not expected by `DebertaV2ForTokenClassification.forward`,  you can safely ignore this message.\n",
      "***** Running Evaluation *****\n",
      "  Num examples = 13900\n",
      "  Batch size = 16\n",
      "Saving model checkpoint to ../data/models/microsoft/deberta-v3-small/SpeedOfMagic/ontonotes_english/checkpoint-18730\n",
      "Configuration saved in ../data/models/microsoft/deberta-v3-small/SpeedOfMagic/ontonotes_english/checkpoint-18730/config.json\n",
      "Model weights saved in ../data/models/microsoft/deberta-v3-small/SpeedOfMagic/ontonotes_english/checkpoint-18730/pytorch_model.bin\n",
      "tokenizer config file saved in ../data/models/microsoft/deberta-v3-small/SpeedOfMagic/ontonotes_english/checkpoint-18730/tokenizer_config.json\n",
      "Special tokens file saved in ../data/models/microsoft/deberta-v3-small/SpeedOfMagic/ontonotes_english/checkpoint-18730/special_tokens_map.json\n",
      "Deleting older checkpoint [../data/models/microsoft/deberta-v3-small/SpeedOfMagic/ontonotes_english/checkpoint-7492] due to args.save_total_limit\n",
      "/root/.cache/pypoetry/virtualenvs/sequence-labeling-1mH2o5_I-py3.8/lib/python3.8/site-packages/transformers/models/deberta_v2/modeling_deberta_v2.py:745: UserWarning: To copy construct from a tensor, it is recommended to use sourceTensor.clone().detach() or sourceTensor.clone().detach().requires_grad_(True), rather than torch.tensor(sourceTensor).\n",
      "  attention_scores = torch.bmm(query_layer, key_layer.transpose(-1, -2)) / torch.tensor(\n",
      "/root/.cache/pypoetry/virtualenvs/sequence-labeling-1mH2o5_I-py3.8/lib/python3.8/site-packages/transformers/models/deberta_v2/modeling_deberta_v2.py:829: UserWarning: To copy construct from a tensor, it is recommended to use sourceTensor.clone().detach() or sourceTensor.clone().detach().requires_grad_(True), rather than torch.tensor(sourceTensor).\n",
      "  score += c2p_att / torch.tensor(scale, dtype=c2p_att.dtype)\n",
      "/root/.cache/pypoetry/virtualenvs/sequence-labeling-1mH2o5_I-py3.8/lib/python3.8/site-packages/transformers/models/deberta_v2/modeling_deberta_v2.py:852: UserWarning: To copy construct from a tensor, it is recommended to use sourceTensor.clone().detach() or sourceTensor.clone().detach().requires_grad_(True), rather than torch.tensor(sourceTensor).\n",
      "  score += p2c_att / torch.tensor(scale, dtype=p2c_att.dtype)\n",
      "The following columns in the evaluation set don't have a corresponding argument in `DebertaV2ForTokenClassification.forward` and have been ignored: ner_tags, tokens. If ner_tags, tokens are not expected by `DebertaV2ForTokenClassification.forward`,  you can safely ignore this message.\n",
      "***** Running Evaluation *****\n",
      "  Num examples = 13900\n",
      "  Batch size = 16\n",
      "Saving model checkpoint to ../data/models/microsoft/deberta-v3-small/SpeedOfMagic/ontonotes_english/checkpoint-22476\n",
      "Configuration saved in ../data/models/microsoft/deberta-v3-small/SpeedOfMagic/ontonotes_english/checkpoint-22476/config.json\n",
      "Model weights saved in ../data/models/microsoft/deberta-v3-small/SpeedOfMagic/ontonotes_english/checkpoint-22476/pytorch_model.bin\n",
      "tokenizer config file saved in ../data/models/microsoft/deberta-v3-small/SpeedOfMagic/ontonotes_english/checkpoint-22476/tokenizer_config.json\n",
      "Special tokens file saved in ../data/models/microsoft/deberta-v3-small/SpeedOfMagic/ontonotes_english/checkpoint-22476/special_tokens_map.json\n",
      "Deleting older checkpoint [../data/models/microsoft/deberta-v3-small/SpeedOfMagic/ontonotes_english/checkpoint-11238] due to args.save_total_limit\n",
      "/root/.cache/pypoetry/virtualenvs/sequence-labeling-1mH2o5_I-py3.8/lib/python3.8/site-packages/transformers/models/deberta_v2/modeling_deberta_v2.py:745: UserWarning: To copy construct from a tensor, it is recommended to use sourceTensor.clone().detach() or sourceTensor.clone().detach().requires_grad_(True), rather than torch.tensor(sourceTensor).\n",
      "  attention_scores = torch.bmm(query_layer, key_layer.transpose(-1, -2)) / torch.tensor(\n",
      "/root/.cache/pypoetry/virtualenvs/sequence-labeling-1mH2o5_I-py3.8/lib/python3.8/site-packages/transformers/models/deberta_v2/modeling_deberta_v2.py:829: UserWarning: To copy construct from a tensor, it is recommended to use sourceTensor.clone().detach() or sourceTensor.clone().detach().requires_grad_(True), rather than torch.tensor(sourceTensor).\n",
      "  score += c2p_att / torch.tensor(scale, dtype=c2p_att.dtype)\n",
      "/root/.cache/pypoetry/virtualenvs/sequence-labeling-1mH2o5_I-py3.8/lib/python3.8/site-packages/transformers/models/deberta_v2/modeling_deberta_v2.py:852: UserWarning: To copy construct from a tensor, it is recommended to use sourceTensor.clone().detach() or sourceTensor.clone().detach().requires_grad_(True), rather than torch.tensor(sourceTensor).\n",
      "  score += p2c_att / torch.tensor(scale, dtype=p2c_att.dtype)\n",
      "The following columns in the evaluation set don't have a corresponding argument in `DebertaV2ForTokenClassification.forward` and have been ignored: ner_tags, tokens. If ner_tags, tokens are not expected by `DebertaV2ForTokenClassification.forward`,  you can safely ignore this message.\n",
      "***** Running Evaluation *****\n",
      "  Num examples = 13900\n",
      "  Batch size = 16\n",
      "Saving model checkpoint to ../data/models/microsoft/deberta-v3-small/SpeedOfMagic/ontonotes_english/checkpoint-26222\n",
      "Configuration saved in ../data/models/microsoft/deberta-v3-small/SpeedOfMagic/ontonotes_english/checkpoint-26222/config.json\n",
      "Model weights saved in ../data/models/microsoft/deberta-v3-small/SpeedOfMagic/ontonotes_english/checkpoint-26222/pytorch_model.bin\n",
      "tokenizer config file saved in ../data/models/microsoft/deberta-v3-small/SpeedOfMagic/ontonotes_english/checkpoint-26222/tokenizer_config.json\n",
      "Special tokens file saved in ../data/models/microsoft/deberta-v3-small/SpeedOfMagic/ontonotes_english/checkpoint-26222/special_tokens_map.json\n",
      "Deleting older checkpoint [../data/models/microsoft/deberta-v3-small/SpeedOfMagic/ontonotes_english/checkpoint-14984] due to args.save_total_limit\n",
      "/root/.cache/pypoetry/virtualenvs/sequence-labeling-1mH2o5_I-py3.8/lib/python3.8/site-packages/transformers/models/deberta_v2/modeling_deberta_v2.py:745: UserWarning: To copy construct from a tensor, it is recommended to use sourceTensor.clone().detach() or sourceTensor.clone().detach().requires_grad_(True), rather than torch.tensor(sourceTensor).\n",
      "  attention_scores = torch.bmm(query_layer, key_layer.transpose(-1, -2)) / torch.tensor(\n",
      "/root/.cache/pypoetry/virtualenvs/sequence-labeling-1mH2o5_I-py3.8/lib/python3.8/site-packages/transformers/models/deberta_v2/modeling_deberta_v2.py:829: UserWarning: To copy construct from a tensor, it is recommended to use sourceTensor.clone().detach() or sourceTensor.clone().detach().requires_grad_(True), rather than torch.tensor(sourceTensor).\n",
      "  score += c2p_att / torch.tensor(scale, dtype=c2p_att.dtype)\n",
      "/root/.cache/pypoetry/virtualenvs/sequence-labeling-1mH2o5_I-py3.8/lib/python3.8/site-packages/transformers/models/deberta_v2/modeling_deberta_v2.py:852: UserWarning: To copy construct from a tensor, it is recommended to use sourceTensor.clone().detach() or sourceTensor.clone().detach().requires_grad_(True), rather than torch.tensor(sourceTensor).\n",
      "  score += p2c_att / torch.tensor(scale, dtype=p2c_att.dtype)\n",
      "The following columns in the evaluation set don't have a corresponding argument in `DebertaV2ForTokenClassification.forward` and have been ignored: ner_tags, tokens. If ner_tags, tokens are not expected by `DebertaV2ForTokenClassification.forward`,  you can safely ignore this message.\n",
      "***** Running Evaluation *****\n",
      "  Num examples = 13900\n",
      "  Batch size = 16\n",
      "Saving model checkpoint to ../data/models/microsoft/deberta-v3-small/SpeedOfMagic/ontonotes_english/checkpoint-29968\n",
      "Configuration saved in ../data/models/microsoft/deberta-v3-small/SpeedOfMagic/ontonotes_english/checkpoint-29968/config.json\n",
      "Model weights saved in ../data/models/microsoft/deberta-v3-small/SpeedOfMagic/ontonotes_english/checkpoint-29968/pytorch_model.bin\n",
      "tokenizer config file saved in ../data/models/microsoft/deberta-v3-small/SpeedOfMagic/ontonotes_english/checkpoint-29968/tokenizer_config.json\n",
      "Special tokens file saved in ../data/models/microsoft/deberta-v3-small/SpeedOfMagic/ontonotes_english/checkpoint-29968/special_tokens_map.json\n",
      "Deleting older checkpoint [../data/models/microsoft/deberta-v3-small/SpeedOfMagic/ontonotes_english/checkpoint-18730] due to args.save_total_limit\n",
      "/root/.cache/pypoetry/virtualenvs/sequence-labeling-1mH2o5_I-py3.8/lib/python3.8/site-packages/transformers/models/deberta_v2/modeling_deberta_v2.py:745: UserWarning: To copy construct from a tensor, it is recommended to use sourceTensor.clone().detach() or sourceTensor.clone().detach().requires_grad_(True), rather than torch.tensor(sourceTensor).\n",
      "  attention_scores = torch.bmm(query_layer, key_layer.transpose(-1, -2)) / torch.tensor(\n",
      "/root/.cache/pypoetry/virtualenvs/sequence-labeling-1mH2o5_I-py3.8/lib/python3.8/site-packages/transformers/models/deberta_v2/modeling_deberta_v2.py:829: UserWarning: To copy construct from a tensor, it is recommended to use sourceTensor.clone().detach() or sourceTensor.clone().detach().requires_grad_(True), rather than torch.tensor(sourceTensor).\n",
      "  score += c2p_att / torch.tensor(scale, dtype=c2p_att.dtype)\n",
      "/root/.cache/pypoetry/virtualenvs/sequence-labeling-1mH2o5_I-py3.8/lib/python3.8/site-packages/transformers/models/deberta_v2/modeling_deberta_v2.py:852: UserWarning: To copy construct from a tensor, it is recommended to use sourceTensor.clone().detach() or sourceTensor.clone().detach().requires_grad_(True), rather than torch.tensor(sourceTensor).\n",
      "  score += p2c_att / torch.tensor(scale, dtype=p2c_att.dtype)\n",
      "The following columns in the evaluation set don't have a corresponding argument in `DebertaV2ForTokenClassification.forward` and have been ignored: ner_tags, tokens. If ner_tags, tokens are not expected by `DebertaV2ForTokenClassification.forward`,  you can safely ignore this message.\n",
      "***** Running Evaluation *****\n",
      "  Num examples = 13900\n",
      "  Batch size = 16\n",
      "Saving model checkpoint to ../data/models/microsoft/deberta-v3-small/SpeedOfMagic/ontonotes_english/checkpoint-33714\n",
      "Configuration saved in ../data/models/microsoft/deberta-v3-small/SpeedOfMagic/ontonotes_english/checkpoint-33714/config.json\n",
      "Model weights saved in ../data/models/microsoft/deberta-v3-small/SpeedOfMagic/ontonotes_english/checkpoint-33714/pytorch_model.bin\n",
      "tokenizer config file saved in ../data/models/microsoft/deberta-v3-small/SpeedOfMagic/ontonotes_english/checkpoint-33714/tokenizer_config.json\n",
      "Special tokens file saved in ../data/models/microsoft/deberta-v3-small/SpeedOfMagic/ontonotes_english/checkpoint-33714/special_tokens_map.json\n",
      "Deleting older checkpoint [../data/models/microsoft/deberta-v3-small/SpeedOfMagic/ontonotes_english/checkpoint-22476] due to args.save_total_limit\n",
      "/root/.cache/pypoetry/virtualenvs/sequence-labeling-1mH2o5_I-py3.8/lib/python3.8/site-packages/transformers/models/deberta_v2/modeling_deberta_v2.py:745: UserWarning: To copy construct from a tensor, it is recommended to use sourceTensor.clone().detach() or sourceTensor.clone().detach().requires_grad_(True), rather than torch.tensor(sourceTensor).\n",
      "  attention_scores = torch.bmm(query_layer, key_layer.transpose(-1, -2)) / torch.tensor(\n",
      "/root/.cache/pypoetry/virtualenvs/sequence-labeling-1mH2o5_I-py3.8/lib/python3.8/site-packages/transformers/models/deberta_v2/modeling_deberta_v2.py:829: UserWarning: To copy construct from a tensor, it is recommended to use sourceTensor.clone().detach() or sourceTensor.clone().detach().requires_grad_(True), rather than torch.tensor(sourceTensor).\n",
      "  score += c2p_att / torch.tensor(scale, dtype=c2p_att.dtype)\n",
      "/root/.cache/pypoetry/virtualenvs/sequence-labeling-1mH2o5_I-py3.8/lib/python3.8/site-packages/transformers/models/deberta_v2/modeling_deberta_v2.py:852: UserWarning: To copy construct from a tensor, it is recommended to use sourceTensor.clone().detach() or sourceTensor.clone().detach().requires_grad_(True), rather than torch.tensor(sourceTensor).\n",
      "  score += p2c_att / torch.tensor(scale, dtype=p2c_att.dtype)\n",
      "The following columns in the evaluation set don't have a corresponding argument in `DebertaV2ForTokenClassification.forward` and have been ignored: ner_tags, tokens. If ner_tags, tokens are not expected by `DebertaV2ForTokenClassification.forward`,  you can safely ignore this message.\n",
      "***** Running Evaluation *****\n",
      "  Num examples = 13900\n",
      "  Batch size = 16\n",
      "Saving model checkpoint to ../data/models/microsoft/deberta-v3-small/SpeedOfMagic/ontonotes_english/checkpoint-37460\n",
      "Configuration saved in ../data/models/microsoft/deberta-v3-small/SpeedOfMagic/ontonotes_english/checkpoint-37460/config.json\n",
      "Model weights saved in ../data/models/microsoft/deberta-v3-small/SpeedOfMagic/ontonotes_english/checkpoint-37460/pytorch_model.bin\n",
      "tokenizer config file saved in ../data/models/microsoft/deberta-v3-small/SpeedOfMagic/ontonotes_english/checkpoint-37460/tokenizer_config.json\n",
      "Special tokens file saved in ../data/models/microsoft/deberta-v3-small/SpeedOfMagic/ontonotes_english/checkpoint-37460/special_tokens_map.json\n",
      "Deleting older checkpoint [../data/models/microsoft/deberta-v3-small/SpeedOfMagic/ontonotes_english/checkpoint-26222] due to args.save_total_limit\n",
      "/root/.cache/pypoetry/virtualenvs/sequence-labeling-1mH2o5_I-py3.8/lib/python3.8/site-packages/transformers/models/deberta_v2/modeling_deberta_v2.py:745: UserWarning: To copy construct from a tensor, it is recommended to use sourceTensor.clone().detach() or sourceTensor.clone().detach().requires_grad_(True), rather than torch.tensor(sourceTensor).\n",
      "  attention_scores = torch.bmm(query_layer, key_layer.transpose(-1, -2)) / torch.tensor(\n",
      "/root/.cache/pypoetry/virtualenvs/sequence-labeling-1mH2o5_I-py3.8/lib/python3.8/site-packages/transformers/models/deberta_v2/modeling_deberta_v2.py:829: UserWarning: To copy construct from a tensor, it is recommended to use sourceTensor.clone().detach() or sourceTensor.clone().detach().requires_grad_(True), rather than torch.tensor(sourceTensor).\n",
      "  score += c2p_att / torch.tensor(scale, dtype=c2p_att.dtype)\n",
      "/root/.cache/pypoetry/virtualenvs/sequence-labeling-1mH2o5_I-py3.8/lib/python3.8/site-packages/transformers/models/deberta_v2/modeling_deberta_v2.py:852: UserWarning: To copy construct from a tensor, it is recommended to use sourceTensor.clone().detach() or sourceTensor.clone().detach().requires_grad_(True), rather than torch.tensor(sourceTensor).\n",
      "  score += p2c_att / torch.tensor(scale, dtype=p2c_att.dtype)\n",
      "The following columns in the evaluation set don't have a corresponding argument in `DebertaV2ForTokenClassification.forward` and have been ignored: ner_tags, tokens. If ner_tags, tokens are not expected by `DebertaV2ForTokenClassification.forward`,  you can safely ignore this message.\n",
      "***** Running Evaluation *****\n",
      "  Num examples = 13900\n",
      "  Batch size = 16\n",
      "Saving model checkpoint to ../data/models/microsoft/deberta-v3-small/SpeedOfMagic/ontonotes_english/checkpoint-41206\n",
      "Configuration saved in ../data/models/microsoft/deberta-v3-small/SpeedOfMagic/ontonotes_english/checkpoint-41206/config.json\n",
      "Model weights saved in ../data/models/microsoft/deberta-v3-small/SpeedOfMagic/ontonotes_english/checkpoint-41206/pytorch_model.bin\n",
      "tokenizer config file saved in ../data/models/microsoft/deberta-v3-small/SpeedOfMagic/ontonotes_english/checkpoint-41206/tokenizer_config.json\n",
      "Special tokens file saved in ../data/models/microsoft/deberta-v3-small/SpeedOfMagic/ontonotes_english/checkpoint-41206/special_tokens_map.json\n",
      "Deleting older checkpoint [../data/models/microsoft/deberta-v3-small/SpeedOfMagic/ontonotes_english/checkpoint-29968] due to args.save_total_limit\n",
      "/root/.cache/pypoetry/virtualenvs/sequence-labeling-1mH2o5_I-py3.8/lib/python3.8/site-packages/transformers/models/deberta_v2/modeling_deberta_v2.py:745: UserWarning: To copy construct from a tensor, it is recommended to use sourceTensor.clone().detach() or sourceTensor.clone().detach().requires_grad_(True), rather than torch.tensor(sourceTensor).\n",
      "  attention_scores = torch.bmm(query_layer, key_layer.transpose(-1, -2)) / torch.tensor(\n",
      "/root/.cache/pypoetry/virtualenvs/sequence-labeling-1mH2o5_I-py3.8/lib/python3.8/site-packages/transformers/models/deberta_v2/modeling_deberta_v2.py:829: UserWarning: To copy construct from a tensor, it is recommended to use sourceTensor.clone().detach() or sourceTensor.clone().detach().requires_grad_(True), rather than torch.tensor(sourceTensor).\n",
      "  score += c2p_att / torch.tensor(scale, dtype=c2p_att.dtype)\n",
      "/root/.cache/pypoetry/virtualenvs/sequence-labeling-1mH2o5_I-py3.8/lib/python3.8/site-packages/transformers/models/deberta_v2/modeling_deberta_v2.py:852: UserWarning: To copy construct from a tensor, it is recommended to use sourceTensor.clone().detach() or sourceTensor.clone().detach().requires_grad_(True), rather than torch.tensor(sourceTensor).\n",
      "  score += p2c_att / torch.tensor(scale, dtype=p2c_att.dtype)\n",
      "The following columns in the evaluation set don't have a corresponding argument in `DebertaV2ForTokenClassification.forward` and have been ignored: ner_tags, tokens. If ner_tags, tokens are not expected by `DebertaV2ForTokenClassification.forward`,  you can safely ignore this message.\n",
      "***** Running Evaluation *****\n",
      "  Num examples = 13900\n",
      "  Batch size = 16\n",
      "Saving model checkpoint to ../data/models/microsoft/deberta-v3-small/SpeedOfMagic/ontonotes_english/checkpoint-44952\n",
      "Configuration saved in ../data/models/microsoft/deberta-v3-small/SpeedOfMagic/ontonotes_english/checkpoint-44952/config.json\n",
      "Model weights saved in ../data/models/microsoft/deberta-v3-small/SpeedOfMagic/ontonotes_english/checkpoint-44952/pytorch_model.bin\n",
      "tokenizer config file saved in ../data/models/microsoft/deberta-v3-small/SpeedOfMagic/ontonotes_english/checkpoint-44952/tokenizer_config.json\n",
      "Special tokens file saved in ../data/models/microsoft/deberta-v3-small/SpeedOfMagic/ontonotes_english/checkpoint-44952/special_tokens_map.json\n",
      "Deleting older checkpoint [../data/models/microsoft/deberta-v3-small/SpeedOfMagic/ontonotes_english/checkpoint-33714] due to args.save_total_limit\n",
      "\n",
      "\n",
      "Training completed. Do not forget to share your model on huggingface.co/models =)\n",
      "\n",
      "\n",
      "Loading best model from ../data/models/microsoft/deberta-v3-small/SpeedOfMagic/ontonotes_english/checkpoint-44952 (score: 0.8638155338009142).\n"
     ]
    },
    {
     "data": {
      "text/plain": [
       "TrainOutput(global_step=44952, training_loss=0.028931237975989697, metrics={'train_runtime': 2243.1738, 'train_samples_per_second': 320.567, 'train_steps_per_second': 20.039, 'total_flos': 9982971880134120.0, 'train_loss': 0.028931237975989697, 'epoch': 12.0})"
      ]
     },
     "execution_count": 30,
     "metadata": {},
     "output_type": "execute_result"
    }
   ],
   "source": [
    "trainer.train()"
   ]
  },
  {
   "cell_type": "code",
   "execution_count": 31,
   "id": "d748b57f-7294-43d7-bac1-7abb7a5dcaf8",
   "metadata": {},
   "outputs": [
    {
     "name": "stderr",
     "output_type": "stream",
     "text": [
      "The following columns in the evaluation set don't have a corresponding argument in `DebertaV2ForTokenClassification.forward` and have been ignored: ner_tags, tokens. If ner_tags, tokens are not expected by `DebertaV2ForTokenClassification.forward`,  you can safely ignore this message.\n",
      "***** Running Evaluation *****\n",
      "  Num examples = 13900\n",
      "  Batch size = 16\n",
      "/root/.cache/pypoetry/virtualenvs/sequence-labeling-1mH2o5_I-py3.8/lib/python3.8/site-packages/transformers/models/deberta_v2/modeling_deberta_v2.py:745: UserWarning: To copy construct from a tensor, it is recommended to use sourceTensor.clone().detach() or sourceTensor.clone().detach().requires_grad_(True), rather than torch.tensor(sourceTensor).\n",
      "  attention_scores = torch.bmm(query_layer, key_layer.transpose(-1, -2)) / torch.tensor(\n",
      "/root/.cache/pypoetry/virtualenvs/sequence-labeling-1mH2o5_I-py3.8/lib/python3.8/site-packages/transformers/models/deberta_v2/modeling_deberta_v2.py:829: UserWarning: To copy construct from a tensor, it is recommended to use sourceTensor.clone().detach() or sourceTensor.clone().detach().requires_grad_(True), rather than torch.tensor(sourceTensor).\n",
      "  score += c2p_att / torch.tensor(scale, dtype=c2p_att.dtype)\n",
      "/root/.cache/pypoetry/virtualenvs/sequence-labeling-1mH2o5_I-py3.8/lib/python3.8/site-packages/transformers/models/deberta_v2/modeling_deberta_v2.py:852: UserWarning: To copy construct from a tensor, it is recommended to use sourceTensor.clone().detach() or sourceTensor.clone().detach().requires_grad_(True), rather than torch.tensor(sourceTensor).\n",
      "  score += p2c_att / torch.tensor(scale, dtype=p2c_att.dtype)\n"
     ]
    },
    {
     "data": {
      "text/html": [],
      "text/plain": [
       "<IPython.core.display.HTML object>"
      ]
     },
     "metadata": {},
     "output_type": "display_data"
    },
    {
     "data": {
      "text/plain": [
       "{'eval_loss': 0.2246573269367218,\n",
       " 'eval_precision': 0.8253120690264861,\n",
       " 'eval_recall': 0.9060874291482258,\n",
       " 'eval_f1': 0.8638155338009142,\n",
       " 'eval_accuracy': 0.9699663441450985,\n",
       " 'eval_runtime': 14.0232,\n",
       " 'eval_samples_per_second': 991.214,\n",
       " 'eval_steps_per_second': 61.969,\n",
       " 'epoch': 12.0}"
      ]
     },
     "execution_count": 31,
     "metadata": {},
     "output_type": "execute_result"
    }
   ],
   "source": [
    "trainer.evaluate()"
   ]
  },
  {
   "cell_type": "code",
   "execution_count": 32,
   "id": "a8a1a1c7-1631-41df-9b28-cc00a7849546",
   "metadata": {},
   "outputs": [
    {
     "name": "stderr",
     "output_type": "stream",
     "text": [
      "The following columns in the test set don't have a corresponding argument in `DebertaV2ForTokenClassification.forward` and have been ignored: ner_tags, tokens. If ner_tags, tokens are not expected by `DebertaV2ForTokenClassification.forward`,  you can safely ignore this message.\n",
      "***** Running Prediction *****\n",
      "  Num examples = 13900\n",
      "  Batch size = 16\n"
     ]
    },
    {
     "data": {
      "text/plain": [
       "{'CARDINAL': {'precision': 0.7676882330684828,\n",
       "  'recall': 0.9037861915367483,\n",
       "  'f1': 0.8301963993453356,\n",
       "  'number': 2245},\n",
       " 'DATE': {'precision': 0.8194787379972566,\n",
       "  'recall': 0.8895175699821323,\n",
       "  'f1': 0.8530629730115665,\n",
       "  'number': 3358},\n",
       " 'EVENT': {'precision': 0.5754716981132075,\n",
       "  'recall': 0.5951219512195122,\n",
       "  'f1': 0.5851318944844124,\n",
       "  'number': 205},\n",
       " 'FAC': {'precision': 0.4594594594594595,\n",
       "  'recall': 0.7034482758620689,\n",
       "  'f1': 0.555858310626703,\n",
       "  'number': 145},\n",
       " 'GPE': {'precision': 0.9009770762871101,\n",
       "  'recall': 0.9450137958218369,\n",
       "  'f1': 0.9224701808387842,\n",
       "  'number': 5074},\n",
       " 'LANGUAGE': {'precision': 0.6111111111111112,\n",
       "  'recall': 0.5789473684210527,\n",
       "  'f1': 0.5945945945945946,\n",
       "  'number': 38},\n",
       " 'LAW': {'precision': 0.4943820224719101,\n",
       "  'recall': 0.6376811594202898,\n",
       "  'f1': 0.5569620253164556,\n",
       "  'number': 69},\n",
       " 'LOC': {'precision': 0.6375,\n",
       "  'recall': 0.7906976744186046,\n",
       "  'f1': 0.7058823529411764,\n",
       "  'number': 387},\n",
       " 'MONEY': {'precision': 0.9119097956307258,\n",
       "  'recall': 0.9190340909090909,\n",
       "  'f1': 0.9154580827732579,\n",
       "  'number': 1408},\n",
       " 'NORP': {'precision': 0.8001269035532995,\n",
       "  'recall': 0.9150943396226415,\n",
       "  'f1': 0.8537576167907922,\n",
       "  'number': 1378},\n",
       " 'ORDINAL': {'precision': 0.7159353348729792,\n",
       "  'recall': 0.8378378378378378,\n",
       "  'f1': 0.772104607721046,\n",
       "  'number': 370},\n",
       " 'ORG': {'precision': 0.8526658526658527,\n",
       "  'recall': 0.9069264069264069,\n",
       "  'f1': 0.8789595133207467,\n",
       "  'number': 4620},\n",
       " 'PERCENT': {'precision': 0.93,\n",
       "  'recall': 0.9370277078085643,\n",
       "  'f1': 0.9335006273525721,\n",
       "  'number': 1191},\n",
       " 'PERSON': {'precision': 0.852697998259356,\n",
       "  'recall': 0.9695695200395844,\n",
       "  'f1': 0.9073859689742997,\n",
       "  'number': 4042},\n",
       " 'PRODUCT': {'precision': 0.3885542168674699,\n",
       "  'recall': 0.4725274725274725,\n",
       "  'f1': 0.4264462809917355,\n",
       "  'number': 273},\n",
       " 'QUANTITY': {'precision': 0.692063492063492,\n",
       "  'recall': 0.7785714285714286,\n",
       "  'f1': 0.7327731092436975,\n",
       "  'number': 280},\n",
       " 'TIME': {'precision': 0.6704761904761904,\n",
       "  'recall': 0.8091954022988506,\n",
       "  'f1': 0.7333333333333334,\n",
       "  'number': 435},\n",
       " 'WORK_OF_ART': {'precision': 0.446875,\n",
       "  'recall': 0.5958333333333333,\n",
       "  'f1': 0.5107142857142858,\n",
       "  'number': 240},\n",
       " 'overall_precision': 0.8253120690264861,\n",
       " 'overall_recall': 0.9060874291482258,\n",
       " 'overall_f1': 0.8638155338009142,\n",
       " 'overall_accuracy': 0.9699663441450985}"
      ]
     },
     "execution_count": 32,
     "metadata": {},
     "output_type": "execute_result"
    }
   ],
   "source": [
    "predictions, labels, _ = trainer.predict(tokenized_datasets[\"validation\"])\n",
    "predictions = np.argmax(predictions, axis=2)\n",
    "\n",
    "# Remove ignored index (special tokens)\n",
    "true_predictions = [\n",
    "    [label_list[p] for (p, l) in zip(prediction, label) if l != -100]\n",
    "    for prediction, label in zip(predictions, labels)\n",
    "]\n",
    "true_labels = [\n",
    "    [label_list[l] for (p, l) in zip(prediction, label) if l != -100]\n",
    "    for prediction, label in zip(predictions, labels)\n",
    "]\n",
    "\n",
    "results = metric.compute(predictions=true_predictions, references=true_labels)\n",
    "results"
   ]
  },
  {
   "cell_type": "code",
   "execution_count": null,
   "id": "a093d215-8925-4718-a257-135ccd9ef643",
   "metadata": {},
   "outputs": [],
   "source": []
  },
  {
   "cell_type": "code",
   "execution_count": null,
   "id": "a8040d60-3346-43b2-9a9e-2df299ce3dfb",
   "metadata": {},
   "outputs": [],
   "source": []
  }
 ],
 "metadata": {
  "kernelspec": {
   "display_name": "Python 3 (ipykernel)",
   "language": "python",
   "name": "python3"
  },
  "language_info": {
   "codemirror_mode": {
    "name": "ipython",
    "version": 3
   },
   "file_extension": ".py",
   "mimetype": "text/x-python",
   "name": "python",
   "nbconvert_exporter": "python",
   "pygments_lexer": "ipython3",
   "version": "3.8.10"
  }
 },
 "nbformat": 4,
 "nbformat_minor": 5
}
