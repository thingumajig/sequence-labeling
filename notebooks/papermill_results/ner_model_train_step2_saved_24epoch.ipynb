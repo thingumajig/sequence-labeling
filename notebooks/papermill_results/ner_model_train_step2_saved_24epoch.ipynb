{
 "cells": [
  {
   "cell_type": "code",
   "execution_count": 1,
   "id": "cc6ba3c3-ee77-4435-b0bf-06153ad40a20",
   "metadata": {
    "execution": {
     "iopub.execute_input": "2022-10-07T17:12:49.100511Z",
     "iopub.status.busy": "2022-10-07T17:12:49.100368Z",
     "iopub.status.idle": "2022-10-07T17:12:49.105018Z",
     "shell.execute_reply": "2022-10-07T17:12:49.104703Z"
    },
    "papermill": {
     "duration": 0.012322,
     "end_time": "2022-10-07T17:12:49.106035",
     "exception": false,
     "start_time": "2022-10-07T17:12:49.093713",
     "status": "completed"
    },
    "tags": []
   },
   "outputs": [],
   "source": [
    "task = \"ner\" # Should be one of \"ner\", \"pos\" or \"chunk\"\n",
    "# pretrained_model = \"distilbert-base-uncased\"\n",
    "# pretrained_model = \"xlm-roberta-large\"\n",
    "pretrained_model = \"microsoft/deberta-v3-small\" # not work\n",
    "# pretrained_model = \"kamalkraj/deberta-v2-xlarge\"\n",
    "# model_checkpoint = \"/root/ner-model/test-ner/checkpoint-2500/\"\n",
    "\n",
    "source_dataset_name = \"conll2003\"\n",
    "checkpoint_name = 'checkpoint-3512'\n",
    "model_checkpoint = f\"../data/models/{pretrained_model}/{source_dataset_name}/{checkpoint_name}\"\n",
    "\n",
    "# use_pretrained_model = False\n",
    "# if use_pretrained_model:\n",
    "#     model_checkpoint = pretrained_model\n",
    "\n",
    "batch_size = 16\n",
    "\n",
    "# dataset_name = \"wnut_17\"\n",
    "dataset_name = \"SpeedOfMagic/ontonotes_english\"\n"
   ]
  },
  {
   "cell_type": "markdown",
   "id": "c9564e81-1b58-4634-afe7-b9fc15290b61",
   "metadata": {
    "papermill": {
     "duration": 0.00263,
     "end_time": "2022-10-07T17:12:49.111454",
     "exception": false,
     "start_time": "2022-10-07T17:12:49.108824",
     "status": "completed"
    },
    "tags": []
   },
   "source": [
    "# Loading dataset"
   ]
  },
  {
   "cell_type": "code",
   "execution_count": 2,
   "id": "799f6ae9-35f2-4ded-a3ac-ed48689934f9",
   "metadata": {
    "execution": {
     "iopub.execute_input": "2022-10-07T17:12:49.142631Z",
     "iopub.status.busy": "2022-10-07T17:12:49.142462Z",
     "iopub.status.idle": "2022-10-07T17:12:49.575910Z",
     "shell.execute_reply": "2022-10-07T17:12:49.575386Z"
    },
    "papermill": {
     "duration": 0.462857,
     "end_time": "2022-10-07T17:12:49.577005",
     "exception": false,
     "start_time": "2022-10-07T17:12:49.114148",
     "status": "completed"
    },
    "tags": []
   },
   "outputs": [],
   "source": [
    "from datasets import load_dataset, load_metric"
   ]
  },
  {
   "cell_type": "code",
   "execution_count": 3,
   "id": "236338c8-c76c-4b68-8c1a-bbf8778ba463",
   "metadata": {
    "execution": {
     "iopub.execute_input": "2022-10-07T17:12:49.584465Z",
     "iopub.status.busy": "2022-10-07T17:12:49.584268Z",
     "iopub.status.idle": "2022-10-07T17:12:51.850731Z",
     "shell.execute_reply": "2022-10-07T17:12:51.850346Z"
    },
    "papermill": {
     "duration": 2.270984,
     "end_time": "2022-10-07T17:12:51.851658",
     "exception": false,
     "start_time": "2022-10-07T17:12:49.580674",
     "status": "completed"
    },
    "tags": []
   },
   "outputs": [
    {
     "name": "stderr",
     "output_type": "stream",
     "text": [
      "Using custom data configuration SpeedOfMagic--ontonotes_english-955f75f6fda13fd9\n",
      "Found cached dataset parquet (/root/.cache/huggingface/datasets/SpeedOfMagic___parquet/SpeedOfMagic--ontonotes_english-955f75f6fda13fd9/0.0.0/2a3b91fbd88a2c90d1dbbb32b460cf621d31bd5b05b934492fdef7d8d6f236ec)\n"
     ]
    },
    {
     "data": {
      "application/vnd.jupyter.widget-view+json": {
       "model_id": "7d22009969a94a82b98772e80a46431c",
       "version_major": 2,
       "version_minor": 0
      },
      "text/plain": [
       "  0%|          | 0/3 [00:00<?, ?it/s]"
      ]
     },
     "metadata": {},
     "output_type": "display_data"
    }
   ],
   "source": [
    "datasets = load_dataset(dataset_name)"
   ]
  },
  {
   "cell_type": "code",
   "execution_count": 4,
   "id": "8266f9fe-8cfc-47c3-a52e-d909ba469efb",
   "metadata": {
    "execution": {
     "iopub.execute_input": "2022-10-07T17:12:51.876478Z",
     "iopub.status.busy": "2022-10-07T17:12:51.876299Z",
     "iopub.status.idle": "2022-10-07T17:12:51.879408Z",
     "shell.execute_reply": "2022-10-07T17:12:51.879051Z"
    },
    "papermill": {
     "duration": 0.007742,
     "end_time": "2022-10-07T17:12:51.880297",
     "exception": false,
     "start_time": "2022-10-07T17:12:51.872555",
     "status": "completed"
    },
    "tags": []
   },
   "outputs": [
    {
     "data": {
      "text/plain": [
       "DatasetDict({\n",
       "    validation: Dataset({\n",
       "        features: ['tokens', 'ner_tags'],\n",
       "        num_rows: 13900\n",
       "    })\n",
       "    test: Dataset({\n",
       "        features: ['tokens', 'ner_tags'],\n",
       "        num_rows: 8262\n",
       "    })\n",
       "    train: Dataset({\n",
       "        features: ['tokens', 'ner_tags'],\n",
       "        num_rows: 59924\n",
       "    })\n",
       "})"
      ]
     },
     "execution_count": 4,
     "metadata": {},
     "output_type": "execute_result"
    }
   ],
   "source": [
    "datasets"
   ]
  },
  {
   "cell_type": "code",
   "execution_count": 5,
   "id": "1fc3d62b-edde-44d8-b794-e767105d2ba2",
   "metadata": {
    "execution": {
     "iopub.execute_input": "2022-10-07T17:12:51.886468Z",
     "iopub.status.busy": "2022-10-07T17:12:51.886341Z",
     "iopub.status.idle": "2022-10-07T17:12:51.889363Z",
     "shell.execute_reply": "2022-10-07T17:12:51.888996Z"
    },
    "papermill": {
     "duration": 0.007095,
     "end_time": "2022-10-07T17:12:51.890264",
     "exception": false,
     "start_time": "2022-10-07T17:12:51.883169",
     "status": "completed"
    },
    "tags": []
   },
   "outputs": [
    {
     "data": {
      "text/plain": [
       "{'tokens': ['Sunday', 'the', 'interview', 'with', 'Bob', 'Shapiro', '.'],\n",
       " 'ner_tags': [15, 0, 0, 0, 1, 2, 0]}"
      ]
     },
     "execution_count": 5,
     "metadata": {},
     "output_type": "execute_result"
    }
   ],
   "source": [
    "datasets[\"train\"][0]"
   ]
  },
  {
   "cell_type": "code",
   "execution_count": 6,
   "id": "19f33e16-6cfd-47fd-ad14-1df465133655",
   "metadata": {
    "execution": {
     "iopub.execute_input": "2022-10-07T17:12:51.896537Z",
     "iopub.status.busy": "2022-10-07T17:12:51.896313Z",
     "iopub.status.idle": "2022-10-07T17:12:51.899118Z",
     "shell.execute_reply": "2022-10-07T17:12:51.898733Z"
    },
    "papermill": {
     "duration": 0.006861,
     "end_time": "2022-10-07T17:12:51.900000",
     "exception": false,
     "start_time": "2022-10-07T17:12:51.893139",
     "status": "completed"
    },
    "tags": []
   },
   "outputs": [
    {
     "data": {
      "text/plain": [
       "Sequence(feature=ClassLabel(num_classes=37, names=['O', 'B-PERSON', 'I-PERSON', 'B-NORP', 'I-NORP', 'B-FAC', 'I-FAC', 'B-ORG', 'I-ORG', 'B-GPE', 'I-GPE', 'B-LOC', 'I-LOC', 'B-PRODUCT', 'I-PRODUCT', 'B-DATE', 'I-DATE', 'B-TIME', 'I-TIME', 'B-PERCENT', 'I-PERCENT', 'B-MONEY', 'I-MONEY', 'B-QUANTITY', 'I-QUANTITY', 'B-ORDINAL', 'I-ORDINAL', 'B-CARDINAL', 'I-CARDINAL', 'B-EVENT', 'I-EVENT', 'B-WORK_OF_ART', 'I-WORK_OF_ART', 'B-LAW', 'I-LAW', 'B-LANGUAGE', 'I-LANGUAGE'], id=None), length=-1, id=None)"
      ]
     },
     "execution_count": 6,
     "metadata": {},
     "output_type": "execute_result"
    }
   ],
   "source": [
    "datasets[\"train\"].features[f\"ner_tags\"]"
   ]
  },
  {
   "cell_type": "code",
   "execution_count": 7,
   "id": "474f45ac-26cc-48ed-bc2a-de015ba980e3",
   "metadata": {
    "execution": {
     "iopub.execute_input": "2022-10-07T17:12:51.906273Z",
     "iopub.status.busy": "2022-10-07T17:12:51.906123Z",
     "iopub.status.idle": "2022-10-07T17:12:51.909025Z",
     "shell.execute_reply": "2022-10-07T17:12:51.908675Z"
    },
    "papermill": {
     "duration": 0.007196,
     "end_time": "2022-10-07T17:12:51.910010",
     "exception": false,
     "start_time": "2022-10-07T17:12:51.902814",
     "status": "completed"
    },
    "tags": []
   },
   "outputs": [
    {
     "data": {
      "text/plain": [
       "['O',\n",
       " 'B-PERSON',\n",
       " 'I-PERSON',\n",
       " 'B-NORP',\n",
       " 'I-NORP',\n",
       " 'B-FAC',\n",
       " 'I-FAC',\n",
       " 'B-ORG',\n",
       " 'I-ORG',\n",
       " 'B-GPE',\n",
       " 'I-GPE',\n",
       " 'B-LOC',\n",
       " 'I-LOC',\n",
       " 'B-PRODUCT',\n",
       " 'I-PRODUCT',\n",
       " 'B-DATE',\n",
       " 'I-DATE',\n",
       " 'B-TIME',\n",
       " 'I-TIME',\n",
       " 'B-PERCENT',\n",
       " 'I-PERCENT',\n",
       " 'B-MONEY',\n",
       " 'I-MONEY',\n",
       " 'B-QUANTITY',\n",
       " 'I-QUANTITY',\n",
       " 'B-ORDINAL',\n",
       " 'I-ORDINAL',\n",
       " 'B-CARDINAL',\n",
       " 'I-CARDINAL',\n",
       " 'B-EVENT',\n",
       " 'I-EVENT',\n",
       " 'B-WORK_OF_ART',\n",
       " 'I-WORK_OF_ART',\n",
       " 'B-LAW',\n",
       " 'I-LAW',\n",
       " 'B-LANGUAGE',\n",
       " 'I-LANGUAGE']"
      ]
     },
     "execution_count": 7,
     "metadata": {},
     "output_type": "execute_result"
    }
   ],
   "source": [
    "label_list = datasets[\"train\"].features[f\"{task}_tags\"].feature.names\n",
    "label_list"
   ]
  },
  {
   "cell_type": "code",
   "execution_count": 8,
   "id": "22840012-bd71-4d45-9ba0-f842c14d0ff8",
   "metadata": {
    "execution": {
     "iopub.execute_input": "2022-10-07T17:12:51.916467Z",
     "iopub.status.busy": "2022-10-07T17:12:51.916317Z",
     "iopub.status.idle": "2022-10-07T17:12:51.920269Z",
     "shell.execute_reply": "2022-10-07T17:12:51.919850Z"
    },
    "papermill": {
     "duration": 0.008145,
     "end_time": "2022-10-07T17:12:51.921171",
     "exception": false,
     "start_time": "2022-10-07T17:12:51.913026",
     "status": "completed"
    },
    "tags": []
   },
   "outputs": [],
   "source": [
    "from datasets import ClassLabel, Sequence\n",
    "import random\n",
    "import pandas as pd\n",
    "from IPython.display import display, HTML\n",
    "\n",
    "def show_random_elements(dataset, num_examples=10):\n",
    "    assert num_examples <= len(dataset), \"Can't pick more elements than there are in the dataset.\"\n",
    "    picks = []\n",
    "    for _ in range(num_examples):\n",
    "        pick = random.randint(0, len(dataset)-1)\n",
    "        while pick in picks:\n",
    "            pick = random.randint(0, len(dataset)-1)\n",
    "        picks.append(pick)\n",
    "    \n",
    "    df = pd.DataFrame(dataset[picks])\n",
    "    for column, typ in dataset.features.items():\n",
    "        if isinstance(typ, ClassLabel):\n",
    "            df[column] = df[column].transform(lambda i: typ.names[i])\n",
    "        elif isinstance(typ, Sequence) and isinstance(typ.feature, ClassLabel):\n",
    "            df[column] = df[column].transform(lambda x: [typ.feature.names[i] for i in x])\n",
    "    display(HTML(df.to_html()))"
   ]
  },
  {
   "cell_type": "code",
   "execution_count": 9,
   "id": "03316153-f558-46f7-a354-ac19338fbe17",
   "metadata": {
    "execution": {
     "iopub.execute_input": "2022-10-07T17:12:51.927597Z",
     "iopub.status.busy": "2022-10-07T17:12:51.927473Z",
     "iopub.status.idle": "2022-10-07T17:12:51.934120Z",
     "shell.execute_reply": "2022-10-07T17:12:51.933675Z"
    },
    "papermill": {
     "duration": 0.010828,
     "end_time": "2022-10-07T17:12:51.935033",
     "exception": false,
     "start_time": "2022-10-07T17:12:51.924205",
     "status": "completed"
    },
    "tags": []
   },
   "outputs": [
    {
     "data": {
      "text/html": [
       "<table border=\"1\" class=\"dataframe\">\n",
       "  <thead>\n",
       "    <tr style=\"text-align: right;\">\n",
       "      <th></th>\n",
       "      <th>tokens</th>\n",
       "      <th>ner_tags</th>\n",
       "    </tr>\n",
       "  </thead>\n",
       "  <tbody>\n",
       "    <tr>\n",
       "      <th>0</th>\n",
       "      <td>[it, 's, definitely, like]</td>\n",
       "      <td>[O, O, O, O]</td>\n",
       "    </tr>\n",
       "    <tr>\n",
       "      <th>1</th>\n",
       "      <td>[He, was, convicted, of, lewd, and, lascivious, acts, with, a, child, .]</td>\n",
       "      <td>[O, O, O, O, O, O, O, O, O, O, O, O]</td>\n",
       "    </tr>\n",
       "    <tr>\n",
       "      <th>2</th>\n",
       "      <td>[They, talked, about, one, individual, and, one, group, which, we, know, the, name, of, that, was, deliberately, going, to, take, action, against, the, U.S., and, or, Israel, in, Yemen, ,, and, a, top, Pentagon, official, testifies, the, warning, was, actually, ,, ,, issued, only, hours, before, the, Cole, was, bombed, .]</td>\n",
       "      <td>[O, O, O, B-CARDINAL, O, O, B-CARDINAL, O, O, O, O, O, O, O, O, O, O, O, O, O, O, O, O, B-GPE, O, O, B-GPE, O, B-GPE, O, O, O, O, B-ORG, O, O, O, O, O, O, O, O, O, B-TIME, I-TIME, O, O, B-PRODUCT, O, O, O]</td>\n",
       "    </tr>\n",
       "    <tr>\n",
       "      <th>3</th>\n",
       "      <td>[Right]</td>\n",
       "      <td>[O]</td>\n",
       "    </tr>\n",
       "    <tr>\n",
       "      <th>4</th>\n",
       "      <td>[The, two, are, also, signing, a, trade, agreement, .]</td>\n",
       "      <td>[O, B-CARDINAL, O, O, O, O, O, O, O]</td>\n",
       "    </tr>\n",
       "    <tr>\n",
       "      <th>5</th>\n",
       "      <td>[We, should, understand, that, the, government, is, no, panacea, for, all, ills, .]</td>\n",
       "      <td>[O, O, O, O, O, O, O, O, O, O, O, O, O]</td>\n",
       "    </tr>\n",
       "    <tr>\n",
       "      <th>6</th>\n",
       "      <td>[Is, n't, it, true, that, you, were, so, worked, up, that, framing, Mr., Laff, for, this, crime, was, the, least, that, you, planned, for, him, ?, '']</td>\n",
       "      <td>[O, O, O, O, O, O, O, O, O, O, O, O, O, B-PERSON, O, O, O, O, O, O, O, O, O, O, O, O, O]</td>\n",
       "    </tr>\n",
       "    <tr>\n",
       "      <th>7</th>\n",
       "      <td>[Texaco, ,, thinking, in, terms, of, $, 18, -, to, -, $, 19, oil, for, 1990, ,, may, raise, spending, ,, especially, for, low, -, risk, prospects, ,, an, official, says, .]</td>\n",
       "      <td>[B-ORG, O, O, O, O, O, B-MONEY, I-MONEY, I-MONEY, I-MONEY, I-MONEY, I-MONEY, I-MONEY, O, O, B-DATE, O, O, O, O, O, O, O, O, O, O, O, O, O, O, O, O]</td>\n",
       "    </tr>\n",
       "    <tr>\n",
       "      <th>8</th>\n",
       "      <td>[I, mean, you, know, what, a, terrible, thing, to, be, menopausal, .]</td>\n",
       "      <td>[O, O, O, O, O, O, O, O, O, O, O, O]</td>\n",
       "    </tr>\n",
       "    <tr>\n",
       "      <th>9</th>\n",
       "      <td>[Here, 's, CNN, 's, Cly, Wallace, .]</td>\n",
       "      <td>[O, O, B-ORG, O, B-PERSON, I-PERSON, O]</td>\n",
       "    </tr>\n",
       "  </tbody>\n",
       "</table>"
      ],
      "text/plain": [
       "<IPython.core.display.HTML object>"
      ]
     },
     "metadata": {},
     "output_type": "display_data"
    }
   ],
   "source": [
    "show_random_elements(datasets[\"train\"])"
   ]
  },
  {
   "cell_type": "markdown",
   "id": "8c9b68c2-9334-4985-b605-1ad9356008f3",
   "metadata": {
    "papermill": {
     "duration": 0.002955,
     "end_time": "2022-10-07T17:12:51.941121",
     "exception": false,
     "start_time": "2022-10-07T17:12:51.938166",
     "status": "completed"
    },
    "tags": []
   },
   "source": [
    "# Preprocessing dataset"
   ]
  },
  {
   "cell_type": "code",
   "execution_count": 10,
   "id": "862ec972-5613-4491-a970-d64ccf4eaee7",
   "metadata": {
    "execution": {
     "iopub.execute_input": "2022-10-07T17:12:51.948061Z",
     "iopub.status.busy": "2022-10-07T17:12:51.947676Z",
     "iopub.status.idle": "2022-10-07T17:12:52.141373Z",
     "shell.execute_reply": "2022-10-07T17:12:52.140880Z"
    },
    "papermill": {
     "duration": 0.198356,
     "end_time": "2022-10-07T17:12:52.142535",
     "exception": false,
     "start_time": "2022-10-07T17:12:51.944179",
     "status": "completed"
    },
    "tags": []
   },
   "outputs": [],
   "source": [
    "from transformers import AutoTokenizer\n",
    "    \n",
    "tokenizer = AutoTokenizer.from_pretrained(model_checkpoint)"
   ]
  },
  {
   "cell_type": "code",
   "execution_count": 11,
   "id": "31a5c158-0fd9-41f7-8db6-759bd439ac42",
   "metadata": {
    "execution": {
     "iopub.execute_input": "2022-10-07T17:12:52.149681Z",
     "iopub.status.busy": "2022-10-07T17:12:52.149509Z",
     "iopub.status.idle": "2022-10-07T17:12:52.151922Z",
     "shell.execute_reply": "2022-10-07T17:12:52.151503Z"
    },
    "papermill": {
     "duration": 0.00701,
     "end_time": "2022-10-07T17:12:52.152858",
     "exception": false,
     "start_time": "2022-10-07T17:12:52.145848",
     "status": "completed"
    },
    "tags": []
   },
   "outputs": [],
   "source": [
    "import transformers\n",
    "assert isinstance(tokenizer, transformers.PreTrainedTokenizerFast)"
   ]
  },
  {
   "cell_type": "code",
   "execution_count": 12,
   "id": "e2041685-3912-41f7-a31a-218860e18640",
   "metadata": {
    "execution": {
     "iopub.execute_input": "2022-10-07T17:12:52.159621Z",
     "iopub.status.busy": "2022-10-07T17:12:52.159496Z",
     "iopub.status.idle": "2022-10-07T17:12:52.162561Z",
     "shell.execute_reply": "2022-10-07T17:12:52.162260Z"
    },
    "papermill": {
     "duration": 0.007483,
     "end_time": "2022-10-07T17:12:52.163463",
     "exception": false,
     "start_time": "2022-10-07T17:12:52.155980",
     "status": "completed"
    },
    "tags": []
   },
   "outputs": [
    {
     "data": {
      "text/plain": [
       "{'input_ids': [1, 5365, 261, 291, 269, 311, 4378, 300, 2], 'token_type_ids': [0, 0, 0, 0, 0, 0, 0, 0, 0], 'attention_mask': [1, 1, 1, 1, 1, 1, 1, 1, 1]}"
      ]
     },
     "execution_count": 12,
     "metadata": {},
     "output_type": "execute_result"
    }
   ],
   "source": [
    "tokenizer(\"Hello, this is one sentence!\")"
   ]
  },
  {
   "cell_type": "code",
   "execution_count": 13,
   "id": "4588dbcf-f260-4e91-b551-f2d0adde4777",
   "metadata": {
    "execution": {
     "iopub.execute_input": "2022-10-07T17:12:52.170433Z",
     "iopub.status.busy": "2022-10-07T17:12:52.170309Z",
     "iopub.status.idle": "2022-10-07T17:12:52.172904Z",
     "shell.execute_reply": "2022-10-07T17:12:52.172486Z"
    },
    "papermill": {
     "duration": 0.007107,
     "end_time": "2022-10-07T17:12:52.173840",
     "exception": false,
     "start_time": "2022-10-07T17:12:52.166733",
     "status": "completed"
    },
    "tags": []
   },
   "outputs": [
    {
     "name": "stdout",
     "output_type": "stream",
     "text": [
      "['and', 'they', 'are', 'in', 'Atlanta', '.']\n"
     ]
    }
   ],
   "source": [
    "example = datasets[\"train\"][4]\n",
    "print(example[\"tokens\"])"
   ]
  },
  {
   "cell_type": "code",
   "execution_count": 14,
   "id": "1f98c301-64a2-430a-8338-d90ab3aec544",
   "metadata": {
    "execution": {
     "iopub.execute_input": "2022-10-07T17:12:52.180580Z",
     "iopub.status.busy": "2022-10-07T17:12:52.180429Z",
     "iopub.status.idle": "2022-10-07T17:12:52.182918Z",
     "shell.execute_reply": "2022-10-07T17:12:52.182510Z"
    },
    "papermill": {
     "duration": 0.006847,
     "end_time": "2022-10-07T17:12:52.183793",
     "exception": false,
     "start_time": "2022-10-07T17:12:52.176946",
     "status": "completed"
    },
    "tags": []
   },
   "outputs": [
    {
     "name": "stdout",
     "output_type": "stream",
     "text": [
      "['[CLS]', '▁and', '▁they', '▁are', '▁in', '▁Atlanta', '▁.', '[SEP]']\n"
     ]
    }
   ],
   "source": [
    "tokenized_input = tokenizer(example[\"tokens\"], is_split_into_words=True)\n",
    "tokens = tokenizer.convert_ids_to_tokens(tokenized_input[\"input_ids\"])\n",
    "print(tokens)"
   ]
  },
  {
   "cell_type": "code",
   "execution_count": 15,
   "id": "940e2c7e-3d28-4163-b904-b833b3450894",
   "metadata": {
    "execution": {
     "iopub.execute_input": "2022-10-07T17:12:52.190957Z",
     "iopub.status.busy": "2022-10-07T17:12:52.190805Z",
     "iopub.status.idle": "2022-10-07T17:12:52.193476Z",
     "shell.execute_reply": "2022-10-07T17:12:52.193162Z"
    },
    "papermill": {
     "duration": 0.007087,
     "end_time": "2022-10-07T17:12:52.194324",
     "exception": false,
     "start_time": "2022-10-07T17:12:52.187237",
     "status": "completed"
    },
    "tags": []
   },
   "outputs": [
    {
     "data": {
      "text/plain": [
       "(6, 8)"
      ]
     },
     "execution_count": 15,
     "metadata": {},
     "output_type": "execute_result"
    }
   ],
   "source": [
    "len(example[f\"{task}_tags\"]), len(tokenized_input[\"input_ids\"])"
   ]
  },
  {
   "cell_type": "code",
   "execution_count": 16,
   "id": "357885f5-d859-4faa-b2f8-8f0069aeae33",
   "metadata": {
    "execution": {
     "iopub.execute_input": "2022-10-07T17:12:52.201306Z",
     "iopub.status.busy": "2022-10-07T17:12:52.201157Z",
     "iopub.status.idle": "2022-10-07T17:12:52.203501Z",
     "shell.execute_reply": "2022-10-07T17:12:52.203090Z"
    },
    "papermill": {
     "duration": 0.006794,
     "end_time": "2022-10-07T17:12:52.204376",
     "exception": false,
     "start_time": "2022-10-07T17:12:52.197582",
     "status": "completed"
    },
    "tags": []
   },
   "outputs": [
    {
     "name": "stdout",
     "output_type": "stream",
     "text": [
      "[None, 0, 1, 2, 3, 4, 5, None]\n"
     ]
    }
   ],
   "source": [
    "print(tokenized_input.word_ids())"
   ]
  },
  {
   "cell_type": "code",
   "execution_count": 17,
   "id": "bdc9d7ae-b277-46ae-b125-7ac13c46a957",
   "metadata": {
    "execution": {
     "iopub.execute_input": "2022-10-07T17:12:52.211533Z",
     "iopub.status.busy": "2022-10-07T17:12:52.211409Z",
     "iopub.status.idle": "2022-10-07T17:12:52.213890Z",
     "shell.execute_reply": "2022-10-07T17:12:52.213540Z"
    },
    "papermill": {
     "duration": 0.007083,
     "end_time": "2022-10-07T17:12:52.214804",
     "exception": false,
     "start_time": "2022-10-07T17:12:52.207721",
     "status": "completed"
    },
    "tags": []
   },
   "outputs": [
    {
     "name": "stdout",
     "output_type": "stream",
     "text": [
      "8 8\n"
     ]
    }
   ],
   "source": [
    "word_ids = tokenized_input.word_ids()\n",
    "aligned_labels = [-100 if i is None else example[f\"{task}_tags\"][i] for i in word_ids]\n",
    "print(len(aligned_labels), len(tokenized_input[\"input_ids\"]))"
   ]
  },
  {
   "cell_type": "code",
   "execution_count": 18,
   "id": "a49d17ab-27c9-4c9a-880c-857a4f3fb8ce",
   "metadata": {
    "execution": {
     "iopub.execute_input": "2022-10-07T17:12:52.222365Z",
     "iopub.status.busy": "2022-10-07T17:12:52.222107Z",
     "iopub.status.idle": "2022-10-07T17:12:52.224128Z",
     "shell.execute_reply": "2022-10-07T17:12:52.223710Z"
    },
    "papermill": {
     "duration": 0.006797,
     "end_time": "2022-10-07T17:12:52.225088",
     "exception": false,
     "start_time": "2022-10-07T17:12:52.218291",
     "status": "completed"
    },
    "tags": []
   },
   "outputs": [],
   "source": [
    "label_all_tokens = True"
   ]
  },
  {
   "cell_type": "code",
   "execution_count": 19,
   "id": "ebbbcb79-29aa-406d-87ce-e538fac96c73",
   "metadata": {
    "execution": {
     "iopub.execute_input": "2022-10-07T17:12:52.232448Z",
     "iopub.status.busy": "2022-10-07T17:12:52.232181Z",
     "iopub.status.idle": "2022-10-07T17:12:52.235608Z",
     "shell.execute_reply": "2022-10-07T17:12:52.235187Z"
    },
    "papermill": {
     "duration": 0.008009,
     "end_time": "2022-10-07T17:12:52.236513",
     "exception": false,
     "start_time": "2022-10-07T17:12:52.228504",
     "status": "completed"
    },
    "tags": []
   },
   "outputs": [],
   "source": [
    "def tokenize_and_align_labels(examples):\n",
    "    tokenized_inputs = tokenizer(examples[\"tokens\"], truncation=True, is_split_into_words=True)\n",
    "\n",
    "    labels = []\n",
    "    for i, label in enumerate(examples[f\"{task}_tags\"]):\n",
    "        word_ids = tokenized_inputs.word_ids(batch_index=i)\n",
    "        previous_word_idx = None\n",
    "        label_ids = []\n",
    "        for word_idx in word_ids:\n",
    "            # Special tokens have a word id that is None. We set the label to -100 so they are automatically\n",
    "            # ignored in the loss function.\n",
    "            if word_idx is None:\n",
    "                label_ids.append(-100)\n",
    "            # We set the label for the first token of each word.\n",
    "            elif word_idx != previous_word_idx:\n",
    "                label_ids.append(label[word_idx])\n",
    "            # For the other tokens in a word, we set the label to either the current label or -100, depending on\n",
    "            # the label_all_tokens flag.\n",
    "            else:\n",
    "                label_ids.append(label[word_idx] if label_all_tokens else -100)\n",
    "            previous_word_idx = word_idx\n",
    "\n",
    "        labels.append(label_ids)\n",
    "\n",
    "    tokenized_inputs[\"labels\"] = labels\n",
    "    return tokenized_inputs"
   ]
  },
  {
   "cell_type": "code",
   "execution_count": 20,
   "id": "dbad0d5d-ca61-47b4-9b36-9cde17981798",
   "metadata": {
    "execution": {
     "iopub.execute_input": "2022-10-07T17:12:52.243833Z",
     "iopub.status.busy": "2022-10-07T17:12:52.243663Z",
     "iopub.status.idle": "2022-10-07T17:12:52.247267Z",
     "shell.execute_reply": "2022-10-07T17:12:52.246951Z"
    },
    "papermill": {
     "duration": 0.008228,
     "end_time": "2022-10-07T17:12:52.248159",
     "exception": false,
     "start_time": "2022-10-07T17:12:52.239931",
     "status": "completed"
    },
    "tags": []
   },
   "outputs": [
    {
     "name": "stderr",
     "output_type": "stream",
     "text": [
      "Asking to truncate to max_length but no maximum length is provided and the model has no predefined maximum length. Default to no truncation.\n"
     ]
    },
    {
     "data": {
      "text/plain": [
       "{'input_ids': [[1, 1333, 262, 2109, 275, 3877, 31922, 323, 2], [1, 1864, 9977, 3330, 264, 8458, 1016, 4023, 323, 2], [1, 279, 1376, 271, 47701, 281, 40618, 10637, 263, 6654, 15773, 323, 2], [1, 272, 382, 268, 6654, 277, 262, 595, 40618, 277, 262, 423, 323, 2], [1, 263, 306, 281, 267, 5100, 323, 2]], 'token_type_ids': [[0, 0, 0, 0, 0, 0, 0, 0, 0], [0, 0, 0, 0, 0, 0, 0, 0, 0, 0], [0, 0, 0, 0, 0, 0, 0, 0, 0, 0, 0, 0, 0], [0, 0, 0, 0, 0, 0, 0, 0, 0, 0, 0, 0, 0, 0], [0, 0, 0, 0, 0, 0, 0, 0]], 'attention_mask': [[1, 1, 1, 1, 1, 1, 1, 1, 1], [1, 1, 1, 1, 1, 1, 1, 1, 1, 1], [1, 1, 1, 1, 1, 1, 1, 1, 1, 1, 1, 1, 1], [1, 1, 1, 1, 1, 1, 1, 1, 1, 1, 1, 1, 1, 1], [1, 1, 1, 1, 1, 1, 1, 1]], 'labels': [[-100, 15, 0, 0, 0, 1, 2, 0, -100], [-100, 31, 31, 0, 0, 0, 0, 17, 0, -100], [-100, 0, 0, 0, 0, 0, 1, 2, 0, 1, 2, 0, -100], [-100, 0, 0, 0, 1, 0, 0, 0, 1, 0, 0, 0, 0, -100], [-100, 0, 0, 0, 0, 9, 0, -100]]}"
      ]
     },
     "execution_count": 20,
     "metadata": {},
     "output_type": "execute_result"
    }
   ],
   "source": [
    "tokenize_and_align_labels(datasets['train'][:5])"
   ]
  },
  {
   "cell_type": "code",
   "execution_count": 21,
   "id": "606f6cd0-bba1-4948-951e-ba0cc0c7965a",
   "metadata": {
    "execution": {
     "iopub.execute_input": "2022-10-07T17:12:52.255675Z",
     "iopub.status.busy": "2022-10-07T17:12:52.255521Z",
     "iopub.status.idle": "2022-10-07T17:12:52.301373Z",
     "shell.execute_reply": "2022-10-07T17:12:52.301025Z"
    },
    "papermill": {
     "duration": 0.050627,
     "end_time": "2022-10-07T17:12:52.302315",
     "exception": false,
     "start_time": "2022-10-07T17:12:52.251688",
     "status": "completed"
    },
    "tags": []
   },
   "outputs": [
    {
     "name": "stderr",
     "output_type": "stream",
     "text": [
      "Loading cached processed dataset at /root/.cache/huggingface/datasets/SpeedOfMagic___parquet/SpeedOfMagic--ontonotes_english-955f75f6fda13fd9/0.0.0/2a3b91fbd88a2c90d1dbbb32b460cf621d31bd5b05b934492fdef7d8d6f236ec/cache-c868c86fb26726cc.arrow\n",
      "Loading cached processed dataset at /root/.cache/huggingface/datasets/SpeedOfMagic___parquet/SpeedOfMagic--ontonotes_english-955f75f6fda13fd9/0.0.0/2a3b91fbd88a2c90d1dbbb32b460cf621d31bd5b05b934492fdef7d8d6f236ec/cache-af2f81d9c3eda3f1.arrow\n",
      "Loading cached processed dataset at /root/.cache/huggingface/datasets/SpeedOfMagic___parquet/SpeedOfMagic--ontonotes_english-955f75f6fda13fd9/0.0.0/2a3b91fbd88a2c90d1dbbb32b460cf621d31bd5b05b934492fdef7d8d6f236ec/cache-fe1f3bf513e17917.arrow\n"
     ]
    }
   ],
   "source": [
    "tokenized_datasets = datasets.map(tokenize_and_align_labels, batched=True)"
   ]
  },
  {
   "cell_type": "markdown",
   "id": "f9a8b965-ef3d-4b43-b209-6988b13547f4",
   "metadata": {
    "papermill": {
     "duration": 0.003559,
     "end_time": "2022-10-07T17:12:52.309708",
     "exception": false,
     "start_time": "2022-10-07T17:12:52.306149",
     "status": "completed"
    },
    "tags": []
   },
   "source": [
    "# Fine-tuning the model"
   ]
  },
  {
   "cell_type": "code",
   "execution_count": 22,
   "id": "6f046dbc-540f-4c07-9a48-095cd22ddc4f",
   "metadata": {
    "execution": {
     "iopub.execute_input": "2022-10-07T17:12:52.317479Z",
     "iopub.status.busy": "2022-10-07T17:12:52.317312Z",
     "iopub.status.idle": "2022-10-07T17:12:54.492637Z",
     "shell.execute_reply": "2022-10-07T17:12:54.492185Z"
    },
    "papermill": {
     "duration": 2.180291,
     "end_time": "2022-10-07T17:12:54.493597",
     "exception": false,
     "start_time": "2022-10-07T17:12:52.313306",
     "status": "completed"
    },
    "tags": []
   },
   "outputs": [
    {
     "name": "stderr",
     "output_type": "stream",
     "text": [
      "2022-10-07 20:12:52.672117: I tensorflow/core/platform/cpu_feature_guard.cc:193] This TensorFlow binary is optimized with oneAPI Deep Neural Network Library (oneDNN) to use the following CPU instructions in performance-critical operations:  AVX2 FMA\n",
      "To enable them in other operations, rebuild TensorFlow with the appropriate compiler flags.\n",
      "2022-10-07 20:12:52.775554: E tensorflow/stream_executor/cuda/cuda_blas.cc:2981] Unable to register cuBLAS factory: Attempting to register factory for plugin cuBLAS when one has already been registered\n",
      "2022-10-07 20:12:53.136062: W tensorflow/stream_executor/platform/default/dso_loader.cc:64] Could not load dynamic library 'libnvinfer.so.7'; dlerror: libnvinfer.so.7: cannot open shared object file: No such file or directory\n",
      "2022-10-07 20:12:53.136105: W tensorflow/stream_executor/platform/default/dso_loader.cc:64] Could not load dynamic library 'libnvinfer_plugin.so.7'; dlerror: libnvinfer_plugin.so.7: cannot open shared object file: No such file or directory\n",
      "2022-10-07 20:12:53.136111: W tensorflow/compiler/tf2tensorrt/utils/py_utils.cc:38] TF-TRT Warning: Cannot dlopen some TensorRT libraries. If you would like to use Nvidia GPU with TensorRT, please make sure the missing libraries mentioned above are installed properly.\n",
      "Some weights of DebertaV2ForTokenClassification were not initialized from the model checkpoint at ../data/models/microsoft/deberta-v3-small/conll2003/checkpoint-3512 and are newly initialized because the shapes did not match:\n",
      "- classifier.weight: found shape torch.Size([9, 768]) in the checkpoint and torch.Size([37, 768]) in the model instantiated\n",
      "- classifier.bias: found shape torch.Size([9]) in the checkpoint and torch.Size([37]) in the model instantiated\n",
      "You should probably TRAIN this model on a down-stream task to be able to use it for predictions and inference.\n"
     ]
    }
   ],
   "source": [
    "from transformers import AutoConfig, AutoModelForTokenClassification, TrainingArguments, Trainer\n",
    "# config = AutoConfig.from_pretrained(model_checkpoint)\n",
    "model = AutoModelForTokenClassification.from_pretrained(model_checkpoint, num_labels=len(label_list), ignore_mismatched_sizes=True) #, from_tf=True"
   ]
  },
  {
   "cell_type": "code",
   "execution_count": 23,
   "id": "48273902-cd86-4433-bf1b-7571318833c3",
   "metadata": {
    "execution": {
     "iopub.execute_input": "2022-10-07T17:12:54.502078Z",
     "iopub.status.busy": "2022-10-07T17:12:54.501829Z",
     "iopub.status.idle": "2022-10-07T17:12:54.989896Z",
     "shell.execute_reply": "2022-10-07T17:12:54.989509Z"
    },
    "papermill": {
     "duration": 0.493438,
     "end_time": "2022-10-07T17:12:54.991013",
     "exception": false,
     "start_time": "2022-10-07T17:12:54.497575",
     "status": "completed"
    },
    "tags": []
   },
   "outputs": [],
   "source": [
    "args = TrainingArguments(\n",
    "    # f\"test-{task}\",\n",
    "    f\"../data/models/{pretrained_model}/{dataset_name}\",\n",
    "    evaluation_strategy = \"epoch\",\n",
    "    learning_rate=2e-5,\n",
    "    per_device_train_batch_size=batch_size,\n",
    "    per_device_eval_batch_size=batch_size,\n",
    "    \n",
    "    num_train_epochs=24,\n",
    "    \n",
    "    weight_decay=0.01,\n",
    "    \n",
    "    save_strategy='epoch',\n",
    "    save_total_limit = 3,\n",
    "    \n",
    "    metric_for_best_model = 'f1',\n",
    "    load_best_model_at_end=True\n",
    "    \n",
    ")"
   ]
  },
  {
   "cell_type": "code",
   "execution_count": 24,
   "id": "54a4cbeb-b0a4-450e-94a6-90da7f081ae3",
   "metadata": {
    "execution": {
     "iopub.execute_input": "2022-10-07T17:12:54.999402Z",
     "iopub.status.busy": "2022-10-07T17:12:54.999261Z",
     "iopub.status.idle": "2022-10-07T17:12:55.001442Z",
     "shell.execute_reply": "2022-10-07T17:12:55.001132Z"
    },
    "papermill": {
     "duration": 0.007292,
     "end_time": "2022-10-07T17:12:55.002315",
     "exception": false,
     "start_time": "2022-10-07T17:12:54.995023",
     "status": "completed"
    },
    "tags": []
   },
   "outputs": [],
   "source": [
    "from transformers import DataCollatorForTokenClassification\n",
    "\n",
    "data_collator = DataCollatorForTokenClassification(tokenizer)"
   ]
  },
  {
   "cell_type": "code",
   "execution_count": 25,
   "id": "46783552-ece0-4aaa-8534-17fdbd65312c",
   "metadata": {
    "execution": {
     "iopub.execute_input": "2022-10-07T17:12:55.010388Z",
     "iopub.status.busy": "2022-10-07T17:12:55.010246Z",
     "iopub.status.idle": "2022-10-07T17:12:55.874432Z",
     "shell.execute_reply": "2022-10-07T17:12:55.873083Z"
    },
    "papermill": {
     "duration": 0.870753,
     "end_time": "2022-10-07T17:12:55.876899",
     "exception": false,
     "start_time": "2022-10-07T17:12:55.006146",
     "status": "completed"
    },
    "tags": []
   },
   "outputs": [
    {
     "name": "stderr",
     "output_type": "stream",
     "text": [
      "/tmp/ipykernel_1913209/1092872775.py:1: FutureWarning: load_metric is deprecated and will be removed in the next major version of datasets. Use 'evaluate.load' instead, from the new library 🤗 Evaluate: https://huggingface.co/docs/evaluate\n",
      "  metric = load_metric(\"seqeval\")\n"
     ]
    }
   ],
   "source": [
    "metric = load_metric(\"seqeval\")\n",
    "# from evaluate import evaluator\n",
    "\n",
    "# task_evaluator = evaluator(\"token-classification\")"
   ]
  },
  {
   "cell_type": "code",
   "execution_count": 26,
   "id": "904488d4-97e5-4e0d-afe8-ab1b9d2c5810",
   "metadata": {
    "execution": {
     "iopub.execute_input": "2022-10-07T17:12:55.887447Z",
     "iopub.status.busy": "2022-10-07T17:12:55.887296Z",
     "iopub.status.idle": "2022-10-07T17:12:55.894736Z",
     "shell.execute_reply": "2022-10-07T17:12:55.894195Z"
    },
    "papermill": {
     "duration": 0.012597,
     "end_time": "2022-10-07T17:12:55.895703",
     "exception": false,
     "start_time": "2022-10-07T17:12:55.883106",
     "status": "completed"
    },
    "tags": []
   },
   "outputs": [
    {
     "data": {
      "text/plain": [
       "{'GPE': {'precision': 1.0, 'recall': 1.0, 'f1': 1.0, 'number': 1},\n",
       " 'overall_precision': 1.0,\n",
       " 'overall_recall': 1.0,\n",
       " 'overall_f1': 1.0,\n",
       " 'overall_accuracy': 1.0}"
      ]
     },
     "execution_count": 26,
     "metadata": {},
     "output_type": "execute_result"
    }
   ],
   "source": [
    "labels = [label_list[i] for i in example[f\"{task}_tags\"]]\n",
    "metric.compute(predictions=[labels], references=[labels])"
   ]
  },
  {
   "cell_type": "code",
   "execution_count": 27,
   "id": "1057259c-91f9-4a11-8541-a78ca759f663",
   "metadata": {
    "execution": {
     "iopub.execute_input": "2022-10-07T17:12:55.903976Z",
     "iopub.status.busy": "2022-10-07T17:12:55.903846Z",
     "iopub.status.idle": "2022-10-07T17:12:55.907350Z",
     "shell.execute_reply": "2022-10-07T17:12:55.906919Z"
    },
    "papermill": {
     "duration": 0.00866,
     "end_time": "2022-10-07T17:12:55.908243",
     "exception": false,
     "start_time": "2022-10-07T17:12:55.899583",
     "status": "completed"
    },
    "tags": []
   },
   "outputs": [],
   "source": [
    "import numpy as np\n",
    "\n",
    "def compute_metrics(p):\n",
    "    predictions, labels = p\n",
    "    predictions = np.argmax(predictions, axis=2)\n",
    "\n",
    "    # Remove ignored index (special tokens)\n",
    "    true_predictions = [\n",
    "        [label_list[p] for (p, l) in zip(prediction, label) if l != -100]\n",
    "        for prediction, label in zip(predictions, labels)\n",
    "    ]\n",
    "    true_labels = [\n",
    "        [label_list[l] for (p, l) in zip(prediction, label) if l != -100]\n",
    "        for prediction, label in zip(predictions, labels)\n",
    "    ]\n",
    "\n",
    "    results = metric.compute(predictions=true_predictions, references=true_labels)\n",
    "    return {\n",
    "        \"precision\": results[\"overall_precision\"],\n",
    "        \"recall\": results[\"overall_recall\"],\n",
    "        \"f1\": results[\"overall_f1\"],\n",
    "        \"accuracy\": results[\"overall_accuracy\"],\n",
    "    }"
   ]
  },
  {
   "cell_type": "code",
   "execution_count": 28,
   "id": "10ce1635-52fe-454b-b283-d0b02e0cf408",
   "metadata": {
    "execution": {
     "iopub.execute_input": "2022-10-07T17:12:55.916456Z",
     "iopub.status.busy": "2022-10-07T17:12:55.916327Z",
     "iopub.status.idle": "2022-10-07T17:12:55.918544Z",
     "shell.execute_reply": "2022-10-07T17:12:55.918122Z"
    },
    "papermill": {
     "duration": 0.007323,
     "end_time": "2022-10-07T17:12:55.919454",
     "exception": false,
     "start_time": "2022-10-07T17:12:55.912131",
     "status": "completed"
    },
    "tags": []
   },
   "outputs": [],
   "source": [
    "import torch\n",
    "torch.cuda.empty_cache()"
   ]
  },
  {
   "cell_type": "code",
   "execution_count": 29,
   "id": "6cbc9363-c61b-410e-8a96-fb8a493f8e1b",
   "metadata": {
    "execution": {
     "iopub.execute_input": "2022-10-07T17:12:55.927727Z",
     "iopub.status.busy": "2022-10-07T17:12:55.927601Z",
     "iopub.status.idle": "2022-10-07T17:12:57.061702Z",
     "shell.execute_reply": "2022-10-07T17:12:57.061185Z"
    },
    "papermill": {
     "duration": 1.139534,
     "end_time": "2022-10-07T17:12:57.062912",
     "exception": false,
     "start_time": "2022-10-07T17:12:55.923378",
     "status": "completed"
    },
    "tags": []
   },
   "outputs": [],
   "source": [
    "trainer = Trainer(\n",
    "    model,\n",
    "    args,\n",
    "    train_dataset=tokenized_datasets[\"train\"],\n",
    "    eval_dataset=tokenized_datasets[\"validation\"],\n",
    "    data_collator=data_collator,\n",
    "    tokenizer=tokenizer,\n",
    "    compute_metrics=compute_metrics\n",
    ")"
   ]
  },
  {
   "cell_type": "code",
   "execution_count": 30,
   "id": "98faa348-5836-450e-a2ec-c1336a37e8d6",
   "metadata": {
    "execution": {
     "iopub.execute_input": "2022-10-07T17:12:57.071717Z",
     "iopub.status.busy": "2022-10-07T17:12:57.071474Z",
     "iopub.status.idle": "2022-10-07T18:27:35.689942Z",
     "shell.execute_reply": "2022-10-07T18:27:35.689347Z"
    },
    "papermill": {
     "duration": 4478.623803,
     "end_time": "2022-10-07T18:27:35.690877",
     "exception": false,
     "start_time": "2022-10-07T17:12:57.067074",
     "status": "completed"
    },
    "tags": []
   },
   "outputs": [
    {
     "name": "stderr",
     "output_type": "stream",
     "text": [
      "The following columns in the training set don't have a corresponding argument in `DebertaV2ForTokenClassification.forward` and have been ignored: ner_tags, tokens. If ner_tags, tokens are not expected by `DebertaV2ForTokenClassification.forward`,  you can safely ignore this message.\n",
      "/root/.cache/pypoetry/virtualenvs/sequence-labeling-1mH2o5_I-py3.8/lib/python3.8/site-packages/transformers/optimization.py:306: FutureWarning: This implementation of AdamW is deprecated and will be removed in a future version. Use the PyTorch implementation torch.optim.AdamW instead, or set `no_deprecation_warning=True` to disable this warning\n",
      "  warnings.warn(\n",
      "***** Running training *****\n",
      "  Num examples = 59924\n",
      "  Num Epochs = 24\n",
      "  Instantaneous batch size per device = 16\n",
      "  Total train batch size (w. parallel, distributed & accumulation) = 16\n",
      "  Gradient Accumulation steps = 1\n",
      "  Total optimization steps = 89904\n",
      "You're using a DebertaV2TokenizerFast tokenizer. Please note that with a fast tokenizer, using the `__call__` method is faster than using a method to encode the text followed by a call to the `pad` method to get a padded encoding.\n",
      "/root/.cache/pypoetry/virtualenvs/sequence-labeling-1mH2o5_I-py3.8/lib/python3.8/site-packages/transformers/models/deberta_v2/modeling_deberta_v2.py:745: UserWarning: To copy construct from a tensor, it is recommended to use sourceTensor.clone().detach() or sourceTensor.clone().detach().requires_grad_(True), rather than torch.tensor(sourceTensor).\n",
      "  attention_scores = torch.bmm(query_layer, key_layer.transpose(-1, -2)) / torch.tensor(\n",
      "/root/.cache/pypoetry/virtualenvs/sequence-labeling-1mH2o5_I-py3.8/lib/python3.8/site-packages/transformers/models/deberta_v2/modeling_deberta_v2.py:829: UserWarning: To copy construct from a tensor, it is recommended to use sourceTensor.clone().detach() or sourceTensor.clone().detach().requires_grad_(True), rather than torch.tensor(sourceTensor).\n",
      "  score += c2p_att / torch.tensor(scale, dtype=c2p_att.dtype)\n",
      "/root/.cache/pypoetry/virtualenvs/sequence-labeling-1mH2o5_I-py3.8/lib/python3.8/site-packages/transformers/models/deberta_v2/modeling_deberta_v2.py:852: UserWarning: To copy construct from a tensor, it is recommended to use sourceTensor.clone().detach() or sourceTensor.clone().detach().requires_grad_(True), rather than torch.tensor(sourceTensor).\n",
      "  score += p2c_att / torch.tensor(scale, dtype=p2c_att.dtype)\n"
     ]
    },
    {
     "data": {
      "text/html": [
       "\n",
       "    <div>\n",
       "      \n",
       "      <progress value='89904' max='89904' style='width:300px; height:20px; vertical-align: middle;'></progress>\n",
       "      [89904/89904 1:14:38, Epoch 24/24]\n",
       "    </div>\n",
       "    <table border=\"1\" class=\"dataframe\">\n",
       "  <thead>\n",
       " <tr style=\"text-align: left;\">\n",
       "      <th>Epoch</th>\n",
       "      <th>Training Loss</th>\n",
       "      <th>Validation Loss</th>\n",
       "      <th>Precision</th>\n",
       "      <th>Recall</th>\n",
       "      <th>F1</th>\n",
       "      <th>Accuracy</th>\n",
       "    </tr>\n",
       "  </thead>\n",
       "  <tbody>\n",
       "    <tr>\n",
       "      <td>1</td>\n",
       "      <td>0.079100</td>\n",
       "      <td>0.116812</td>\n",
       "      <td>0.809238</td>\n",
       "      <td>0.894441</td>\n",
       "      <td>0.849709</td>\n",
       "      <td>0.968354</td>\n",
       "    </tr>\n",
       "    <tr>\n",
       "      <td>2</td>\n",
       "      <td>0.057700</td>\n",
       "      <td>0.119632</td>\n",
       "      <td>0.812746</td>\n",
       "      <td>0.897624</td>\n",
       "      <td>0.853079</td>\n",
       "      <td>0.968575</td>\n",
       "    </tr>\n",
       "    <tr>\n",
       "      <td>3</td>\n",
       "      <td>0.043500</td>\n",
       "      <td>0.136282</td>\n",
       "      <td>0.818278</td>\n",
       "      <td>0.900652</td>\n",
       "      <td>0.857491</td>\n",
       "      <td>0.968973</td>\n",
       "    </tr>\n",
       "    <tr>\n",
       "      <td>4</td>\n",
       "      <td>0.033600</td>\n",
       "      <td>0.140391</td>\n",
       "      <td>0.817992</td>\n",
       "      <td>0.897352</td>\n",
       "      <td>0.855836</td>\n",
       "      <td>0.969289</td>\n",
       "    </tr>\n",
       "    <tr>\n",
       "      <td>5</td>\n",
       "      <td>0.026300</td>\n",
       "      <td>0.148464</td>\n",
       "      <td>0.826779</td>\n",
       "      <td>0.901118</td>\n",
       "      <td>0.862350</td>\n",
       "      <td>0.970177</td>\n",
       "    </tr>\n",
       "    <tr>\n",
       "      <td>6</td>\n",
       "      <td>0.022300</td>\n",
       "      <td>0.157671</td>\n",
       "      <td>0.822576</td>\n",
       "      <td>0.903913</td>\n",
       "      <td>0.861328</td>\n",
       "      <td>0.970022</td>\n",
       "    </tr>\n",
       "    <tr>\n",
       "      <td>7</td>\n",
       "      <td>0.015500</td>\n",
       "      <td>0.171137</td>\n",
       "      <td>0.822186</td>\n",
       "      <td>0.901506</td>\n",
       "      <td>0.860021</td>\n",
       "      <td>0.969598</td>\n",
       "    </tr>\n",
       "    <tr>\n",
       "      <td>8</td>\n",
       "      <td>0.012100</td>\n",
       "      <td>0.196515</td>\n",
       "      <td>0.817698</td>\n",
       "      <td>0.906204</td>\n",
       "      <td>0.859679</td>\n",
       "      <td>0.969160</td>\n",
       "    </tr>\n",
       "    <tr>\n",
       "      <td>9</td>\n",
       "      <td>0.009300</td>\n",
       "      <td>0.200058</td>\n",
       "      <td>0.820016</td>\n",
       "      <td>0.901196</td>\n",
       "      <td>0.858691</td>\n",
       "      <td>0.969555</td>\n",
       "    </tr>\n",
       "    <tr>\n",
       "      <td>10</td>\n",
       "      <td>0.008000</td>\n",
       "      <td>0.223168</td>\n",
       "      <td>0.821549</td>\n",
       "      <td>0.905816</td>\n",
       "      <td>0.861627</td>\n",
       "      <td>0.969910</td>\n",
       "    </tr>\n",
       "    <tr>\n",
       "      <td>11</td>\n",
       "      <td>0.005700</td>\n",
       "      <td>0.233047</td>\n",
       "      <td>0.827300</td>\n",
       "      <td>0.897896</td>\n",
       "      <td>0.861154</td>\n",
       "      <td>0.969473</td>\n",
       "    </tr>\n",
       "    <tr>\n",
       "      <td>12</td>\n",
       "      <td>0.003500</td>\n",
       "      <td>0.241151</td>\n",
       "      <td>0.820124</td>\n",
       "      <td>0.901856</td>\n",
       "      <td>0.859050</td>\n",
       "      <td>0.969443</td>\n",
       "    </tr>\n",
       "    <tr>\n",
       "      <td>13</td>\n",
       "      <td>0.003100</td>\n",
       "      <td>0.250718</td>\n",
       "      <td>0.823835</td>\n",
       "      <td>0.904146</td>\n",
       "      <td>0.862124</td>\n",
       "      <td>0.969950</td>\n",
       "    </tr>\n",
       "    <tr>\n",
       "      <td>14</td>\n",
       "      <td>0.003000</td>\n",
       "      <td>0.258685</td>\n",
       "      <td>0.825618</td>\n",
       "      <td>0.903603</td>\n",
       "      <td>0.862852</td>\n",
       "      <td>0.969878</td>\n",
       "    </tr>\n",
       "    <tr>\n",
       "      <td>15</td>\n",
       "      <td>0.002100</td>\n",
       "      <td>0.270283</td>\n",
       "      <td>0.826802</td>\n",
       "      <td>0.904224</td>\n",
       "      <td>0.863781</td>\n",
       "      <td>0.970081</td>\n",
       "    </tr>\n",
       "    <tr>\n",
       "      <td>16</td>\n",
       "      <td>0.002200</td>\n",
       "      <td>0.266761</td>\n",
       "      <td>0.826146</td>\n",
       "      <td>0.903603</td>\n",
       "      <td>0.863140</td>\n",
       "      <td>0.970042</td>\n",
       "    </tr>\n",
       "    <tr>\n",
       "      <td>17</td>\n",
       "      <td>0.001500</td>\n",
       "      <td>0.283263</td>\n",
       "      <td>0.825656</td>\n",
       "      <td>0.903292</td>\n",
       "      <td>0.862731</td>\n",
       "      <td>0.969805</td>\n",
       "    </tr>\n",
       "    <tr>\n",
       "      <td>18</td>\n",
       "      <td>0.001300</td>\n",
       "      <td>0.272554</td>\n",
       "      <td>0.829425</td>\n",
       "      <td>0.902166</td>\n",
       "      <td>0.864268</td>\n",
       "      <td>0.970299</td>\n",
       "    </tr>\n",
       "    <tr>\n",
       "      <td>19</td>\n",
       "      <td>0.001300</td>\n",
       "      <td>0.279967</td>\n",
       "      <td>0.829169</td>\n",
       "      <td>0.905816</td>\n",
       "      <td>0.865800</td>\n",
       "      <td>0.970424</td>\n",
       "    </tr>\n",
       "    <tr>\n",
       "      <td>20</td>\n",
       "      <td>0.000900</td>\n",
       "      <td>0.290866</td>\n",
       "      <td>0.827090</td>\n",
       "      <td>0.904379</td>\n",
       "      <td>0.864010</td>\n",
       "      <td>0.970124</td>\n",
       "    </tr>\n",
       "    <tr>\n",
       "      <td>21</td>\n",
       "      <td>0.000700</td>\n",
       "      <td>0.297174</td>\n",
       "      <td>0.827244</td>\n",
       "      <td>0.905350</td>\n",
       "      <td>0.864536</td>\n",
       "      <td>0.969930</td>\n",
       "    </tr>\n",
       "    <tr>\n",
       "      <td>22</td>\n",
       "      <td>0.000800</td>\n",
       "      <td>0.293356</td>\n",
       "      <td>0.829542</td>\n",
       "      <td>0.904612</td>\n",
       "      <td>0.865452</td>\n",
       "      <td>0.970236</td>\n",
       "    </tr>\n",
       "    <tr>\n",
       "      <td>23</td>\n",
       "      <td>0.000900</td>\n",
       "      <td>0.299017</td>\n",
       "      <td>0.827492</td>\n",
       "      <td>0.905622</td>\n",
       "      <td>0.864796</td>\n",
       "      <td>0.970220</td>\n",
       "    </tr>\n",
       "    <tr>\n",
       "      <td>24</td>\n",
       "      <td>0.000700</td>\n",
       "      <td>0.301798</td>\n",
       "      <td>0.827189</td>\n",
       "      <td>0.905932</td>\n",
       "      <td>0.864772</td>\n",
       "      <td>0.970137</td>\n",
       "    </tr>\n",
       "  </tbody>\n",
       "</table><p>"
      ],
      "text/plain": [
       "<IPython.core.display.HTML object>"
      ]
     },
     "metadata": {},
     "output_type": "display_data"
    },
    {
     "name": "stderr",
     "output_type": "stream",
     "text": [
      "The following columns in the evaluation set don't have a corresponding argument in `DebertaV2ForTokenClassification.forward` and have been ignored: ner_tags, tokens. If ner_tags, tokens are not expected by `DebertaV2ForTokenClassification.forward`,  you can safely ignore this message.\n",
      "***** Running Evaluation *****\n",
      "  Num examples = 13900\n",
      "  Batch size = 16\n",
      "Saving model checkpoint to ../data/models/microsoft/deberta-v3-small/SpeedOfMagic/ontonotes_english/checkpoint-3746\n",
      "Configuration saved in ../data/models/microsoft/deberta-v3-small/SpeedOfMagic/ontonotes_english/checkpoint-3746/config.json\n",
      "Model weights saved in ../data/models/microsoft/deberta-v3-small/SpeedOfMagic/ontonotes_english/checkpoint-3746/pytorch_model.bin\n",
      "tokenizer config file saved in ../data/models/microsoft/deberta-v3-small/SpeedOfMagic/ontonotes_english/checkpoint-3746/tokenizer_config.json\n",
      "Special tokens file saved in ../data/models/microsoft/deberta-v3-small/SpeedOfMagic/ontonotes_english/checkpoint-3746/special_tokens_map.json\n",
      "Deleting older checkpoint [../data/models/microsoft/deberta-v3-small/SpeedOfMagic/ontonotes_english/checkpoint-37460] due to args.save_total_limit\n",
      "/root/.cache/pypoetry/virtualenvs/sequence-labeling-1mH2o5_I-py3.8/lib/python3.8/site-packages/transformers/models/deberta_v2/modeling_deberta_v2.py:745: UserWarning: To copy construct from a tensor, it is recommended to use sourceTensor.clone().detach() or sourceTensor.clone().detach().requires_grad_(True), rather than torch.tensor(sourceTensor).\n",
      "  attention_scores = torch.bmm(query_layer, key_layer.transpose(-1, -2)) / torch.tensor(\n",
      "/root/.cache/pypoetry/virtualenvs/sequence-labeling-1mH2o5_I-py3.8/lib/python3.8/site-packages/transformers/models/deberta_v2/modeling_deberta_v2.py:829: UserWarning: To copy construct from a tensor, it is recommended to use sourceTensor.clone().detach() or sourceTensor.clone().detach().requires_grad_(True), rather than torch.tensor(sourceTensor).\n",
      "  score += c2p_att / torch.tensor(scale, dtype=c2p_att.dtype)\n",
      "/root/.cache/pypoetry/virtualenvs/sequence-labeling-1mH2o5_I-py3.8/lib/python3.8/site-packages/transformers/models/deberta_v2/modeling_deberta_v2.py:852: UserWarning: To copy construct from a tensor, it is recommended to use sourceTensor.clone().detach() or sourceTensor.clone().detach().requires_grad_(True), rather than torch.tensor(sourceTensor).\n",
      "  score += p2c_att / torch.tensor(scale, dtype=p2c_att.dtype)\n",
      "The following columns in the evaluation set don't have a corresponding argument in `DebertaV2ForTokenClassification.forward` and have been ignored: ner_tags, tokens. If ner_tags, tokens are not expected by `DebertaV2ForTokenClassification.forward`,  you can safely ignore this message.\n",
      "***** Running Evaluation *****\n",
      "  Num examples = 13900\n",
      "  Batch size = 16\n",
      "Saving model checkpoint to ../data/models/microsoft/deberta-v3-small/SpeedOfMagic/ontonotes_english/checkpoint-7492\n",
      "Configuration saved in ../data/models/microsoft/deberta-v3-small/SpeedOfMagic/ontonotes_english/checkpoint-7492/config.json\n",
      "Model weights saved in ../data/models/microsoft/deberta-v3-small/SpeedOfMagic/ontonotes_english/checkpoint-7492/pytorch_model.bin\n",
      "tokenizer config file saved in ../data/models/microsoft/deberta-v3-small/SpeedOfMagic/ontonotes_english/checkpoint-7492/tokenizer_config.json\n",
      "Special tokens file saved in ../data/models/microsoft/deberta-v3-small/SpeedOfMagic/ontonotes_english/checkpoint-7492/special_tokens_map.json\n",
      "Deleting older checkpoint [../data/models/microsoft/deberta-v3-small/SpeedOfMagic/ontonotes_english/checkpoint-41206] due to args.save_total_limit\n",
      "/root/.cache/pypoetry/virtualenvs/sequence-labeling-1mH2o5_I-py3.8/lib/python3.8/site-packages/transformers/models/deberta_v2/modeling_deberta_v2.py:745: UserWarning: To copy construct from a tensor, it is recommended to use sourceTensor.clone().detach() or sourceTensor.clone().detach().requires_grad_(True), rather than torch.tensor(sourceTensor).\n",
      "  attention_scores = torch.bmm(query_layer, key_layer.transpose(-1, -2)) / torch.tensor(\n",
      "/root/.cache/pypoetry/virtualenvs/sequence-labeling-1mH2o5_I-py3.8/lib/python3.8/site-packages/transformers/models/deberta_v2/modeling_deberta_v2.py:829: UserWarning: To copy construct from a tensor, it is recommended to use sourceTensor.clone().detach() or sourceTensor.clone().detach().requires_grad_(True), rather than torch.tensor(sourceTensor).\n",
      "  score += c2p_att / torch.tensor(scale, dtype=c2p_att.dtype)\n",
      "/root/.cache/pypoetry/virtualenvs/sequence-labeling-1mH2o5_I-py3.8/lib/python3.8/site-packages/transformers/models/deberta_v2/modeling_deberta_v2.py:852: UserWarning: To copy construct from a tensor, it is recommended to use sourceTensor.clone().detach() or sourceTensor.clone().detach().requires_grad_(True), rather than torch.tensor(sourceTensor).\n",
      "  score += p2c_att / torch.tensor(scale, dtype=p2c_att.dtype)\n",
      "The following columns in the evaluation set don't have a corresponding argument in `DebertaV2ForTokenClassification.forward` and have been ignored: ner_tags, tokens. If ner_tags, tokens are not expected by `DebertaV2ForTokenClassification.forward`,  you can safely ignore this message.\n",
      "***** Running Evaluation *****\n",
      "  Num examples = 13900\n",
      "  Batch size = 16\n",
      "Saving model checkpoint to ../data/models/microsoft/deberta-v3-small/SpeedOfMagic/ontonotes_english/checkpoint-11238\n",
      "Configuration saved in ../data/models/microsoft/deberta-v3-small/SpeedOfMagic/ontonotes_english/checkpoint-11238/config.json\n",
      "Model weights saved in ../data/models/microsoft/deberta-v3-small/SpeedOfMagic/ontonotes_english/checkpoint-11238/pytorch_model.bin\n",
      "tokenizer config file saved in ../data/models/microsoft/deberta-v3-small/SpeedOfMagic/ontonotes_english/checkpoint-11238/tokenizer_config.json\n",
      "Special tokens file saved in ../data/models/microsoft/deberta-v3-small/SpeedOfMagic/ontonotes_english/checkpoint-11238/special_tokens_map.json\n",
      "Deleting older checkpoint [../data/models/microsoft/deberta-v3-small/SpeedOfMagic/ontonotes_english/checkpoint-44952] due to args.save_total_limit\n",
      "/root/.cache/pypoetry/virtualenvs/sequence-labeling-1mH2o5_I-py3.8/lib/python3.8/site-packages/transformers/models/deberta_v2/modeling_deberta_v2.py:745: UserWarning: To copy construct from a tensor, it is recommended to use sourceTensor.clone().detach() or sourceTensor.clone().detach().requires_grad_(True), rather than torch.tensor(sourceTensor).\n",
      "  attention_scores = torch.bmm(query_layer, key_layer.transpose(-1, -2)) / torch.tensor(\n",
      "/root/.cache/pypoetry/virtualenvs/sequence-labeling-1mH2o5_I-py3.8/lib/python3.8/site-packages/transformers/models/deberta_v2/modeling_deberta_v2.py:829: UserWarning: To copy construct from a tensor, it is recommended to use sourceTensor.clone().detach() or sourceTensor.clone().detach().requires_grad_(True), rather than torch.tensor(sourceTensor).\n",
      "  score += c2p_att / torch.tensor(scale, dtype=c2p_att.dtype)\n",
      "/root/.cache/pypoetry/virtualenvs/sequence-labeling-1mH2o5_I-py3.8/lib/python3.8/site-packages/transformers/models/deberta_v2/modeling_deberta_v2.py:852: UserWarning: To copy construct from a tensor, it is recommended to use sourceTensor.clone().detach() or sourceTensor.clone().detach().requires_grad_(True), rather than torch.tensor(sourceTensor).\n",
      "  score += p2c_att / torch.tensor(scale, dtype=p2c_att.dtype)\n",
      "The following columns in the evaluation set don't have a corresponding argument in `DebertaV2ForTokenClassification.forward` and have been ignored: ner_tags, tokens. If ner_tags, tokens are not expected by `DebertaV2ForTokenClassification.forward`,  you can safely ignore this message.\n",
      "***** Running Evaluation *****\n",
      "  Num examples = 13900\n",
      "  Batch size = 16\n",
      "Saving model checkpoint to ../data/models/microsoft/deberta-v3-small/SpeedOfMagic/ontonotes_english/checkpoint-14984\n",
      "Configuration saved in ../data/models/microsoft/deberta-v3-small/SpeedOfMagic/ontonotes_english/checkpoint-14984/config.json\n",
      "Model weights saved in ../data/models/microsoft/deberta-v3-small/SpeedOfMagic/ontonotes_english/checkpoint-14984/pytorch_model.bin\n",
      "tokenizer config file saved in ../data/models/microsoft/deberta-v3-small/SpeedOfMagic/ontonotes_english/checkpoint-14984/tokenizer_config.json\n",
      "Special tokens file saved in ../data/models/microsoft/deberta-v3-small/SpeedOfMagic/ontonotes_english/checkpoint-14984/special_tokens_map.json\n",
      "Deleting older checkpoint [../data/models/microsoft/deberta-v3-small/SpeedOfMagic/ontonotes_english/checkpoint-3746] due to args.save_total_limit\n",
      "/root/.cache/pypoetry/virtualenvs/sequence-labeling-1mH2o5_I-py3.8/lib/python3.8/site-packages/transformers/models/deberta_v2/modeling_deberta_v2.py:745: UserWarning: To copy construct from a tensor, it is recommended to use sourceTensor.clone().detach() or sourceTensor.clone().detach().requires_grad_(True), rather than torch.tensor(sourceTensor).\n",
      "  attention_scores = torch.bmm(query_layer, key_layer.transpose(-1, -2)) / torch.tensor(\n",
      "/root/.cache/pypoetry/virtualenvs/sequence-labeling-1mH2o5_I-py3.8/lib/python3.8/site-packages/transformers/models/deberta_v2/modeling_deberta_v2.py:829: UserWarning: To copy construct from a tensor, it is recommended to use sourceTensor.clone().detach() or sourceTensor.clone().detach().requires_grad_(True), rather than torch.tensor(sourceTensor).\n",
      "  score += c2p_att / torch.tensor(scale, dtype=c2p_att.dtype)\n",
      "/root/.cache/pypoetry/virtualenvs/sequence-labeling-1mH2o5_I-py3.8/lib/python3.8/site-packages/transformers/models/deberta_v2/modeling_deberta_v2.py:852: UserWarning: To copy construct from a tensor, it is recommended to use sourceTensor.clone().detach() or sourceTensor.clone().detach().requires_grad_(True), rather than torch.tensor(sourceTensor).\n",
      "  score += p2c_att / torch.tensor(scale, dtype=p2c_att.dtype)\n",
      "The following columns in the evaluation set don't have a corresponding argument in `DebertaV2ForTokenClassification.forward` and have been ignored: ner_tags, tokens. If ner_tags, tokens are not expected by `DebertaV2ForTokenClassification.forward`,  you can safely ignore this message.\n",
      "***** Running Evaluation *****\n",
      "  Num examples = 13900\n",
      "  Batch size = 16\n",
      "Saving model checkpoint to ../data/models/microsoft/deberta-v3-small/SpeedOfMagic/ontonotes_english/checkpoint-18730\n",
      "Configuration saved in ../data/models/microsoft/deberta-v3-small/SpeedOfMagic/ontonotes_english/checkpoint-18730/config.json\n",
      "Model weights saved in ../data/models/microsoft/deberta-v3-small/SpeedOfMagic/ontonotes_english/checkpoint-18730/pytorch_model.bin\n",
      "tokenizer config file saved in ../data/models/microsoft/deberta-v3-small/SpeedOfMagic/ontonotes_english/checkpoint-18730/tokenizer_config.json\n",
      "Special tokens file saved in ../data/models/microsoft/deberta-v3-small/SpeedOfMagic/ontonotes_english/checkpoint-18730/special_tokens_map.json\n",
      "Deleting older checkpoint [../data/models/microsoft/deberta-v3-small/SpeedOfMagic/ontonotes_english/checkpoint-7492] due to args.save_total_limit\n",
      "/root/.cache/pypoetry/virtualenvs/sequence-labeling-1mH2o5_I-py3.8/lib/python3.8/site-packages/transformers/models/deberta_v2/modeling_deberta_v2.py:745: UserWarning: To copy construct from a tensor, it is recommended to use sourceTensor.clone().detach() or sourceTensor.clone().detach().requires_grad_(True), rather than torch.tensor(sourceTensor).\n",
      "  attention_scores = torch.bmm(query_layer, key_layer.transpose(-1, -2)) / torch.tensor(\n",
      "/root/.cache/pypoetry/virtualenvs/sequence-labeling-1mH2o5_I-py3.8/lib/python3.8/site-packages/transformers/models/deberta_v2/modeling_deberta_v2.py:829: UserWarning: To copy construct from a tensor, it is recommended to use sourceTensor.clone().detach() or sourceTensor.clone().detach().requires_grad_(True), rather than torch.tensor(sourceTensor).\n",
      "  score += c2p_att / torch.tensor(scale, dtype=c2p_att.dtype)\n",
      "/root/.cache/pypoetry/virtualenvs/sequence-labeling-1mH2o5_I-py3.8/lib/python3.8/site-packages/transformers/models/deberta_v2/modeling_deberta_v2.py:852: UserWarning: To copy construct from a tensor, it is recommended to use sourceTensor.clone().detach() or sourceTensor.clone().detach().requires_grad_(True), rather than torch.tensor(sourceTensor).\n",
      "  score += p2c_att / torch.tensor(scale, dtype=p2c_att.dtype)\n",
      "The following columns in the evaluation set don't have a corresponding argument in `DebertaV2ForTokenClassification.forward` and have been ignored: ner_tags, tokens. If ner_tags, tokens are not expected by `DebertaV2ForTokenClassification.forward`,  you can safely ignore this message.\n",
      "***** Running Evaluation *****\n",
      "  Num examples = 13900\n",
      "  Batch size = 16\n",
      "Saving model checkpoint to ../data/models/microsoft/deberta-v3-small/SpeedOfMagic/ontonotes_english/checkpoint-22476\n",
      "Configuration saved in ../data/models/microsoft/deberta-v3-small/SpeedOfMagic/ontonotes_english/checkpoint-22476/config.json\n",
      "Model weights saved in ../data/models/microsoft/deberta-v3-small/SpeedOfMagic/ontonotes_english/checkpoint-22476/pytorch_model.bin\n",
      "tokenizer config file saved in ../data/models/microsoft/deberta-v3-small/SpeedOfMagic/ontonotes_english/checkpoint-22476/tokenizer_config.json\n",
      "Special tokens file saved in ../data/models/microsoft/deberta-v3-small/SpeedOfMagic/ontonotes_english/checkpoint-22476/special_tokens_map.json\n",
      "Deleting older checkpoint [../data/models/microsoft/deberta-v3-small/SpeedOfMagic/ontonotes_english/checkpoint-11238] due to args.save_total_limit\n",
      "/root/.cache/pypoetry/virtualenvs/sequence-labeling-1mH2o5_I-py3.8/lib/python3.8/site-packages/transformers/models/deberta_v2/modeling_deberta_v2.py:745: UserWarning: To copy construct from a tensor, it is recommended to use sourceTensor.clone().detach() or sourceTensor.clone().detach().requires_grad_(True), rather than torch.tensor(sourceTensor).\n",
      "  attention_scores = torch.bmm(query_layer, key_layer.transpose(-1, -2)) / torch.tensor(\n",
      "/root/.cache/pypoetry/virtualenvs/sequence-labeling-1mH2o5_I-py3.8/lib/python3.8/site-packages/transformers/models/deberta_v2/modeling_deberta_v2.py:829: UserWarning: To copy construct from a tensor, it is recommended to use sourceTensor.clone().detach() or sourceTensor.clone().detach().requires_grad_(True), rather than torch.tensor(sourceTensor).\n",
      "  score += c2p_att / torch.tensor(scale, dtype=c2p_att.dtype)\n",
      "/root/.cache/pypoetry/virtualenvs/sequence-labeling-1mH2o5_I-py3.8/lib/python3.8/site-packages/transformers/models/deberta_v2/modeling_deberta_v2.py:852: UserWarning: To copy construct from a tensor, it is recommended to use sourceTensor.clone().detach() or sourceTensor.clone().detach().requires_grad_(True), rather than torch.tensor(sourceTensor).\n",
      "  score += p2c_att / torch.tensor(scale, dtype=p2c_att.dtype)\n",
      "The following columns in the evaluation set don't have a corresponding argument in `DebertaV2ForTokenClassification.forward` and have been ignored: ner_tags, tokens. If ner_tags, tokens are not expected by `DebertaV2ForTokenClassification.forward`,  you can safely ignore this message.\n",
      "***** Running Evaluation *****\n",
      "  Num examples = 13900\n",
      "  Batch size = 16\n",
      "Saving model checkpoint to ../data/models/microsoft/deberta-v3-small/SpeedOfMagic/ontonotes_english/checkpoint-26222\n",
      "Configuration saved in ../data/models/microsoft/deberta-v3-small/SpeedOfMagic/ontonotes_english/checkpoint-26222/config.json\n",
      "Model weights saved in ../data/models/microsoft/deberta-v3-small/SpeedOfMagic/ontonotes_english/checkpoint-26222/pytorch_model.bin\n",
      "tokenizer config file saved in ../data/models/microsoft/deberta-v3-small/SpeedOfMagic/ontonotes_english/checkpoint-26222/tokenizer_config.json\n",
      "Special tokens file saved in ../data/models/microsoft/deberta-v3-small/SpeedOfMagic/ontonotes_english/checkpoint-26222/special_tokens_map.json\n",
      "Deleting older checkpoint [../data/models/microsoft/deberta-v3-small/SpeedOfMagic/ontonotes_english/checkpoint-14984] due to args.save_total_limit\n",
      "/root/.cache/pypoetry/virtualenvs/sequence-labeling-1mH2o5_I-py3.8/lib/python3.8/site-packages/transformers/models/deberta_v2/modeling_deberta_v2.py:745: UserWarning: To copy construct from a tensor, it is recommended to use sourceTensor.clone().detach() or sourceTensor.clone().detach().requires_grad_(True), rather than torch.tensor(sourceTensor).\n",
      "  attention_scores = torch.bmm(query_layer, key_layer.transpose(-1, -2)) / torch.tensor(\n",
      "/root/.cache/pypoetry/virtualenvs/sequence-labeling-1mH2o5_I-py3.8/lib/python3.8/site-packages/transformers/models/deberta_v2/modeling_deberta_v2.py:829: UserWarning: To copy construct from a tensor, it is recommended to use sourceTensor.clone().detach() or sourceTensor.clone().detach().requires_grad_(True), rather than torch.tensor(sourceTensor).\n",
      "  score += c2p_att / torch.tensor(scale, dtype=c2p_att.dtype)\n",
      "/root/.cache/pypoetry/virtualenvs/sequence-labeling-1mH2o5_I-py3.8/lib/python3.8/site-packages/transformers/models/deberta_v2/modeling_deberta_v2.py:852: UserWarning: To copy construct from a tensor, it is recommended to use sourceTensor.clone().detach() or sourceTensor.clone().detach().requires_grad_(True), rather than torch.tensor(sourceTensor).\n",
      "  score += p2c_att / torch.tensor(scale, dtype=p2c_att.dtype)\n",
      "The following columns in the evaluation set don't have a corresponding argument in `DebertaV2ForTokenClassification.forward` and have been ignored: ner_tags, tokens. If ner_tags, tokens are not expected by `DebertaV2ForTokenClassification.forward`,  you can safely ignore this message.\n",
      "***** Running Evaluation *****\n",
      "  Num examples = 13900\n",
      "  Batch size = 16\n",
      "Saving model checkpoint to ../data/models/microsoft/deberta-v3-small/SpeedOfMagic/ontonotes_english/checkpoint-29968\n",
      "Configuration saved in ../data/models/microsoft/deberta-v3-small/SpeedOfMagic/ontonotes_english/checkpoint-29968/config.json\n",
      "Model weights saved in ../data/models/microsoft/deberta-v3-small/SpeedOfMagic/ontonotes_english/checkpoint-29968/pytorch_model.bin\n",
      "tokenizer config file saved in ../data/models/microsoft/deberta-v3-small/SpeedOfMagic/ontonotes_english/checkpoint-29968/tokenizer_config.json\n",
      "Special tokens file saved in ../data/models/microsoft/deberta-v3-small/SpeedOfMagic/ontonotes_english/checkpoint-29968/special_tokens_map.json\n",
      "Deleting older checkpoint [../data/models/microsoft/deberta-v3-small/SpeedOfMagic/ontonotes_english/checkpoint-22476] due to args.save_total_limit\n",
      "/root/.cache/pypoetry/virtualenvs/sequence-labeling-1mH2o5_I-py3.8/lib/python3.8/site-packages/transformers/models/deberta_v2/modeling_deberta_v2.py:745: UserWarning: To copy construct from a tensor, it is recommended to use sourceTensor.clone().detach() or sourceTensor.clone().detach().requires_grad_(True), rather than torch.tensor(sourceTensor).\n",
      "  attention_scores = torch.bmm(query_layer, key_layer.transpose(-1, -2)) / torch.tensor(\n",
      "/root/.cache/pypoetry/virtualenvs/sequence-labeling-1mH2o5_I-py3.8/lib/python3.8/site-packages/transformers/models/deberta_v2/modeling_deberta_v2.py:829: UserWarning: To copy construct from a tensor, it is recommended to use sourceTensor.clone().detach() or sourceTensor.clone().detach().requires_grad_(True), rather than torch.tensor(sourceTensor).\n",
      "  score += c2p_att / torch.tensor(scale, dtype=c2p_att.dtype)\n",
      "/root/.cache/pypoetry/virtualenvs/sequence-labeling-1mH2o5_I-py3.8/lib/python3.8/site-packages/transformers/models/deberta_v2/modeling_deberta_v2.py:852: UserWarning: To copy construct from a tensor, it is recommended to use sourceTensor.clone().detach() or sourceTensor.clone().detach().requires_grad_(True), rather than torch.tensor(sourceTensor).\n",
      "  score += p2c_att / torch.tensor(scale, dtype=p2c_att.dtype)\n",
      "The following columns in the evaluation set don't have a corresponding argument in `DebertaV2ForTokenClassification.forward` and have been ignored: ner_tags, tokens. If ner_tags, tokens are not expected by `DebertaV2ForTokenClassification.forward`,  you can safely ignore this message.\n",
      "***** Running Evaluation *****\n",
      "  Num examples = 13900\n",
      "  Batch size = 16\n",
      "Saving model checkpoint to ../data/models/microsoft/deberta-v3-small/SpeedOfMagic/ontonotes_english/checkpoint-33714\n",
      "Configuration saved in ../data/models/microsoft/deberta-v3-small/SpeedOfMagic/ontonotes_english/checkpoint-33714/config.json\n",
      "Model weights saved in ../data/models/microsoft/deberta-v3-small/SpeedOfMagic/ontonotes_english/checkpoint-33714/pytorch_model.bin\n",
      "tokenizer config file saved in ../data/models/microsoft/deberta-v3-small/SpeedOfMagic/ontonotes_english/checkpoint-33714/tokenizer_config.json\n",
      "Special tokens file saved in ../data/models/microsoft/deberta-v3-small/SpeedOfMagic/ontonotes_english/checkpoint-33714/special_tokens_map.json\n",
      "Deleting older checkpoint [../data/models/microsoft/deberta-v3-small/SpeedOfMagic/ontonotes_english/checkpoint-26222] due to args.save_total_limit\n",
      "/root/.cache/pypoetry/virtualenvs/sequence-labeling-1mH2o5_I-py3.8/lib/python3.8/site-packages/transformers/models/deberta_v2/modeling_deberta_v2.py:745: UserWarning: To copy construct from a tensor, it is recommended to use sourceTensor.clone().detach() or sourceTensor.clone().detach().requires_grad_(True), rather than torch.tensor(sourceTensor).\n",
      "  attention_scores = torch.bmm(query_layer, key_layer.transpose(-1, -2)) / torch.tensor(\n",
      "/root/.cache/pypoetry/virtualenvs/sequence-labeling-1mH2o5_I-py3.8/lib/python3.8/site-packages/transformers/models/deberta_v2/modeling_deberta_v2.py:829: UserWarning: To copy construct from a tensor, it is recommended to use sourceTensor.clone().detach() or sourceTensor.clone().detach().requires_grad_(True), rather than torch.tensor(sourceTensor).\n",
      "  score += c2p_att / torch.tensor(scale, dtype=c2p_att.dtype)\n",
      "/root/.cache/pypoetry/virtualenvs/sequence-labeling-1mH2o5_I-py3.8/lib/python3.8/site-packages/transformers/models/deberta_v2/modeling_deberta_v2.py:852: UserWarning: To copy construct from a tensor, it is recommended to use sourceTensor.clone().detach() or sourceTensor.clone().detach().requires_grad_(True), rather than torch.tensor(sourceTensor).\n",
      "  score += p2c_att / torch.tensor(scale, dtype=p2c_att.dtype)\n",
      "The following columns in the evaluation set don't have a corresponding argument in `DebertaV2ForTokenClassification.forward` and have been ignored: ner_tags, tokens. If ner_tags, tokens are not expected by `DebertaV2ForTokenClassification.forward`,  you can safely ignore this message.\n",
      "***** Running Evaluation *****\n",
      "  Num examples = 13900\n",
      "  Batch size = 16\n",
      "Saving model checkpoint to ../data/models/microsoft/deberta-v3-small/SpeedOfMagic/ontonotes_english/checkpoint-37460\n",
      "Configuration saved in ../data/models/microsoft/deberta-v3-small/SpeedOfMagic/ontonotes_english/checkpoint-37460/config.json\n",
      "Model weights saved in ../data/models/microsoft/deberta-v3-small/SpeedOfMagic/ontonotes_english/checkpoint-37460/pytorch_model.bin\n",
      "tokenizer config file saved in ../data/models/microsoft/deberta-v3-small/SpeedOfMagic/ontonotes_english/checkpoint-37460/tokenizer_config.json\n",
      "Special tokens file saved in ../data/models/microsoft/deberta-v3-small/SpeedOfMagic/ontonotes_english/checkpoint-37460/special_tokens_map.json\n",
      "Deleting older checkpoint [../data/models/microsoft/deberta-v3-small/SpeedOfMagic/ontonotes_english/checkpoint-29968] due to args.save_total_limit\n",
      "/root/.cache/pypoetry/virtualenvs/sequence-labeling-1mH2o5_I-py3.8/lib/python3.8/site-packages/transformers/models/deberta_v2/modeling_deberta_v2.py:745: UserWarning: To copy construct from a tensor, it is recommended to use sourceTensor.clone().detach() or sourceTensor.clone().detach().requires_grad_(True), rather than torch.tensor(sourceTensor).\n",
      "  attention_scores = torch.bmm(query_layer, key_layer.transpose(-1, -2)) / torch.tensor(\n",
      "/root/.cache/pypoetry/virtualenvs/sequence-labeling-1mH2o5_I-py3.8/lib/python3.8/site-packages/transformers/models/deberta_v2/modeling_deberta_v2.py:829: UserWarning: To copy construct from a tensor, it is recommended to use sourceTensor.clone().detach() or sourceTensor.clone().detach().requires_grad_(True), rather than torch.tensor(sourceTensor).\n",
      "  score += c2p_att / torch.tensor(scale, dtype=c2p_att.dtype)\n",
      "/root/.cache/pypoetry/virtualenvs/sequence-labeling-1mH2o5_I-py3.8/lib/python3.8/site-packages/transformers/models/deberta_v2/modeling_deberta_v2.py:852: UserWarning: To copy construct from a tensor, it is recommended to use sourceTensor.clone().detach() or sourceTensor.clone().detach().requires_grad_(True), rather than torch.tensor(sourceTensor).\n",
      "  score += p2c_att / torch.tensor(scale, dtype=p2c_att.dtype)\n",
      "The following columns in the evaluation set don't have a corresponding argument in `DebertaV2ForTokenClassification.forward` and have been ignored: ner_tags, tokens. If ner_tags, tokens are not expected by `DebertaV2ForTokenClassification.forward`,  you can safely ignore this message.\n",
      "***** Running Evaluation *****\n",
      "  Num examples = 13900\n",
      "  Batch size = 16\n",
      "Saving model checkpoint to ../data/models/microsoft/deberta-v3-small/SpeedOfMagic/ontonotes_english/checkpoint-41206\n",
      "Configuration saved in ../data/models/microsoft/deberta-v3-small/SpeedOfMagic/ontonotes_english/checkpoint-41206/config.json\n",
      "Model weights saved in ../data/models/microsoft/deberta-v3-small/SpeedOfMagic/ontonotes_english/checkpoint-41206/pytorch_model.bin\n",
      "tokenizer config file saved in ../data/models/microsoft/deberta-v3-small/SpeedOfMagic/ontonotes_english/checkpoint-41206/tokenizer_config.json\n",
      "Special tokens file saved in ../data/models/microsoft/deberta-v3-small/SpeedOfMagic/ontonotes_english/checkpoint-41206/special_tokens_map.json\n",
      "Deleting older checkpoint [../data/models/microsoft/deberta-v3-small/SpeedOfMagic/ontonotes_english/checkpoint-33714] due to args.save_total_limit\n",
      "/root/.cache/pypoetry/virtualenvs/sequence-labeling-1mH2o5_I-py3.8/lib/python3.8/site-packages/transformers/models/deberta_v2/modeling_deberta_v2.py:745: UserWarning: To copy construct from a tensor, it is recommended to use sourceTensor.clone().detach() or sourceTensor.clone().detach().requires_grad_(True), rather than torch.tensor(sourceTensor).\n",
      "  attention_scores = torch.bmm(query_layer, key_layer.transpose(-1, -2)) / torch.tensor(\n",
      "/root/.cache/pypoetry/virtualenvs/sequence-labeling-1mH2o5_I-py3.8/lib/python3.8/site-packages/transformers/models/deberta_v2/modeling_deberta_v2.py:829: UserWarning: To copy construct from a tensor, it is recommended to use sourceTensor.clone().detach() or sourceTensor.clone().detach().requires_grad_(True), rather than torch.tensor(sourceTensor).\n",
      "  score += c2p_att / torch.tensor(scale, dtype=c2p_att.dtype)\n",
      "/root/.cache/pypoetry/virtualenvs/sequence-labeling-1mH2o5_I-py3.8/lib/python3.8/site-packages/transformers/models/deberta_v2/modeling_deberta_v2.py:852: UserWarning: To copy construct from a tensor, it is recommended to use sourceTensor.clone().detach() or sourceTensor.clone().detach().requires_grad_(True), rather than torch.tensor(sourceTensor).\n",
      "  score += p2c_att / torch.tensor(scale, dtype=p2c_att.dtype)\n",
      "The following columns in the evaluation set don't have a corresponding argument in `DebertaV2ForTokenClassification.forward` and have been ignored: ner_tags, tokens. If ner_tags, tokens are not expected by `DebertaV2ForTokenClassification.forward`,  you can safely ignore this message.\n",
      "***** Running Evaluation *****\n",
      "  Num examples = 13900\n",
      "  Batch size = 16\n",
      "Saving model checkpoint to ../data/models/microsoft/deberta-v3-small/SpeedOfMagic/ontonotes_english/checkpoint-44952\n",
      "Configuration saved in ../data/models/microsoft/deberta-v3-small/SpeedOfMagic/ontonotes_english/checkpoint-44952/config.json\n",
      "Model weights saved in ../data/models/microsoft/deberta-v3-small/SpeedOfMagic/ontonotes_english/checkpoint-44952/pytorch_model.bin\n",
      "tokenizer config file saved in ../data/models/microsoft/deberta-v3-small/SpeedOfMagic/ontonotes_english/checkpoint-44952/tokenizer_config.json\n",
      "Special tokens file saved in ../data/models/microsoft/deberta-v3-small/SpeedOfMagic/ontonotes_english/checkpoint-44952/special_tokens_map.json\n",
      "Deleting older checkpoint [../data/models/microsoft/deberta-v3-small/SpeedOfMagic/ontonotes_english/checkpoint-37460] due to args.save_total_limit\n",
      "/root/.cache/pypoetry/virtualenvs/sequence-labeling-1mH2o5_I-py3.8/lib/python3.8/site-packages/transformers/models/deberta_v2/modeling_deberta_v2.py:745: UserWarning: To copy construct from a tensor, it is recommended to use sourceTensor.clone().detach() or sourceTensor.clone().detach().requires_grad_(True), rather than torch.tensor(sourceTensor).\n",
      "  attention_scores = torch.bmm(query_layer, key_layer.transpose(-1, -2)) / torch.tensor(\n",
      "/root/.cache/pypoetry/virtualenvs/sequence-labeling-1mH2o5_I-py3.8/lib/python3.8/site-packages/transformers/models/deberta_v2/modeling_deberta_v2.py:829: UserWarning: To copy construct from a tensor, it is recommended to use sourceTensor.clone().detach() or sourceTensor.clone().detach().requires_grad_(True), rather than torch.tensor(sourceTensor).\n",
      "  score += c2p_att / torch.tensor(scale, dtype=c2p_att.dtype)\n",
      "/root/.cache/pypoetry/virtualenvs/sequence-labeling-1mH2o5_I-py3.8/lib/python3.8/site-packages/transformers/models/deberta_v2/modeling_deberta_v2.py:852: UserWarning: To copy construct from a tensor, it is recommended to use sourceTensor.clone().detach() or sourceTensor.clone().detach().requires_grad_(True), rather than torch.tensor(sourceTensor).\n",
      "  score += p2c_att / torch.tensor(scale, dtype=p2c_att.dtype)\n",
      "The following columns in the evaluation set don't have a corresponding argument in `DebertaV2ForTokenClassification.forward` and have been ignored: ner_tags, tokens. If ner_tags, tokens are not expected by `DebertaV2ForTokenClassification.forward`,  you can safely ignore this message.\n",
      "***** Running Evaluation *****\n",
      "  Num examples = 13900\n",
      "  Batch size = 16\n",
      "Saving model checkpoint to ../data/models/microsoft/deberta-v3-small/SpeedOfMagic/ontonotes_english/checkpoint-48698\n",
      "Configuration saved in ../data/models/microsoft/deberta-v3-small/SpeedOfMagic/ontonotes_english/checkpoint-48698/config.json\n",
      "Model weights saved in ../data/models/microsoft/deberta-v3-small/SpeedOfMagic/ontonotes_english/checkpoint-48698/pytorch_model.bin\n",
      "tokenizer config file saved in ../data/models/microsoft/deberta-v3-small/SpeedOfMagic/ontonotes_english/checkpoint-48698/tokenizer_config.json\n",
      "Special tokens file saved in ../data/models/microsoft/deberta-v3-small/SpeedOfMagic/ontonotes_english/checkpoint-48698/special_tokens_map.json\n",
      "Deleting older checkpoint [../data/models/microsoft/deberta-v3-small/SpeedOfMagic/ontonotes_english/checkpoint-41206] due to args.save_total_limit\n",
      "/root/.cache/pypoetry/virtualenvs/sequence-labeling-1mH2o5_I-py3.8/lib/python3.8/site-packages/transformers/models/deberta_v2/modeling_deberta_v2.py:745: UserWarning: To copy construct from a tensor, it is recommended to use sourceTensor.clone().detach() or sourceTensor.clone().detach().requires_grad_(True), rather than torch.tensor(sourceTensor).\n",
      "  attention_scores = torch.bmm(query_layer, key_layer.transpose(-1, -2)) / torch.tensor(\n",
      "/root/.cache/pypoetry/virtualenvs/sequence-labeling-1mH2o5_I-py3.8/lib/python3.8/site-packages/transformers/models/deberta_v2/modeling_deberta_v2.py:829: UserWarning: To copy construct from a tensor, it is recommended to use sourceTensor.clone().detach() or sourceTensor.clone().detach().requires_grad_(True), rather than torch.tensor(sourceTensor).\n",
      "  score += c2p_att / torch.tensor(scale, dtype=c2p_att.dtype)\n",
      "/root/.cache/pypoetry/virtualenvs/sequence-labeling-1mH2o5_I-py3.8/lib/python3.8/site-packages/transformers/models/deberta_v2/modeling_deberta_v2.py:852: UserWarning: To copy construct from a tensor, it is recommended to use sourceTensor.clone().detach() or sourceTensor.clone().detach().requires_grad_(True), rather than torch.tensor(sourceTensor).\n",
      "  score += p2c_att / torch.tensor(scale, dtype=p2c_att.dtype)\n",
      "The following columns in the evaluation set don't have a corresponding argument in `DebertaV2ForTokenClassification.forward` and have been ignored: ner_tags, tokens. If ner_tags, tokens are not expected by `DebertaV2ForTokenClassification.forward`,  you can safely ignore this message.\n",
      "***** Running Evaluation *****\n",
      "  Num examples = 13900\n",
      "  Batch size = 16\n",
      "Saving model checkpoint to ../data/models/microsoft/deberta-v3-small/SpeedOfMagic/ontonotes_english/checkpoint-52444\n",
      "Configuration saved in ../data/models/microsoft/deberta-v3-small/SpeedOfMagic/ontonotes_english/checkpoint-52444/config.json\n",
      "Model weights saved in ../data/models/microsoft/deberta-v3-small/SpeedOfMagic/ontonotes_english/checkpoint-52444/pytorch_model.bin\n",
      "tokenizer config file saved in ../data/models/microsoft/deberta-v3-small/SpeedOfMagic/ontonotes_english/checkpoint-52444/tokenizer_config.json\n",
      "Special tokens file saved in ../data/models/microsoft/deberta-v3-small/SpeedOfMagic/ontonotes_english/checkpoint-52444/special_tokens_map.json\n",
      "Deleting older checkpoint [../data/models/microsoft/deberta-v3-small/SpeedOfMagic/ontonotes_english/checkpoint-18730] due to args.save_total_limit\n",
      "/root/.cache/pypoetry/virtualenvs/sequence-labeling-1mH2o5_I-py3.8/lib/python3.8/site-packages/transformers/models/deberta_v2/modeling_deberta_v2.py:745: UserWarning: To copy construct from a tensor, it is recommended to use sourceTensor.clone().detach() or sourceTensor.clone().detach().requires_grad_(True), rather than torch.tensor(sourceTensor).\n",
      "  attention_scores = torch.bmm(query_layer, key_layer.transpose(-1, -2)) / torch.tensor(\n",
      "/root/.cache/pypoetry/virtualenvs/sequence-labeling-1mH2o5_I-py3.8/lib/python3.8/site-packages/transformers/models/deberta_v2/modeling_deberta_v2.py:829: UserWarning: To copy construct from a tensor, it is recommended to use sourceTensor.clone().detach() or sourceTensor.clone().detach().requires_grad_(True), rather than torch.tensor(sourceTensor).\n",
      "  score += c2p_att / torch.tensor(scale, dtype=c2p_att.dtype)\n",
      "/root/.cache/pypoetry/virtualenvs/sequence-labeling-1mH2o5_I-py3.8/lib/python3.8/site-packages/transformers/models/deberta_v2/modeling_deberta_v2.py:852: UserWarning: To copy construct from a tensor, it is recommended to use sourceTensor.clone().detach() or sourceTensor.clone().detach().requires_grad_(True), rather than torch.tensor(sourceTensor).\n",
      "  score += p2c_att / torch.tensor(scale, dtype=p2c_att.dtype)\n",
      "The following columns in the evaluation set don't have a corresponding argument in `DebertaV2ForTokenClassification.forward` and have been ignored: ner_tags, tokens. If ner_tags, tokens are not expected by `DebertaV2ForTokenClassification.forward`,  you can safely ignore this message.\n",
      "***** Running Evaluation *****\n",
      "  Num examples = 13900\n",
      "  Batch size = 16\n",
      "Saving model checkpoint to ../data/models/microsoft/deberta-v3-small/SpeedOfMagic/ontonotes_english/checkpoint-56190\n",
      "Configuration saved in ../data/models/microsoft/deberta-v3-small/SpeedOfMagic/ontonotes_english/checkpoint-56190/config.json\n",
      "Model weights saved in ../data/models/microsoft/deberta-v3-small/SpeedOfMagic/ontonotes_english/checkpoint-56190/pytorch_model.bin\n",
      "tokenizer config file saved in ../data/models/microsoft/deberta-v3-small/SpeedOfMagic/ontonotes_english/checkpoint-56190/tokenizer_config.json\n",
      "Special tokens file saved in ../data/models/microsoft/deberta-v3-small/SpeedOfMagic/ontonotes_english/checkpoint-56190/special_tokens_map.json\n",
      "Deleting older checkpoint [../data/models/microsoft/deberta-v3-small/SpeedOfMagic/ontonotes_english/checkpoint-44952] due to args.save_total_limit\n",
      "/root/.cache/pypoetry/virtualenvs/sequence-labeling-1mH2o5_I-py3.8/lib/python3.8/site-packages/transformers/models/deberta_v2/modeling_deberta_v2.py:745: UserWarning: To copy construct from a tensor, it is recommended to use sourceTensor.clone().detach() or sourceTensor.clone().detach().requires_grad_(True), rather than torch.tensor(sourceTensor).\n",
      "  attention_scores = torch.bmm(query_layer, key_layer.transpose(-1, -2)) / torch.tensor(\n",
      "/root/.cache/pypoetry/virtualenvs/sequence-labeling-1mH2o5_I-py3.8/lib/python3.8/site-packages/transformers/models/deberta_v2/modeling_deberta_v2.py:829: UserWarning: To copy construct from a tensor, it is recommended to use sourceTensor.clone().detach() or sourceTensor.clone().detach().requires_grad_(True), rather than torch.tensor(sourceTensor).\n",
      "  score += c2p_att / torch.tensor(scale, dtype=c2p_att.dtype)\n",
      "/root/.cache/pypoetry/virtualenvs/sequence-labeling-1mH2o5_I-py3.8/lib/python3.8/site-packages/transformers/models/deberta_v2/modeling_deberta_v2.py:852: UserWarning: To copy construct from a tensor, it is recommended to use sourceTensor.clone().detach() or sourceTensor.clone().detach().requires_grad_(True), rather than torch.tensor(sourceTensor).\n",
      "  score += p2c_att / torch.tensor(scale, dtype=p2c_att.dtype)\n",
      "The following columns in the evaluation set don't have a corresponding argument in `DebertaV2ForTokenClassification.forward` and have been ignored: ner_tags, tokens. If ner_tags, tokens are not expected by `DebertaV2ForTokenClassification.forward`,  you can safely ignore this message.\n",
      "***** Running Evaluation *****\n",
      "  Num examples = 13900\n",
      "  Batch size = 16\n",
      "Saving model checkpoint to ../data/models/microsoft/deberta-v3-small/SpeedOfMagic/ontonotes_english/checkpoint-59936\n",
      "Configuration saved in ../data/models/microsoft/deberta-v3-small/SpeedOfMagic/ontonotes_english/checkpoint-59936/config.json\n",
      "Model weights saved in ../data/models/microsoft/deberta-v3-small/SpeedOfMagic/ontonotes_english/checkpoint-59936/pytorch_model.bin\n",
      "tokenizer config file saved in ../data/models/microsoft/deberta-v3-small/SpeedOfMagic/ontonotes_english/checkpoint-59936/tokenizer_config.json\n",
      "Special tokens file saved in ../data/models/microsoft/deberta-v3-small/SpeedOfMagic/ontonotes_english/checkpoint-59936/special_tokens_map.json\n",
      "Deleting older checkpoint [../data/models/microsoft/deberta-v3-small/SpeedOfMagic/ontonotes_english/checkpoint-48698] due to args.save_total_limit\n",
      "/root/.cache/pypoetry/virtualenvs/sequence-labeling-1mH2o5_I-py3.8/lib/python3.8/site-packages/transformers/models/deberta_v2/modeling_deberta_v2.py:745: UserWarning: To copy construct from a tensor, it is recommended to use sourceTensor.clone().detach() or sourceTensor.clone().detach().requires_grad_(True), rather than torch.tensor(sourceTensor).\n",
      "  attention_scores = torch.bmm(query_layer, key_layer.transpose(-1, -2)) / torch.tensor(\n",
      "/root/.cache/pypoetry/virtualenvs/sequence-labeling-1mH2o5_I-py3.8/lib/python3.8/site-packages/transformers/models/deberta_v2/modeling_deberta_v2.py:829: UserWarning: To copy construct from a tensor, it is recommended to use sourceTensor.clone().detach() or sourceTensor.clone().detach().requires_grad_(True), rather than torch.tensor(sourceTensor).\n",
      "  score += c2p_att / torch.tensor(scale, dtype=c2p_att.dtype)\n",
      "/root/.cache/pypoetry/virtualenvs/sequence-labeling-1mH2o5_I-py3.8/lib/python3.8/site-packages/transformers/models/deberta_v2/modeling_deberta_v2.py:852: UserWarning: To copy construct from a tensor, it is recommended to use sourceTensor.clone().detach() or sourceTensor.clone().detach().requires_grad_(True), rather than torch.tensor(sourceTensor).\n",
      "  score += p2c_att / torch.tensor(scale, dtype=p2c_att.dtype)\n",
      "The following columns in the evaluation set don't have a corresponding argument in `DebertaV2ForTokenClassification.forward` and have been ignored: ner_tags, tokens. If ner_tags, tokens are not expected by `DebertaV2ForTokenClassification.forward`,  you can safely ignore this message.\n",
      "***** Running Evaluation *****\n",
      "  Num examples = 13900\n",
      "  Batch size = 16\n",
      "Saving model checkpoint to ../data/models/microsoft/deberta-v3-small/SpeedOfMagic/ontonotes_english/checkpoint-63682\n",
      "Configuration saved in ../data/models/microsoft/deberta-v3-small/SpeedOfMagic/ontonotes_english/checkpoint-63682/config.json\n",
      "Model weights saved in ../data/models/microsoft/deberta-v3-small/SpeedOfMagic/ontonotes_english/checkpoint-63682/pytorch_model.bin\n",
      "tokenizer config file saved in ../data/models/microsoft/deberta-v3-small/SpeedOfMagic/ontonotes_english/checkpoint-63682/tokenizer_config.json\n",
      "Special tokens file saved in ../data/models/microsoft/deberta-v3-small/SpeedOfMagic/ontonotes_english/checkpoint-63682/special_tokens_map.json\n",
      "Deleting older checkpoint [../data/models/microsoft/deberta-v3-small/SpeedOfMagic/ontonotes_english/checkpoint-52444] due to args.save_total_limit\n",
      "/root/.cache/pypoetry/virtualenvs/sequence-labeling-1mH2o5_I-py3.8/lib/python3.8/site-packages/transformers/models/deberta_v2/modeling_deberta_v2.py:745: UserWarning: To copy construct from a tensor, it is recommended to use sourceTensor.clone().detach() or sourceTensor.clone().detach().requires_grad_(True), rather than torch.tensor(sourceTensor).\n",
      "  attention_scores = torch.bmm(query_layer, key_layer.transpose(-1, -2)) / torch.tensor(\n",
      "/root/.cache/pypoetry/virtualenvs/sequence-labeling-1mH2o5_I-py3.8/lib/python3.8/site-packages/transformers/models/deberta_v2/modeling_deberta_v2.py:829: UserWarning: To copy construct from a tensor, it is recommended to use sourceTensor.clone().detach() or sourceTensor.clone().detach().requires_grad_(True), rather than torch.tensor(sourceTensor).\n",
      "  score += c2p_att / torch.tensor(scale, dtype=c2p_att.dtype)\n",
      "/root/.cache/pypoetry/virtualenvs/sequence-labeling-1mH2o5_I-py3.8/lib/python3.8/site-packages/transformers/models/deberta_v2/modeling_deberta_v2.py:852: UserWarning: To copy construct from a tensor, it is recommended to use sourceTensor.clone().detach() or sourceTensor.clone().detach().requires_grad_(True), rather than torch.tensor(sourceTensor).\n",
      "  score += p2c_att / torch.tensor(scale, dtype=p2c_att.dtype)\n",
      "The following columns in the evaluation set don't have a corresponding argument in `DebertaV2ForTokenClassification.forward` and have been ignored: ner_tags, tokens. If ner_tags, tokens are not expected by `DebertaV2ForTokenClassification.forward`,  you can safely ignore this message.\n",
      "***** Running Evaluation *****\n",
      "  Num examples = 13900\n",
      "  Batch size = 16\n",
      "Saving model checkpoint to ../data/models/microsoft/deberta-v3-small/SpeedOfMagic/ontonotes_english/checkpoint-67428\n",
      "Configuration saved in ../data/models/microsoft/deberta-v3-small/SpeedOfMagic/ontonotes_english/checkpoint-67428/config.json\n",
      "Model weights saved in ../data/models/microsoft/deberta-v3-small/SpeedOfMagic/ontonotes_english/checkpoint-67428/pytorch_model.bin\n",
      "tokenizer config file saved in ../data/models/microsoft/deberta-v3-small/SpeedOfMagic/ontonotes_english/checkpoint-67428/tokenizer_config.json\n",
      "Special tokens file saved in ../data/models/microsoft/deberta-v3-small/SpeedOfMagic/ontonotes_english/checkpoint-67428/special_tokens_map.json\n",
      "Deleting older checkpoint [../data/models/microsoft/deberta-v3-small/SpeedOfMagic/ontonotes_english/checkpoint-56190] due to args.save_total_limit\n",
      "/root/.cache/pypoetry/virtualenvs/sequence-labeling-1mH2o5_I-py3.8/lib/python3.8/site-packages/transformers/models/deberta_v2/modeling_deberta_v2.py:745: UserWarning: To copy construct from a tensor, it is recommended to use sourceTensor.clone().detach() or sourceTensor.clone().detach().requires_grad_(True), rather than torch.tensor(sourceTensor).\n",
      "  attention_scores = torch.bmm(query_layer, key_layer.transpose(-1, -2)) / torch.tensor(\n",
      "/root/.cache/pypoetry/virtualenvs/sequence-labeling-1mH2o5_I-py3.8/lib/python3.8/site-packages/transformers/models/deberta_v2/modeling_deberta_v2.py:829: UserWarning: To copy construct from a tensor, it is recommended to use sourceTensor.clone().detach() or sourceTensor.clone().detach().requires_grad_(True), rather than torch.tensor(sourceTensor).\n",
      "  score += c2p_att / torch.tensor(scale, dtype=c2p_att.dtype)\n",
      "/root/.cache/pypoetry/virtualenvs/sequence-labeling-1mH2o5_I-py3.8/lib/python3.8/site-packages/transformers/models/deberta_v2/modeling_deberta_v2.py:852: UserWarning: To copy construct from a tensor, it is recommended to use sourceTensor.clone().detach() or sourceTensor.clone().detach().requires_grad_(True), rather than torch.tensor(sourceTensor).\n",
      "  score += p2c_att / torch.tensor(scale, dtype=p2c_att.dtype)\n",
      "The following columns in the evaluation set don't have a corresponding argument in `DebertaV2ForTokenClassification.forward` and have been ignored: ner_tags, tokens. If ner_tags, tokens are not expected by `DebertaV2ForTokenClassification.forward`,  you can safely ignore this message.\n",
      "***** Running Evaluation *****\n",
      "  Num examples = 13900\n",
      "  Batch size = 16\n",
      "Saving model checkpoint to ../data/models/microsoft/deberta-v3-small/SpeedOfMagic/ontonotes_english/checkpoint-71174\n",
      "Configuration saved in ../data/models/microsoft/deberta-v3-small/SpeedOfMagic/ontonotes_english/checkpoint-71174/config.json\n",
      "Model weights saved in ../data/models/microsoft/deberta-v3-small/SpeedOfMagic/ontonotes_english/checkpoint-71174/pytorch_model.bin\n",
      "tokenizer config file saved in ../data/models/microsoft/deberta-v3-small/SpeedOfMagic/ontonotes_english/checkpoint-71174/tokenizer_config.json\n",
      "Special tokens file saved in ../data/models/microsoft/deberta-v3-small/SpeedOfMagic/ontonotes_english/checkpoint-71174/special_tokens_map.json\n",
      "Deleting older checkpoint [../data/models/microsoft/deberta-v3-small/SpeedOfMagic/ontonotes_english/checkpoint-59936] due to args.save_total_limit\n",
      "/root/.cache/pypoetry/virtualenvs/sequence-labeling-1mH2o5_I-py3.8/lib/python3.8/site-packages/transformers/models/deberta_v2/modeling_deberta_v2.py:745: UserWarning: To copy construct from a tensor, it is recommended to use sourceTensor.clone().detach() or sourceTensor.clone().detach().requires_grad_(True), rather than torch.tensor(sourceTensor).\n",
      "  attention_scores = torch.bmm(query_layer, key_layer.transpose(-1, -2)) / torch.tensor(\n",
      "/root/.cache/pypoetry/virtualenvs/sequence-labeling-1mH2o5_I-py3.8/lib/python3.8/site-packages/transformers/models/deberta_v2/modeling_deberta_v2.py:829: UserWarning: To copy construct from a tensor, it is recommended to use sourceTensor.clone().detach() or sourceTensor.clone().detach().requires_grad_(True), rather than torch.tensor(sourceTensor).\n",
      "  score += c2p_att / torch.tensor(scale, dtype=c2p_att.dtype)\n",
      "/root/.cache/pypoetry/virtualenvs/sequence-labeling-1mH2o5_I-py3.8/lib/python3.8/site-packages/transformers/models/deberta_v2/modeling_deberta_v2.py:852: UserWarning: To copy construct from a tensor, it is recommended to use sourceTensor.clone().detach() or sourceTensor.clone().detach().requires_grad_(True), rather than torch.tensor(sourceTensor).\n",
      "  score += p2c_att / torch.tensor(scale, dtype=p2c_att.dtype)\n",
      "The following columns in the evaluation set don't have a corresponding argument in `DebertaV2ForTokenClassification.forward` and have been ignored: ner_tags, tokens. If ner_tags, tokens are not expected by `DebertaV2ForTokenClassification.forward`,  you can safely ignore this message.\n",
      "***** Running Evaluation *****\n",
      "  Num examples = 13900\n",
      "  Batch size = 16\n",
      "Saving model checkpoint to ../data/models/microsoft/deberta-v3-small/SpeedOfMagic/ontonotes_english/checkpoint-74920\n",
      "Configuration saved in ../data/models/microsoft/deberta-v3-small/SpeedOfMagic/ontonotes_english/checkpoint-74920/config.json\n",
      "Model weights saved in ../data/models/microsoft/deberta-v3-small/SpeedOfMagic/ontonotes_english/checkpoint-74920/pytorch_model.bin\n",
      "tokenizer config file saved in ../data/models/microsoft/deberta-v3-small/SpeedOfMagic/ontonotes_english/checkpoint-74920/tokenizer_config.json\n",
      "Special tokens file saved in ../data/models/microsoft/deberta-v3-small/SpeedOfMagic/ontonotes_english/checkpoint-74920/special_tokens_map.json\n",
      "Deleting older checkpoint [../data/models/microsoft/deberta-v3-small/SpeedOfMagic/ontonotes_english/checkpoint-63682] due to args.save_total_limit\n",
      "/root/.cache/pypoetry/virtualenvs/sequence-labeling-1mH2o5_I-py3.8/lib/python3.8/site-packages/transformers/models/deberta_v2/modeling_deberta_v2.py:745: UserWarning: To copy construct from a tensor, it is recommended to use sourceTensor.clone().detach() or sourceTensor.clone().detach().requires_grad_(True), rather than torch.tensor(sourceTensor).\n",
      "  attention_scores = torch.bmm(query_layer, key_layer.transpose(-1, -2)) / torch.tensor(\n",
      "/root/.cache/pypoetry/virtualenvs/sequence-labeling-1mH2o5_I-py3.8/lib/python3.8/site-packages/transformers/models/deberta_v2/modeling_deberta_v2.py:829: UserWarning: To copy construct from a tensor, it is recommended to use sourceTensor.clone().detach() or sourceTensor.clone().detach().requires_grad_(True), rather than torch.tensor(sourceTensor).\n",
      "  score += c2p_att / torch.tensor(scale, dtype=c2p_att.dtype)\n",
      "/root/.cache/pypoetry/virtualenvs/sequence-labeling-1mH2o5_I-py3.8/lib/python3.8/site-packages/transformers/models/deberta_v2/modeling_deberta_v2.py:852: UserWarning: To copy construct from a tensor, it is recommended to use sourceTensor.clone().detach() or sourceTensor.clone().detach().requires_grad_(True), rather than torch.tensor(sourceTensor).\n",
      "  score += p2c_att / torch.tensor(scale, dtype=p2c_att.dtype)\n",
      "The following columns in the evaluation set don't have a corresponding argument in `DebertaV2ForTokenClassification.forward` and have been ignored: ner_tags, tokens. If ner_tags, tokens are not expected by `DebertaV2ForTokenClassification.forward`,  you can safely ignore this message.\n",
      "***** Running Evaluation *****\n",
      "  Num examples = 13900\n",
      "  Batch size = 16\n",
      "Saving model checkpoint to ../data/models/microsoft/deberta-v3-small/SpeedOfMagic/ontonotes_english/checkpoint-78666\n",
      "Configuration saved in ../data/models/microsoft/deberta-v3-small/SpeedOfMagic/ontonotes_english/checkpoint-78666/config.json\n",
      "Model weights saved in ../data/models/microsoft/deberta-v3-small/SpeedOfMagic/ontonotes_english/checkpoint-78666/pytorch_model.bin\n",
      "tokenizer config file saved in ../data/models/microsoft/deberta-v3-small/SpeedOfMagic/ontonotes_english/checkpoint-78666/tokenizer_config.json\n",
      "Special tokens file saved in ../data/models/microsoft/deberta-v3-small/SpeedOfMagic/ontonotes_english/checkpoint-78666/special_tokens_map.json\n",
      "Deleting older checkpoint [../data/models/microsoft/deberta-v3-small/SpeedOfMagic/ontonotes_english/checkpoint-67428] due to args.save_total_limit\n",
      "/root/.cache/pypoetry/virtualenvs/sequence-labeling-1mH2o5_I-py3.8/lib/python3.8/site-packages/transformers/models/deberta_v2/modeling_deberta_v2.py:745: UserWarning: To copy construct from a tensor, it is recommended to use sourceTensor.clone().detach() or sourceTensor.clone().detach().requires_grad_(True), rather than torch.tensor(sourceTensor).\n",
      "  attention_scores = torch.bmm(query_layer, key_layer.transpose(-1, -2)) / torch.tensor(\n",
      "/root/.cache/pypoetry/virtualenvs/sequence-labeling-1mH2o5_I-py3.8/lib/python3.8/site-packages/transformers/models/deberta_v2/modeling_deberta_v2.py:829: UserWarning: To copy construct from a tensor, it is recommended to use sourceTensor.clone().detach() or sourceTensor.clone().detach().requires_grad_(True), rather than torch.tensor(sourceTensor).\n",
      "  score += c2p_att / torch.tensor(scale, dtype=c2p_att.dtype)\n",
      "/root/.cache/pypoetry/virtualenvs/sequence-labeling-1mH2o5_I-py3.8/lib/python3.8/site-packages/transformers/models/deberta_v2/modeling_deberta_v2.py:852: UserWarning: To copy construct from a tensor, it is recommended to use sourceTensor.clone().detach() or sourceTensor.clone().detach().requires_grad_(True), rather than torch.tensor(sourceTensor).\n",
      "  score += p2c_att / torch.tensor(scale, dtype=p2c_att.dtype)\n",
      "The following columns in the evaluation set don't have a corresponding argument in `DebertaV2ForTokenClassification.forward` and have been ignored: ner_tags, tokens. If ner_tags, tokens are not expected by `DebertaV2ForTokenClassification.forward`,  you can safely ignore this message.\n",
      "***** Running Evaluation *****\n",
      "  Num examples = 13900\n",
      "  Batch size = 16\n",
      "Saving model checkpoint to ../data/models/microsoft/deberta-v3-small/SpeedOfMagic/ontonotes_english/checkpoint-82412\n",
      "Configuration saved in ../data/models/microsoft/deberta-v3-small/SpeedOfMagic/ontonotes_english/checkpoint-82412/config.json\n",
      "Model weights saved in ../data/models/microsoft/deberta-v3-small/SpeedOfMagic/ontonotes_english/checkpoint-82412/pytorch_model.bin\n",
      "tokenizer config file saved in ../data/models/microsoft/deberta-v3-small/SpeedOfMagic/ontonotes_english/checkpoint-82412/tokenizer_config.json\n",
      "Special tokens file saved in ../data/models/microsoft/deberta-v3-small/SpeedOfMagic/ontonotes_english/checkpoint-82412/special_tokens_map.json\n",
      "Deleting older checkpoint [../data/models/microsoft/deberta-v3-small/SpeedOfMagic/ontonotes_english/checkpoint-74920] due to args.save_total_limit\n",
      "/root/.cache/pypoetry/virtualenvs/sequence-labeling-1mH2o5_I-py3.8/lib/python3.8/site-packages/transformers/models/deberta_v2/modeling_deberta_v2.py:745: UserWarning: To copy construct from a tensor, it is recommended to use sourceTensor.clone().detach() or sourceTensor.clone().detach().requires_grad_(True), rather than torch.tensor(sourceTensor).\n",
      "  attention_scores = torch.bmm(query_layer, key_layer.transpose(-1, -2)) / torch.tensor(\n",
      "/root/.cache/pypoetry/virtualenvs/sequence-labeling-1mH2o5_I-py3.8/lib/python3.8/site-packages/transformers/models/deberta_v2/modeling_deberta_v2.py:829: UserWarning: To copy construct from a tensor, it is recommended to use sourceTensor.clone().detach() or sourceTensor.clone().detach().requires_grad_(True), rather than torch.tensor(sourceTensor).\n",
      "  score += c2p_att / torch.tensor(scale, dtype=c2p_att.dtype)\n",
      "/root/.cache/pypoetry/virtualenvs/sequence-labeling-1mH2o5_I-py3.8/lib/python3.8/site-packages/transformers/models/deberta_v2/modeling_deberta_v2.py:852: UserWarning: To copy construct from a tensor, it is recommended to use sourceTensor.clone().detach() or sourceTensor.clone().detach().requires_grad_(True), rather than torch.tensor(sourceTensor).\n",
      "  score += p2c_att / torch.tensor(scale, dtype=p2c_att.dtype)\n",
      "The following columns in the evaluation set don't have a corresponding argument in `DebertaV2ForTokenClassification.forward` and have been ignored: ner_tags, tokens. If ner_tags, tokens are not expected by `DebertaV2ForTokenClassification.forward`,  you can safely ignore this message.\n",
      "***** Running Evaluation *****\n",
      "  Num examples = 13900\n",
      "  Batch size = 16\n",
      "Saving model checkpoint to ../data/models/microsoft/deberta-v3-small/SpeedOfMagic/ontonotes_english/checkpoint-86158\n",
      "Configuration saved in ../data/models/microsoft/deberta-v3-small/SpeedOfMagic/ontonotes_english/checkpoint-86158/config.json\n",
      "Model weights saved in ../data/models/microsoft/deberta-v3-small/SpeedOfMagic/ontonotes_english/checkpoint-86158/pytorch_model.bin\n",
      "tokenizer config file saved in ../data/models/microsoft/deberta-v3-small/SpeedOfMagic/ontonotes_english/checkpoint-86158/tokenizer_config.json\n",
      "Special tokens file saved in ../data/models/microsoft/deberta-v3-small/SpeedOfMagic/ontonotes_english/checkpoint-86158/special_tokens_map.json\n",
      "Deleting older checkpoint [../data/models/microsoft/deberta-v3-small/SpeedOfMagic/ontonotes_english/checkpoint-78666] due to args.save_total_limit\n",
      "/root/.cache/pypoetry/virtualenvs/sequence-labeling-1mH2o5_I-py3.8/lib/python3.8/site-packages/transformers/models/deberta_v2/modeling_deberta_v2.py:745: UserWarning: To copy construct from a tensor, it is recommended to use sourceTensor.clone().detach() or sourceTensor.clone().detach().requires_grad_(True), rather than torch.tensor(sourceTensor).\n",
      "  attention_scores = torch.bmm(query_layer, key_layer.transpose(-1, -2)) / torch.tensor(\n",
      "/root/.cache/pypoetry/virtualenvs/sequence-labeling-1mH2o5_I-py3.8/lib/python3.8/site-packages/transformers/models/deberta_v2/modeling_deberta_v2.py:829: UserWarning: To copy construct from a tensor, it is recommended to use sourceTensor.clone().detach() or sourceTensor.clone().detach().requires_grad_(True), rather than torch.tensor(sourceTensor).\n",
      "  score += c2p_att / torch.tensor(scale, dtype=c2p_att.dtype)\n",
      "/root/.cache/pypoetry/virtualenvs/sequence-labeling-1mH2o5_I-py3.8/lib/python3.8/site-packages/transformers/models/deberta_v2/modeling_deberta_v2.py:852: UserWarning: To copy construct from a tensor, it is recommended to use sourceTensor.clone().detach() or sourceTensor.clone().detach().requires_grad_(True), rather than torch.tensor(sourceTensor).\n",
      "  score += p2c_att / torch.tensor(scale, dtype=p2c_att.dtype)\n",
      "The following columns in the evaluation set don't have a corresponding argument in `DebertaV2ForTokenClassification.forward` and have been ignored: ner_tags, tokens. If ner_tags, tokens are not expected by `DebertaV2ForTokenClassification.forward`,  you can safely ignore this message.\n",
      "***** Running Evaluation *****\n",
      "  Num examples = 13900\n",
      "  Batch size = 16\n",
      "Saving model checkpoint to ../data/models/microsoft/deberta-v3-small/SpeedOfMagic/ontonotes_english/checkpoint-89904\n",
      "Configuration saved in ../data/models/microsoft/deberta-v3-small/SpeedOfMagic/ontonotes_english/checkpoint-89904/config.json\n",
      "Model weights saved in ../data/models/microsoft/deberta-v3-small/SpeedOfMagic/ontonotes_english/checkpoint-89904/pytorch_model.bin\n",
      "tokenizer config file saved in ../data/models/microsoft/deberta-v3-small/SpeedOfMagic/ontonotes_english/checkpoint-89904/tokenizer_config.json\n",
      "Special tokens file saved in ../data/models/microsoft/deberta-v3-small/SpeedOfMagic/ontonotes_english/checkpoint-89904/special_tokens_map.json\n",
      "Deleting older checkpoint [../data/models/microsoft/deberta-v3-small/SpeedOfMagic/ontonotes_english/checkpoint-82412] due to args.save_total_limit\n",
      "\n",
      "\n",
      "Training completed. Do not forget to share your model on huggingface.co/models =)\n",
      "\n",
      "\n",
      "Loading best model from ../data/models/microsoft/deberta-v3-small/SpeedOfMagic/ontonotes_english/checkpoint-71174 (score: 0.8657995806816706).\n"
     ]
    },
    {
     "data": {
      "text/plain": [
       "TrainOutput(global_step=89904, training_loss=0.015481788217378301, metrics={'train_runtime': 4478.6067, 'train_samples_per_second': 321.121, 'train_steps_per_second': 20.074, 'total_flos': 1.997131024929091e+16, 'train_loss': 0.015481788217378301, 'epoch': 24.0})"
      ]
     },
     "execution_count": 30,
     "metadata": {},
     "output_type": "execute_result"
    }
   ],
   "source": [
    "trainer.train()"
   ]
  },
  {
   "cell_type": "code",
   "execution_count": 31,
   "id": "d748b57f-7294-43d7-bac1-7abb7a5dcaf8",
   "metadata": {
    "execution": {
     "iopub.execute_input": "2022-10-07T18:27:35.712186Z",
     "iopub.status.busy": "2022-10-07T18:27:35.712045Z",
     "iopub.status.idle": "2022-10-07T18:27:49.859095Z",
     "shell.execute_reply": "2022-10-07T18:27:49.858571Z"
    },
    "papermill": {
     "duration": 14.158698,
     "end_time": "2022-10-07T18:27:49.860118",
     "exception": false,
     "start_time": "2022-10-07T18:27:35.701420",
     "status": "completed"
    },
    "tags": []
   },
   "outputs": [
    {
     "name": "stderr",
     "output_type": "stream",
     "text": [
      "The following columns in the evaluation set don't have a corresponding argument in `DebertaV2ForTokenClassification.forward` and have been ignored: ner_tags, tokens. If ner_tags, tokens are not expected by `DebertaV2ForTokenClassification.forward`,  you can safely ignore this message.\n",
      "***** Running Evaluation *****\n",
      "  Num examples = 13900\n",
      "  Batch size = 16\n",
      "/root/.cache/pypoetry/virtualenvs/sequence-labeling-1mH2o5_I-py3.8/lib/python3.8/site-packages/transformers/models/deberta_v2/modeling_deberta_v2.py:745: UserWarning: To copy construct from a tensor, it is recommended to use sourceTensor.clone().detach() or sourceTensor.clone().detach().requires_grad_(True), rather than torch.tensor(sourceTensor).\n",
      "  attention_scores = torch.bmm(query_layer, key_layer.transpose(-1, -2)) / torch.tensor(\n",
      "/root/.cache/pypoetry/virtualenvs/sequence-labeling-1mH2o5_I-py3.8/lib/python3.8/site-packages/transformers/models/deberta_v2/modeling_deberta_v2.py:829: UserWarning: To copy construct from a tensor, it is recommended to use sourceTensor.clone().detach() or sourceTensor.clone().detach().requires_grad_(True), rather than torch.tensor(sourceTensor).\n",
      "  score += c2p_att / torch.tensor(scale, dtype=c2p_att.dtype)\n",
      "/root/.cache/pypoetry/virtualenvs/sequence-labeling-1mH2o5_I-py3.8/lib/python3.8/site-packages/transformers/models/deberta_v2/modeling_deberta_v2.py:852: UserWarning: To copy construct from a tensor, it is recommended to use sourceTensor.clone().detach() or sourceTensor.clone().detach().requires_grad_(True), rather than torch.tensor(sourceTensor).\n",
      "  score += p2c_att / torch.tensor(scale, dtype=p2c_att.dtype)\n"
     ]
    },
    {
     "data": {
      "text/html": [],
      "text/plain": [
       "<IPython.core.display.HTML object>"
      ]
     },
     "metadata": {},
     "output_type": "display_data"
    },
    {
     "data": {
      "text/plain": [
       "{'eval_loss': 0.2799668610095978,\n",
       " 'eval_precision': 0.8291694800810263,\n",
       " 'eval_recall': 0.9058156689183943,\n",
       " 'eval_f1': 0.8657995806816706,\n",
       " 'eval_accuracy': 0.9704236426623327,\n",
       " 'eval_runtime': 14.1252,\n",
       " 'eval_samples_per_second': 984.054,\n",
       " 'eval_steps_per_second': 61.521,\n",
       " 'epoch': 24.0}"
      ]
     },
     "execution_count": 31,
     "metadata": {},
     "output_type": "execute_result"
    }
   ],
   "source": [
    "trainer.evaluate()"
   ]
  },
  {
   "cell_type": "code",
   "execution_count": 32,
   "id": "a8a1a1c7-1631-41df-9b28-cc00a7849546",
   "metadata": {
    "execution": {
     "iopub.execute_input": "2022-10-07T18:27:49.885157Z",
     "iopub.status.busy": "2022-10-07T18:27:49.884988Z",
     "iopub.status.idle": "2022-10-07T18:28:08.262578Z",
     "shell.execute_reply": "2022-10-07T18:28:08.262114Z"
    },
    "papermill": {
     "duration": 18.390949,
     "end_time": "2022-10-07T18:28:08.263540",
     "exception": false,
     "start_time": "2022-10-07T18:27:49.872591",
     "status": "completed"
    },
    "tags": []
   },
   "outputs": [
    {
     "name": "stderr",
     "output_type": "stream",
     "text": [
      "The following columns in the test set don't have a corresponding argument in `DebertaV2ForTokenClassification.forward` and have been ignored: ner_tags, tokens. If ner_tags, tokens are not expected by `DebertaV2ForTokenClassification.forward`,  you can safely ignore this message.\n",
      "***** Running Prediction *****\n",
      "  Num examples = 13900\n",
      "  Batch size = 16\n"
     ]
    },
    {
     "data": {
      "text/plain": [
       "{'CARDINAL': {'precision': 0.7664041994750657,\n",
       "  'recall': 0.910467706013363,\n",
       "  'f1': 0.8322475570032574,\n",
       "  'number': 2245},\n",
       " 'DATE': {'precision': 0.827538247566064,\n",
       "  'recall': 0.8859440142942228,\n",
       "  'f1': 0.8557457212713937,\n",
       "  'number': 3358},\n",
       " 'EVENT': {'precision': 0.6162162162162163,\n",
       "  'recall': 0.5560975609756098,\n",
       "  'f1': 0.5846153846153848,\n",
       "  'number': 205},\n",
       " 'FAC': {'precision': 0.4329004329004329,\n",
       "  'recall': 0.6896551724137931,\n",
       "  'f1': 0.5319148936170213,\n",
       "  'number': 145},\n",
       " 'GPE': {'precision': 0.9003185310099306,\n",
       "  'recall': 0.9469846275128104,\n",
       "  'f1': 0.9230621458073192,\n",
       "  'number': 5074},\n",
       " 'LANGUAGE': {'precision': 0.6875,\n",
       "  'recall': 0.5789473684210527,\n",
       "  'f1': 0.6285714285714286,\n",
       "  'number': 38},\n",
       " 'LAW': {'precision': 0.5679012345679012,\n",
       "  'recall': 0.6666666666666666,\n",
       "  'f1': 0.6133333333333333,\n",
       "  'number': 69},\n",
       " 'LOC': {'precision': 0.6917960088691796,\n",
       "  'recall': 0.8062015503875969,\n",
       "  'f1': 0.7446300715990453,\n",
       "  'number': 387},\n",
       " 'MONEY': {'precision': 0.9142053445850914,\n",
       "  'recall': 0.9232954545454546,\n",
       "  'f1': 0.9187279151943462,\n",
       "  'number': 1408},\n",
       " 'NORP': {'precision': 0.8166449934980494,\n",
       "  'recall': 0.9114658925979681,\n",
       "  'f1': 0.8614540466392318,\n",
       "  'number': 1378},\n",
       " 'ORDINAL': {'precision': 0.7136258660508084,\n",
       "  'recall': 0.8351351351351352,\n",
       "  'f1': 0.7696139476961394,\n",
       "  'number': 370},\n",
       " 'ORG': {'precision': 0.8397448674506677,\n",
       "  'recall': 0.9119047619047619,\n",
       "  'f1': 0.8743384870810418,\n",
       "  'number': 4620},\n",
       " 'PERCENT': {'precision': 0.9394957983193277,\n",
       "  'recall': 0.9387069689336692,\n",
       "  'f1': 0.9391012179756405,\n",
       "  'number': 1191},\n",
       " 'PERSON': {'precision': 0.8619849357554276,\n",
       "  'recall': 0.962642256308758,\n",
       "  'f1': 0.9095371669004207,\n",
       "  'number': 4042},\n",
       " 'PRODUCT': {'precision': 0.41954022988505746,\n",
       "  'recall': 0.5347985347985348,\n",
       "  'f1': 0.47020933977455714,\n",
       "  'number': 273},\n",
       " 'QUANTITY': {'precision': 0.6915584415584416,\n",
       "  'recall': 0.7607142857142857,\n",
       "  'f1': 0.7244897959183674,\n",
       "  'number': 280},\n",
       " 'TIME': {'precision': 0.6538461538461539,\n",
       "  'recall': 0.7816091954022989,\n",
       "  'f1': 0.7120418848167539,\n",
       "  'number': 435},\n",
       " 'WORK_OF_ART': {'precision': 0.4740740740740741,\n",
       "  'recall': 0.5333333333333333,\n",
       "  'f1': 0.5019607843137255,\n",
       "  'number': 240},\n",
       " 'overall_precision': 0.8291694800810263,\n",
       " 'overall_recall': 0.9058156689183943,\n",
       " 'overall_f1': 0.8657995806816706,\n",
       " 'overall_accuracy': 0.9704236426623327}"
      ]
     },
     "execution_count": 32,
     "metadata": {},
     "output_type": "execute_result"
    }
   ],
   "source": [
    "predictions, labels, _ = trainer.predict(tokenized_datasets[\"validation\"])\n",
    "predictions = np.argmax(predictions, axis=2)\n",
    "\n",
    "# Remove ignored index (special tokens)\n",
    "true_predictions = [\n",
    "    [label_list[p] for (p, l) in zip(prediction, label) if l != -100]\n",
    "    for prediction, label in zip(predictions, labels)\n",
    "]\n",
    "true_labels = [\n",
    "    [label_list[l] for (p, l) in zip(prediction, label) if l != -100]\n",
    "    for prediction, label in zip(predictions, labels)\n",
    "]\n",
    "\n",
    "results = metric.compute(predictions=true_predictions, references=true_labels)\n",
    "results"
   ]
  },
  {
   "cell_type": "code",
   "execution_count": null,
   "id": "a093d215-8925-4718-a257-135ccd9ef643",
   "metadata": {
    "papermill": {
     "duration": 0.010484,
     "end_time": "2022-10-07T18:28:08.285066",
     "exception": false,
     "start_time": "2022-10-07T18:28:08.274582",
     "status": "completed"
    },
    "tags": []
   },
   "outputs": [],
   "source": []
  },
  {
   "cell_type": "code",
   "execution_count": null,
   "id": "a8040d60-3346-43b2-9a9e-2df299ce3dfb",
   "metadata": {
    "papermill": {
     "duration": 0.010463,
     "end_time": "2022-10-07T18:28:08.306045",
     "exception": false,
     "start_time": "2022-10-07T18:28:08.295582",
     "status": "completed"
    },
    "tags": []
   },
   "outputs": [],
   "source": []
  }
 ],
 "metadata": {
  "kernelspec": {
   "display_name": "Python 3 (ipykernel)",
   "language": "python",
   "name": "python3"
  },
  "language_info": {
   "codemirror_mode": {
    "name": "ipython",
    "version": 3
   },
   "file_extension": ".py",
   "mimetype": "text/x-python",
   "name": "python",
   "nbconvert_exporter": "python",
   "pygments_lexer": "ipython3",
   "version": "3.8.10"
  },
  "papermill": {
   "default_parameters": {},
   "duration": 4523.996503,
   "end_time": "2022-10-07T18:28:12.344255",
   "environment_variables": {},
   "exception": null,
   "input_path": "ner_model_train_step2_ontonotes.ipynb",
   "output_path": "ner_model_train_step2_saved_24epoch.ipynb",
   "parameters": {},
   "start_time": "2022-10-07T17:12:48.347752",
   "version": "2.4.0"
  },
  "widgets": {
   "application/vnd.jupyter.widget-state+json": {
    "state": {
     "0da19b2063ad46e6b40b2c387351234d": {
      "model_module": "@jupyter-widgets/base",
      "model_module_version": "2.0.0",
      "model_name": "LayoutModel",
      "state": {
       "_model_module": "@jupyter-widgets/base",
       "_model_module_version": "2.0.0",
       "_model_name": "LayoutModel",
       "_view_count": null,
       "_view_module": "@jupyter-widgets/base",
       "_view_module_version": "2.0.0",
       "_view_name": "LayoutView",
       "align_content": null,
       "align_items": null,
       "align_self": null,
       "border_bottom": null,
       "border_left": null,
       "border_right": null,
       "border_top": null,
       "bottom": null,
       "display": null,
       "flex": null,
       "flex_flow": null,
       "grid_area": null,
       "grid_auto_columns": null,
       "grid_auto_flow": null,
       "grid_auto_rows": null,
       "grid_column": null,
       "grid_gap": null,
       "grid_row": null,
       "grid_template_areas": null,
       "grid_template_columns": null,
       "grid_template_rows": null,
       "height": null,
       "justify_content": null,
       "justify_items": null,
       "left": null,
       "margin": null,
       "max_height": null,
       "max_width": null,
       "min_height": null,
       "min_width": null,
       "object_fit": null,
       "object_position": null,
       "order": null,
       "overflow": null,
       "padding": null,
       "right": null,
       "top": null,
       "visibility": null,
       "width": null
      }
     },
     "0f8b97ef8be54f4982a23bf92967151a": {
      "model_module": "@jupyter-widgets/base",
      "model_module_version": "2.0.0",
      "model_name": "LayoutModel",
      "state": {
       "_model_module": "@jupyter-widgets/base",
       "_model_module_version": "2.0.0",
       "_model_name": "LayoutModel",
       "_view_count": null,
       "_view_module": "@jupyter-widgets/base",
       "_view_module_version": "2.0.0",
       "_view_name": "LayoutView",
       "align_content": null,
       "align_items": null,
       "align_self": null,
       "border_bottom": null,
       "border_left": null,
       "border_right": null,
       "border_top": null,
       "bottom": null,
       "display": null,
       "flex": null,
       "flex_flow": null,
       "grid_area": null,
       "grid_auto_columns": null,
       "grid_auto_flow": null,
       "grid_auto_rows": null,
       "grid_column": null,
       "grid_gap": null,
       "grid_row": null,
       "grid_template_areas": null,
       "grid_template_columns": null,
       "grid_template_rows": null,
       "height": null,
       "justify_content": null,
       "justify_items": null,
       "left": null,
       "margin": null,
       "max_height": null,
       "max_width": null,
       "min_height": null,
       "min_width": null,
       "object_fit": null,
       "object_position": null,
       "order": null,
       "overflow": null,
       "padding": null,
       "right": null,
       "top": null,
       "visibility": null,
       "width": null
      }
     },
     "30d013d41d6846c99af31eaa298f6d66": {
      "model_module": "@jupyter-widgets/controls",
      "model_module_version": "2.0.0",
      "model_name": "ProgressStyleModel",
      "state": {
       "_model_module": "@jupyter-widgets/controls",
       "_model_module_version": "2.0.0",
       "_model_name": "ProgressStyleModel",
       "_view_count": null,
       "_view_module": "@jupyter-widgets/base",
       "_view_module_version": "2.0.0",
       "_view_name": "StyleView",
       "bar_color": null,
       "description_width": ""
      }
     },
     "747485bc335e4ba6b041f91e7c90ed52": {
      "model_module": "@jupyter-widgets/controls",
      "model_module_version": "2.0.0",
      "model_name": "FloatProgressModel",
      "state": {
       "_dom_classes": [],
       "_model_module": "@jupyter-widgets/controls",
       "_model_module_version": "2.0.0",
       "_model_name": "FloatProgressModel",
       "_view_count": null,
       "_view_module": "@jupyter-widgets/controls",
       "_view_module_version": "2.0.0",
       "_view_name": "ProgressView",
       "bar_style": "success",
       "description": "",
       "description_allow_html": false,
       "layout": "IPY_MODEL_f3fabca354ac46b2a7d782885129d487",
       "max": 3,
       "min": 0,
       "orientation": "horizontal",
       "style": "IPY_MODEL_30d013d41d6846c99af31eaa298f6d66",
       "tabbable": null,
       "tooltip": null,
       "value": 3
      }
     },
     "7d22009969a94a82b98772e80a46431c": {
      "model_module": "@jupyter-widgets/controls",
      "model_module_version": "2.0.0",
      "model_name": "HBoxModel",
      "state": {
       "_dom_classes": [],
       "_model_module": "@jupyter-widgets/controls",
       "_model_module_version": "2.0.0",
       "_model_name": "HBoxModel",
       "_view_count": null,
       "_view_module": "@jupyter-widgets/controls",
       "_view_module_version": "2.0.0",
       "_view_name": "HBoxView",
       "box_style": "",
       "children": [
        "IPY_MODEL_de9d9fd59db04d91b4155d467c946cea",
        "IPY_MODEL_747485bc335e4ba6b041f91e7c90ed52",
        "IPY_MODEL_e3c3ed288b3f49d0acbae26100e62971"
       ],
       "layout": "IPY_MODEL_0f8b97ef8be54f4982a23bf92967151a",
       "tabbable": null,
       "tooltip": null
      }
     },
     "89265d35e61b4e3188efbf728f32ef02": {
      "model_module": "@jupyter-widgets/base",
      "model_module_version": "2.0.0",
      "model_name": "LayoutModel",
      "state": {
       "_model_module": "@jupyter-widgets/base",
       "_model_module_version": "2.0.0",
       "_model_name": "LayoutModel",
       "_view_count": null,
       "_view_module": "@jupyter-widgets/base",
       "_view_module_version": "2.0.0",
       "_view_name": "LayoutView",
       "align_content": null,
       "align_items": null,
       "align_self": null,
       "border_bottom": null,
       "border_left": null,
       "border_right": null,
       "border_top": null,
       "bottom": null,
       "display": null,
       "flex": null,
       "flex_flow": null,
       "grid_area": null,
       "grid_auto_columns": null,
       "grid_auto_flow": null,
       "grid_auto_rows": null,
       "grid_column": null,
       "grid_gap": null,
       "grid_row": null,
       "grid_template_areas": null,
       "grid_template_columns": null,
       "grid_template_rows": null,
       "height": null,
       "justify_content": null,
       "justify_items": null,
       "left": null,
       "margin": null,
       "max_height": null,
       "max_width": null,
       "min_height": null,
       "min_width": null,
       "object_fit": null,
       "object_position": null,
       "order": null,
       "overflow": null,
       "padding": null,
       "right": null,
       "top": null,
       "visibility": null,
       "width": null
      }
     },
     "cae801f55cdd425e918239108075d064": {
      "model_module": "@jupyter-widgets/controls",
      "model_module_version": "2.0.0",
      "model_name": "HTMLStyleModel",
      "state": {
       "_model_module": "@jupyter-widgets/controls",
       "_model_module_version": "2.0.0",
       "_model_name": "HTMLStyleModel",
       "_view_count": null,
       "_view_module": "@jupyter-widgets/base",
       "_view_module_version": "2.0.0",
       "_view_name": "StyleView",
       "background": null,
       "description_width": "",
       "font_size": null,
       "text_color": null
      }
     },
     "de9d9fd59db04d91b4155d467c946cea": {
      "model_module": "@jupyter-widgets/controls",
      "model_module_version": "2.0.0",
      "model_name": "HTMLModel",
      "state": {
       "_dom_classes": [],
       "_model_module": "@jupyter-widgets/controls",
       "_model_module_version": "2.0.0",
       "_model_name": "HTMLModel",
       "_view_count": null,
       "_view_module": "@jupyter-widgets/controls",
       "_view_module_version": "2.0.0",
       "_view_name": "HTMLView",
       "description": "",
       "description_allow_html": false,
       "layout": "IPY_MODEL_0da19b2063ad46e6b40b2c387351234d",
       "placeholder": "​",
       "style": "IPY_MODEL_e77bd0375b4d4367acbc9609cb2d83ea",
       "tabbable": null,
       "tooltip": null,
       "value": "100%"
      }
     },
     "e3c3ed288b3f49d0acbae26100e62971": {
      "model_module": "@jupyter-widgets/controls",
      "model_module_version": "2.0.0",
      "model_name": "HTMLModel",
      "state": {
       "_dom_classes": [],
       "_model_module": "@jupyter-widgets/controls",
       "_model_module_version": "2.0.0",
       "_model_name": "HTMLModel",
       "_view_count": null,
       "_view_module": "@jupyter-widgets/controls",
       "_view_module_version": "2.0.0",
       "_view_name": "HTMLView",
       "description": "",
       "description_allow_html": false,
       "layout": "IPY_MODEL_89265d35e61b4e3188efbf728f32ef02",
       "placeholder": "​",
       "style": "IPY_MODEL_cae801f55cdd425e918239108075d064",
       "tabbable": null,
       "tooltip": null,
       "value": " 3/3 [00:00&lt;00:00, 191.08it/s]"
      }
     },
     "e77bd0375b4d4367acbc9609cb2d83ea": {
      "model_module": "@jupyter-widgets/controls",
      "model_module_version": "2.0.0",
      "model_name": "HTMLStyleModel",
      "state": {
       "_model_module": "@jupyter-widgets/controls",
       "_model_module_version": "2.0.0",
       "_model_name": "HTMLStyleModel",
       "_view_count": null,
       "_view_module": "@jupyter-widgets/base",
       "_view_module_version": "2.0.0",
       "_view_name": "StyleView",
       "background": null,
       "description_width": "",
       "font_size": null,
       "text_color": null
      }
     },
     "f3fabca354ac46b2a7d782885129d487": {
      "model_module": "@jupyter-widgets/base",
      "model_module_version": "2.0.0",
      "model_name": "LayoutModel",
      "state": {
       "_model_module": "@jupyter-widgets/base",
       "_model_module_version": "2.0.0",
       "_model_name": "LayoutModel",
       "_view_count": null,
       "_view_module": "@jupyter-widgets/base",
       "_view_module_version": "2.0.0",
       "_view_name": "LayoutView",
       "align_content": null,
       "align_items": null,
       "align_self": null,
       "border_bottom": null,
       "border_left": null,
       "border_right": null,
       "border_top": null,
       "bottom": null,
       "display": null,
       "flex": null,
       "flex_flow": null,
       "grid_area": null,
       "grid_auto_columns": null,
       "grid_auto_flow": null,
       "grid_auto_rows": null,
       "grid_column": null,
       "grid_gap": null,
       "grid_row": null,
       "grid_template_areas": null,
       "grid_template_columns": null,
       "grid_template_rows": null,
       "height": null,
       "justify_content": null,
       "justify_items": null,
       "left": null,
       "margin": null,
       "max_height": null,
       "max_width": null,
       "min_height": null,
       "min_width": null,
       "object_fit": null,
       "object_position": null,
       "order": null,
       "overflow": null,
       "padding": null,
       "right": null,
       "top": null,
       "visibility": null,
       "width": null
      }
     }
    },
    "version_major": 2,
    "version_minor": 0
   }
  }
 },
 "nbformat": 4,
 "nbformat_minor": 5
}
